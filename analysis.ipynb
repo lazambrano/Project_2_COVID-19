{
 "metadata": {
  "language_info": {
   "codemirror_mode": {
    "name": "ipython",
    "version": 3
   },
   "file_extension": ".py",
   "mimetype": "text/x-python",
   "name": "python",
   "nbconvert_exporter": "python",
   "pygments_lexer": "ipython3",
   "version": "3.6.10-final"
  },
  "orig_nbformat": 2,
  "kernelspec": {
   "name": "python3",
   "display_name": "Python 3"
  }
 },
 "nbformat": 4,
 "nbformat_minor": 2,
 "cells": [
  {
   "source": [
    "url: https://data.cdc.gov/Case-Surveillance/United-States-COVID-19-Cases-and-Deaths-by-State-o/9mfq-cb36"
   ],
   "cell_type": "markdown",
   "metadata": {}
  },
  {
   "cell_type": "code",
   "execution_count": 115,
   "metadata": {},
   "outputs": [],
   "source": [
    "import pandas as pd\n",
    "import datetime as dt\n"
   ]
  },
  {
   "cell_type": "code",
   "execution_count": 116,
   "metadata": {},
   "outputs": [
    {
     "output_type": "execute_result",
     "data": {
      "text/plain": [
       "  submission_date state  tot_cases  conf_cases  prob_cases  new_case  \\\n",
       "0      01/22/2020    CO          0         NaN         NaN         0   \n",
       "1      01/23/2020    CO          0         NaN         NaN         0   \n",
       "2      01/24/2020    CO          0         NaN         NaN         0   \n",
       "3      01/25/2020    CO          0         NaN         NaN         0   \n",
       "4      01/26/2020    CO          0         NaN         NaN         0   \n",
       "\n",
       "   pnew_case  tot_death  conf_death  prob_death  new_death  pnew_death  \\\n",
       "0        NaN          0         NaN         NaN          0         NaN   \n",
       "1        NaN          0         NaN         NaN          0         NaN   \n",
       "2        NaN          0         NaN         NaN          0         NaN   \n",
       "3        NaN          0         NaN         NaN          0         NaN   \n",
       "4        NaN          0         NaN         NaN          0         NaN   \n",
       "\n",
       "               created_at consent_cases consent_deaths  \n",
       "0  03/26/2020 04:22:39 PM         Agree          Agree  \n",
       "1  03/26/2020 04:22:39 PM         Agree          Agree  \n",
       "2  03/26/2020 04:22:39 PM         Agree          Agree  \n",
       "3  03/26/2020 04:22:39 PM         Agree          Agree  \n",
       "4  03/26/2020 04:22:39 PM         Agree          Agree  "
      ],
      "text/html": "<div>\n<style scoped>\n    .dataframe tbody tr th:only-of-type {\n        vertical-align: middle;\n    }\n\n    .dataframe tbody tr th {\n        vertical-align: top;\n    }\n\n    .dataframe thead th {\n        text-align: right;\n    }\n</style>\n<table border=\"1\" class=\"dataframe\">\n  <thead>\n    <tr style=\"text-align: right;\">\n      <th></th>\n      <th>submission_date</th>\n      <th>state</th>\n      <th>tot_cases</th>\n      <th>conf_cases</th>\n      <th>prob_cases</th>\n      <th>new_case</th>\n      <th>pnew_case</th>\n      <th>tot_death</th>\n      <th>conf_death</th>\n      <th>prob_death</th>\n      <th>new_death</th>\n      <th>pnew_death</th>\n      <th>created_at</th>\n      <th>consent_cases</th>\n      <th>consent_deaths</th>\n    </tr>\n  </thead>\n  <tbody>\n    <tr>\n      <th>0</th>\n      <td>01/22/2020</td>\n      <td>CO</td>\n      <td>0</td>\n      <td>NaN</td>\n      <td>NaN</td>\n      <td>0</td>\n      <td>NaN</td>\n      <td>0</td>\n      <td>NaN</td>\n      <td>NaN</td>\n      <td>0</td>\n      <td>NaN</td>\n      <td>03/26/2020 04:22:39 PM</td>\n      <td>Agree</td>\n      <td>Agree</td>\n    </tr>\n    <tr>\n      <th>1</th>\n      <td>01/23/2020</td>\n      <td>CO</td>\n      <td>0</td>\n      <td>NaN</td>\n      <td>NaN</td>\n      <td>0</td>\n      <td>NaN</td>\n      <td>0</td>\n      <td>NaN</td>\n      <td>NaN</td>\n      <td>0</td>\n      <td>NaN</td>\n      <td>03/26/2020 04:22:39 PM</td>\n      <td>Agree</td>\n      <td>Agree</td>\n    </tr>\n    <tr>\n      <th>2</th>\n      <td>01/24/2020</td>\n      <td>CO</td>\n      <td>0</td>\n      <td>NaN</td>\n      <td>NaN</td>\n      <td>0</td>\n      <td>NaN</td>\n      <td>0</td>\n      <td>NaN</td>\n      <td>NaN</td>\n      <td>0</td>\n      <td>NaN</td>\n      <td>03/26/2020 04:22:39 PM</td>\n      <td>Agree</td>\n      <td>Agree</td>\n    </tr>\n    <tr>\n      <th>3</th>\n      <td>01/25/2020</td>\n      <td>CO</td>\n      <td>0</td>\n      <td>NaN</td>\n      <td>NaN</td>\n      <td>0</td>\n      <td>NaN</td>\n      <td>0</td>\n      <td>NaN</td>\n      <td>NaN</td>\n      <td>0</td>\n      <td>NaN</td>\n      <td>03/26/2020 04:22:39 PM</td>\n      <td>Agree</td>\n      <td>Agree</td>\n    </tr>\n    <tr>\n      <th>4</th>\n      <td>01/26/2020</td>\n      <td>CO</td>\n      <td>0</td>\n      <td>NaN</td>\n      <td>NaN</td>\n      <td>0</td>\n      <td>NaN</td>\n      <td>0</td>\n      <td>NaN</td>\n      <td>NaN</td>\n      <td>0</td>\n      <td>NaN</td>\n      <td>03/26/2020 04:22:39 PM</td>\n      <td>Agree</td>\n      <td>Agree</td>\n    </tr>\n  </tbody>\n</table>\n</div>"
     },
     "metadata": {},
     "execution_count": 116
    }
   ],
   "source": [
    "file = \"data/US_COVID-19_Cases.csv\"\n",
    "covid_df = pd.read_csv(file)\n",
    "covid_df.head()"
   ]
  },
  {
   "cell_type": "code",
   "execution_count": 134,
   "metadata": {},
   "outputs": [
    {
     "output_type": "execute_result",
     "data": {
      "text/plain": [
       "  state     tot_cases    tot_death  Total_recovered\n",
       "0    AK   2916.114187    21.346021      2894.768166\n",
       "1    AL  59294.768166  1074.408304     58220.359862\n",
       "2    AR  31101.352941   462.674740     30638.678201\n",
       "3    AS      0.000000     0.000000         0.000000\n",
       "4    AZ  92068.069204  2252.785467     89815.283737"
      ],
      "text/html": "<div>\n<style scoped>\n    .dataframe tbody tr th:only-of-type {\n        vertical-align: middle;\n    }\n\n    .dataframe tbody tr th {\n        vertical-align: top;\n    }\n\n    .dataframe thead th {\n        text-align: right;\n    }\n</style>\n<table border=\"1\" class=\"dataframe\">\n  <thead>\n    <tr style=\"text-align: right;\">\n      <th></th>\n      <th>state</th>\n      <th>tot_cases</th>\n      <th>tot_death</th>\n      <th>Total_recovered</th>\n    </tr>\n  </thead>\n  <tbody>\n    <tr>\n      <th>0</th>\n      <td>AK</td>\n      <td>2916.114187</td>\n      <td>21.346021</td>\n      <td>2894.768166</td>\n    </tr>\n    <tr>\n      <th>1</th>\n      <td>AL</td>\n      <td>59294.768166</td>\n      <td>1074.408304</td>\n      <td>58220.359862</td>\n    </tr>\n    <tr>\n      <th>2</th>\n      <td>AR</td>\n      <td>31101.352941</td>\n      <td>462.674740</td>\n      <td>30638.678201</td>\n    </tr>\n    <tr>\n      <th>3</th>\n      <td>AS</td>\n      <td>0.000000</td>\n      <td>0.000000</td>\n      <td>0.000000</td>\n    </tr>\n    <tr>\n      <th>4</th>\n      <td>AZ</td>\n      <td>92068.069204</td>\n      <td>2252.785467</td>\n      <td>89815.283737</td>\n    </tr>\n  </tbody>\n</table>\n</div>"
     },
     "metadata": {},
     "execution_count": 134
    }
   ],
   "source": [
    "state_df = covid_df.groupby('state').mean().reset_index()\n",
    "state_df.head()"
   ]
  },
  {
   "cell_type": "code",
   "execution_count": 117,
   "metadata": {},
   "outputs": [
    {
     "output_type": "execute_result",
     "data": {
      "text/plain": [
       "  submission_date state  tot_cases  tot_death\n",
       "0      01/22/2020    CO          0          0\n",
       "1      01/23/2020    CO          0          0\n",
       "2      01/24/2020    CO          0          0\n",
       "3      01/25/2020    CO          0          0\n",
       "4      01/26/2020    CO          0          0"
      ],
      "text/html": "<div>\n<style scoped>\n    .dataframe tbody tr th:only-of-type {\n        vertical-align: middle;\n    }\n\n    .dataframe tbody tr th {\n        vertical-align: top;\n    }\n\n    .dataframe thead th {\n        text-align: right;\n    }\n</style>\n<table border=\"1\" class=\"dataframe\">\n  <thead>\n    <tr style=\"text-align: right;\">\n      <th></th>\n      <th>submission_date</th>\n      <th>state</th>\n      <th>tot_cases</th>\n      <th>tot_death</th>\n    </tr>\n  </thead>\n  <tbody>\n    <tr>\n      <th>0</th>\n      <td>01/22/2020</td>\n      <td>CO</td>\n      <td>0</td>\n      <td>0</td>\n    </tr>\n    <tr>\n      <th>1</th>\n      <td>01/23/2020</td>\n      <td>CO</td>\n      <td>0</td>\n      <td>0</td>\n    </tr>\n    <tr>\n      <th>2</th>\n      <td>01/24/2020</td>\n      <td>CO</td>\n      <td>0</td>\n      <td>0</td>\n    </tr>\n    <tr>\n      <th>3</th>\n      <td>01/25/2020</td>\n      <td>CO</td>\n      <td>0</td>\n      <td>0</td>\n    </tr>\n    <tr>\n      <th>4</th>\n      <td>01/26/2020</td>\n      <td>CO</td>\n      <td>0</td>\n      <td>0</td>\n    </tr>\n  </tbody>\n</table>\n</div>"
     },
     "metadata": {},
     "execution_count": 117
    }
   ],
   "source": [
    "covid_df = covid_df[[\"submission_date\", \"state\", \"tot_cases\", \"tot_death\"]]\n",
    "covid_df.head()"
   ]
  },
  {
   "cell_type": "code",
   "execution_count": 118,
   "metadata": {},
   "outputs": [
    {
     "output_type": "execute_result",
     "data": {
      "text/plain": [
       "  submission_date state  tot_cases  tot_death  Total_recovered\n",
       "0      01/22/2020    CO          0          0                0\n",
       "1      01/23/2020    CO          0          0                0\n",
       "2      01/24/2020    CO          0          0                0\n",
       "3      01/25/2020    CO          0          0                0\n",
       "4      01/26/2020    CO          0          0                0"
      ],
      "text/html": "<div>\n<style scoped>\n    .dataframe tbody tr th:only-of-type {\n        vertical-align: middle;\n    }\n\n    .dataframe tbody tr th {\n        vertical-align: top;\n    }\n\n    .dataframe thead th {\n        text-align: right;\n    }\n</style>\n<table border=\"1\" class=\"dataframe\">\n  <thead>\n    <tr style=\"text-align: right;\">\n      <th></th>\n      <th>submission_date</th>\n      <th>state</th>\n      <th>tot_cases</th>\n      <th>tot_death</th>\n      <th>Total_recovered</th>\n    </tr>\n  </thead>\n  <tbody>\n    <tr>\n      <th>0</th>\n      <td>01/22/2020</td>\n      <td>CO</td>\n      <td>0</td>\n      <td>0</td>\n      <td>0</td>\n    </tr>\n    <tr>\n      <th>1</th>\n      <td>01/23/2020</td>\n      <td>CO</td>\n      <td>0</td>\n      <td>0</td>\n      <td>0</td>\n    </tr>\n    <tr>\n      <th>2</th>\n      <td>01/24/2020</td>\n      <td>CO</td>\n      <td>0</td>\n      <td>0</td>\n      <td>0</td>\n    </tr>\n    <tr>\n      <th>3</th>\n      <td>01/25/2020</td>\n      <td>CO</td>\n      <td>0</td>\n      <td>0</td>\n      <td>0</td>\n    </tr>\n    <tr>\n      <th>4</th>\n      <td>01/26/2020</td>\n      <td>CO</td>\n      <td>0</td>\n      <td>0</td>\n      <td>0</td>\n    </tr>\n  </tbody>\n</table>\n</div>"
     },
     "metadata": {},
     "execution_count": 118
    }
   ],
   "source": [
    "covid_df[\"Total_recovered\"] = covid_df.tot_cases - covid_df.tot_death\n",
    "covid_df.head()"
   ]
  },
  {
   "cell_type": "code",
   "execution_count": 119,
   "metadata": {},
   "outputs": [
    {
     "output_type": "execute_result",
     "data": {
      "text/plain": [
       "  submission_date state  tot_cases  tot_death  Total_recovered     date\n",
       "0      01/22/2020    CO          0          0                0  2020-01\n",
       "1      01/23/2020    CO          0          0                0  2020-01\n",
       "2      01/24/2020    CO          0          0                0  2020-01\n",
       "3      01/25/2020    CO          0          0                0  2020-01\n",
       "4      01/26/2020    CO          0          0                0  2020-01"
      ],
      "text/html": "<div>\n<style scoped>\n    .dataframe tbody tr th:only-of-type {\n        vertical-align: middle;\n    }\n\n    .dataframe tbody tr th {\n        vertical-align: top;\n    }\n\n    .dataframe thead th {\n        text-align: right;\n    }\n</style>\n<table border=\"1\" class=\"dataframe\">\n  <thead>\n    <tr style=\"text-align: right;\">\n      <th></th>\n      <th>submission_date</th>\n      <th>state</th>\n      <th>tot_cases</th>\n      <th>tot_death</th>\n      <th>Total_recovered</th>\n      <th>date</th>\n    </tr>\n  </thead>\n  <tbody>\n    <tr>\n      <th>0</th>\n      <td>01/22/2020</td>\n      <td>CO</td>\n      <td>0</td>\n      <td>0</td>\n      <td>0</td>\n      <td>2020-01</td>\n    </tr>\n    <tr>\n      <th>1</th>\n      <td>01/23/2020</td>\n      <td>CO</td>\n      <td>0</td>\n      <td>0</td>\n      <td>0</td>\n      <td>2020-01</td>\n    </tr>\n    <tr>\n      <th>2</th>\n      <td>01/24/2020</td>\n      <td>CO</td>\n      <td>0</td>\n      <td>0</td>\n      <td>0</td>\n      <td>2020-01</td>\n    </tr>\n    <tr>\n      <th>3</th>\n      <td>01/25/2020</td>\n      <td>CO</td>\n      <td>0</td>\n      <td>0</td>\n      <td>0</td>\n      <td>2020-01</td>\n    </tr>\n    <tr>\n      <th>4</th>\n      <td>01/26/2020</td>\n      <td>CO</td>\n      <td>0</td>\n      <td>0</td>\n      <td>0</td>\n      <td>2020-01</td>\n    </tr>\n  </tbody>\n</table>\n</div>"
     },
     "metadata": {},
     "execution_count": 119
    }
   ],
   "source": [
    "covid_df['date'] = pd.to_datetime(covid_df['submission_date']).dt.to_period('M')\n",
    "covid_df.head()"
   ]
  },
  {
   "cell_type": "code",
   "execution_count": 126,
   "metadata": {},
   "outputs": [
    {
     "output_type": "execute_result",
     "data": {
      "text/plain": [
       "        date state  tot_cases  tot_death  Total_recovered\n",
       "0    2020-01    AK        0.0        0.0              0.0\n",
       "1    2020-01    AL        0.0        0.0              0.0\n",
       "2    2020-01    AR        0.0        0.0              0.0\n",
       "3    2020-01    AS        0.0        0.0              0.0\n",
       "4    2020-01    AZ        0.6        0.0              0.6\n",
       "..       ...   ...        ...        ...              ...\n",
       "655  2020-11    VT     2247.2       58.0           2189.2\n",
       "656  2020-11    WA   110342.0     2398.2         107943.8\n",
       "657  2020-11    WI   251648.2     2178.4         249469.8\n",
       "658  2020-11    WV    25649.0      467.2          25181.8\n",
       "659  2020-11    WY    14592.4       95.4          14497.0\n",
       "\n",
       "[660 rows x 5 columns]"
      ],
      "text/html": "<div>\n<style scoped>\n    .dataframe tbody tr th:only-of-type {\n        vertical-align: middle;\n    }\n\n    .dataframe tbody tr th {\n        vertical-align: top;\n    }\n\n    .dataframe thead th {\n        text-align: right;\n    }\n</style>\n<table border=\"1\" class=\"dataframe\">\n  <thead>\n    <tr style=\"text-align: right;\">\n      <th></th>\n      <th>date</th>\n      <th>state</th>\n      <th>tot_cases</th>\n      <th>tot_death</th>\n      <th>Total_recovered</th>\n    </tr>\n  </thead>\n  <tbody>\n    <tr>\n      <th>0</th>\n      <td>2020-01</td>\n      <td>AK</td>\n      <td>0.0</td>\n      <td>0.0</td>\n      <td>0.0</td>\n    </tr>\n    <tr>\n      <th>1</th>\n      <td>2020-01</td>\n      <td>AL</td>\n      <td>0.0</td>\n      <td>0.0</td>\n      <td>0.0</td>\n    </tr>\n    <tr>\n      <th>2</th>\n      <td>2020-01</td>\n      <td>AR</td>\n      <td>0.0</td>\n      <td>0.0</td>\n      <td>0.0</td>\n    </tr>\n    <tr>\n      <th>3</th>\n      <td>2020-01</td>\n      <td>AS</td>\n      <td>0.0</td>\n      <td>0.0</td>\n      <td>0.0</td>\n    </tr>\n    <tr>\n      <th>4</th>\n      <td>2020-01</td>\n      <td>AZ</td>\n      <td>0.6</td>\n      <td>0.0</td>\n      <td>0.6</td>\n    </tr>\n    <tr>\n      <th>...</th>\n      <td>...</td>\n      <td>...</td>\n      <td>...</td>\n      <td>...</td>\n      <td>...</td>\n    </tr>\n    <tr>\n      <th>655</th>\n      <td>2020-11</td>\n      <td>VT</td>\n      <td>2247.2</td>\n      <td>58.0</td>\n      <td>2189.2</td>\n    </tr>\n    <tr>\n      <th>656</th>\n      <td>2020-11</td>\n      <td>WA</td>\n      <td>110342.0</td>\n      <td>2398.2</td>\n      <td>107943.8</td>\n    </tr>\n    <tr>\n      <th>657</th>\n      <td>2020-11</td>\n      <td>WI</td>\n      <td>251648.2</td>\n      <td>2178.4</td>\n      <td>249469.8</td>\n    </tr>\n    <tr>\n      <th>658</th>\n      <td>2020-11</td>\n      <td>WV</td>\n      <td>25649.0</td>\n      <td>467.2</td>\n      <td>25181.8</td>\n    </tr>\n    <tr>\n      <th>659</th>\n      <td>2020-11</td>\n      <td>WY</td>\n      <td>14592.4</td>\n      <td>95.4</td>\n      <td>14497.0</td>\n    </tr>\n  </tbody>\n</table>\n<p>660 rows × 5 columns</p>\n</div>"
     },
     "metadata": {},
     "execution_count": 126
    }
   ],
   "source": [
    "covid_monthly_df = covid_df.groupby([\"date\", \"state\"]).mean().reset_index()\n",
    "covid_monthly_df"
   ]
  },
  {
   "cell_type": "code",
   "execution_count": 127,
   "metadata": {},
   "outputs": [
    {
     "output_type": "execute_result",
     "data": {
      "text/plain": [
       "        date State  Average_cases  Average_death  Average_recovery\n",
       "0    2020-01    AK            0.0            0.0               0.0\n",
       "1    2020-01    AL            0.0            0.0               0.0\n",
       "2    2020-01    AR            0.0            0.0               0.0\n",
       "3    2020-01    AS            0.0            0.0               0.0\n",
       "4    2020-01    AZ            0.6            0.0               0.6\n",
       "..       ...   ...            ...            ...               ...\n",
       "655  2020-11    VT         2247.2           58.0            2189.2\n",
       "656  2020-11    WA       110342.0         2398.2          107943.8\n",
       "657  2020-11    WI       251648.2         2178.4          249469.8\n",
       "658  2020-11    WV        25649.0          467.2           25181.8\n",
       "659  2020-11    WY        14592.4           95.4           14497.0\n",
       "\n",
       "[660 rows x 5 columns]"
      ],
      "text/html": "<div>\n<style scoped>\n    .dataframe tbody tr th:only-of-type {\n        vertical-align: middle;\n    }\n\n    .dataframe tbody tr th {\n        vertical-align: top;\n    }\n\n    .dataframe thead th {\n        text-align: right;\n    }\n</style>\n<table border=\"1\" class=\"dataframe\">\n  <thead>\n    <tr style=\"text-align: right;\">\n      <th></th>\n      <th>date</th>\n      <th>State</th>\n      <th>Average_cases</th>\n      <th>Average_death</th>\n      <th>Average_recovery</th>\n    </tr>\n  </thead>\n  <tbody>\n    <tr>\n      <th>0</th>\n      <td>2020-01</td>\n      <td>AK</td>\n      <td>0.0</td>\n      <td>0.0</td>\n      <td>0.0</td>\n    </tr>\n    <tr>\n      <th>1</th>\n      <td>2020-01</td>\n      <td>AL</td>\n      <td>0.0</td>\n      <td>0.0</td>\n      <td>0.0</td>\n    </tr>\n    <tr>\n      <th>2</th>\n      <td>2020-01</td>\n      <td>AR</td>\n      <td>0.0</td>\n      <td>0.0</td>\n      <td>0.0</td>\n    </tr>\n    <tr>\n      <th>3</th>\n      <td>2020-01</td>\n      <td>AS</td>\n      <td>0.0</td>\n      <td>0.0</td>\n      <td>0.0</td>\n    </tr>\n    <tr>\n      <th>4</th>\n      <td>2020-01</td>\n      <td>AZ</td>\n      <td>0.6</td>\n      <td>0.0</td>\n      <td>0.6</td>\n    </tr>\n    <tr>\n      <th>...</th>\n      <td>...</td>\n      <td>...</td>\n      <td>...</td>\n      <td>...</td>\n      <td>...</td>\n    </tr>\n    <tr>\n      <th>655</th>\n      <td>2020-11</td>\n      <td>VT</td>\n      <td>2247.2</td>\n      <td>58.0</td>\n      <td>2189.2</td>\n    </tr>\n    <tr>\n      <th>656</th>\n      <td>2020-11</td>\n      <td>WA</td>\n      <td>110342.0</td>\n      <td>2398.2</td>\n      <td>107943.8</td>\n    </tr>\n    <tr>\n      <th>657</th>\n      <td>2020-11</td>\n      <td>WI</td>\n      <td>251648.2</td>\n      <td>2178.4</td>\n      <td>249469.8</td>\n    </tr>\n    <tr>\n      <th>658</th>\n      <td>2020-11</td>\n      <td>WV</td>\n      <td>25649.0</td>\n      <td>467.2</td>\n      <td>25181.8</td>\n    </tr>\n    <tr>\n      <th>659</th>\n      <td>2020-11</td>\n      <td>WY</td>\n      <td>14592.4</td>\n      <td>95.4</td>\n      <td>14497.0</td>\n    </tr>\n  </tbody>\n</table>\n<p>660 rows × 5 columns</p>\n</div>"
     },
     "metadata": {},
     "execution_count": 127
    }
   ],
   "source": [
    "covid_monthly_df = covid_monthly_df.rename(columns={\"state\": \"State\", \"tot_cases\": \"Average_cases\", \"tot_death\": \"Average_death\", \"Total_recovered\": \"Average_recovery\"})\n",
    "covid_monthly_df"
   ]
  },
  {
   "cell_type": "code",
   "execution_count": 128,
   "metadata": {},
   "outputs": [
    {
     "output_type": "execute_result",
     "data": {
      "text/plain": [
       "        date State  Average_cases  Average_death  Average_recovery  \\\n",
       "0    2020-01    AK            0.0            0.0               0.0   \n",
       "1    2020-01    AL            0.0            0.0               0.0   \n",
       "2    2020-01    AR            0.0            0.0               0.0   \n",
       "3    2020-01    AS            0.0            0.0               0.0   \n",
       "4    2020-01    AZ            0.6            0.0               0.6   \n",
       "..       ...   ...            ...            ...               ...   \n",
       "655  2020-11    VT         2247.2           58.0            2189.2   \n",
       "656  2020-11    WA       110342.0         2398.2          107943.8   \n",
       "657  2020-11    WI       251648.2         2178.4          249469.8   \n",
       "658  2020-11    WV        25649.0          467.2           25181.8   \n",
       "659  2020-11    WY        14592.4           95.4           14497.0   \n",
       "\n",
       "     Death_percent  Recovery_percent  \n",
       "0              NaN               NaN  \n",
       "1              NaN               NaN  \n",
       "2              NaN               NaN  \n",
       "3              NaN               NaN  \n",
       "4         0.000000        100.000000  \n",
       "..             ...               ...  \n",
       "655       2.580990         97.419010  \n",
       "656       2.173424         97.826576  \n",
       "657       0.865653         99.134347  \n",
       "658       1.821514         98.178486  \n",
       "659       0.653765         99.346235  \n",
       "\n",
       "[660 rows x 7 columns]"
      ],
      "text/html": "<div>\n<style scoped>\n    .dataframe tbody tr th:only-of-type {\n        vertical-align: middle;\n    }\n\n    .dataframe tbody tr th {\n        vertical-align: top;\n    }\n\n    .dataframe thead th {\n        text-align: right;\n    }\n</style>\n<table border=\"1\" class=\"dataframe\">\n  <thead>\n    <tr style=\"text-align: right;\">\n      <th></th>\n      <th>date</th>\n      <th>State</th>\n      <th>Average_cases</th>\n      <th>Average_death</th>\n      <th>Average_recovery</th>\n      <th>Death_percent</th>\n      <th>Recovery_percent</th>\n    </tr>\n  </thead>\n  <tbody>\n    <tr>\n      <th>0</th>\n      <td>2020-01</td>\n      <td>AK</td>\n      <td>0.0</td>\n      <td>0.0</td>\n      <td>0.0</td>\n      <td>NaN</td>\n      <td>NaN</td>\n    </tr>\n    <tr>\n      <th>1</th>\n      <td>2020-01</td>\n      <td>AL</td>\n      <td>0.0</td>\n      <td>0.0</td>\n      <td>0.0</td>\n      <td>NaN</td>\n      <td>NaN</td>\n    </tr>\n    <tr>\n      <th>2</th>\n      <td>2020-01</td>\n      <td>AR</td>\n      <td>0.0</td>\n      <td>0.0</td>\n      <td>0.0</td>\n      <td>NaN</td>\n      <td>NaN</td>\n    </tr>\n    <tr>\n      <th>3</th>\n      <td>2020-01</td>\n      <td>AS</td>\n      <td>0.0</td>\n      <td>0.0</td>\n      <td>0.0</td>\n      <td>NaN</td>\n      <td>NaN</td>\n    </tr>\n    <tr>\n      <th>4</th>\n      <td>2020-01</td>\n      <td>AZ</td>\n      <td>0.6</td>\n      <td>0.0</td>\n      <td>0.6</td>\n      <td>0.000000</td>\n      <td>100.000000</td>\n    </tr>\n    <tr>\n      <th>...</th>\n      <td>...</td>\n      <td>...</td>\n      <td>...</td>\n      <td>...</td>\n      <td>...</td>\n      <td>...</td>\n      <td>...</td>\n    </tr>\n    <tr>\n      <th>655</th>\n      <td>2020-11</td>\n      <td>VT</td>\n      <td>2247.2</td>\n      <td>58.0</td>\n      <td>2189.2</td>\n      <td>2.580990</td>\n      <td>97.419010</td>\n    </tr>\n    <tr>\n      <th>656</th>\n      <td>2020-11</td>\n      <td>WA</td>\n      <td>110342.0</td>\n      <td>2398.2</td>\n      <td>107943.8</td>\n      <td>2.173424</td>\n      <td>97.826576</td>\n    </tr>\n    <tr>\n      <th>657</th>\n      <td>2020-11</td>\n      <td>WI</td>\n      <td>251648.2</td>\n      <td>2178.4</td>\n      <td>249469.8</td>\n      <td>0.865653</td>\n      <td>99.134347</td>\n    </tr>\n    <tr>\n      <th>658</th>\n      <td>2020-11</td>\n      <td>WV</td>\n      <td>25649.0</td>\n      <td>467.2</td>\n      <td>25181.8</td>\n      <td>1.821514</td>\n      <td>98.178486</td>\n    </tr>\n    <tr>\n      <th>659</th>\n      <td>2020-11</td>\n      <td>WY</td>\n      <td>14592.4</td>\n      <td>95.4</td>\n      <td>14497.0</td>\n      <td>0.653765</td>\n      <td>99.346235</td>\n    </tr>\n  </tbody>\n</table>\n<p>660 rows × 7 columns</p>\n</div>"
     },
     "metadata": {},
     "execution_count": 128
    }
   ],
   "source": [
    "covid_monthly_df['Death_percent'] = (covid_monthly_df.Average_death/covid_monthly_df.Average_cases)*100\n",
    "covid_monthly_df['Recovery_percent'] = (covid_monthly_df.Average_recovery/covid_monthly_df.Average_cases)*100\n",
    "covid_monthly_df"
   ]
  },
  {
   "cell_type": "code",
   "execution_count": 129,
   "metadata": {},
   "outputs": [
    {
     "output_type": "execute_result",
     "data": {
      "text/plain": [
       "  State/Territory  Total Cases  Confirmed Cases  Probable Cases  \\\n",
       "0          Alaska        17072              NaN             NaN   \n",
       "1         Alabama       199158         169266.0         29892.0   \n",
       "2        Arkansas       117360              NaN             NaN   \n",
       "3  American Samoa            0              NaN             NaN   \n",
       "4         Arizona       252768         246468.0          6300.0   \n",
       "\n",
       "   Cases in Last 7 Days  Case Rate per 100000  Total Deaths  Confirmed Deaths  \\\n",
       "0                  2616                  2315            84               NaN   \n",
       "1                 10009                  4074          3026            2818.0   \n",
       "2                  7648                  3894          2037               NaN   \n",
       "3                     0                     0             0               NaN   \n",
       "4                 10288                  3524          6087            5707.0   \n",
       "\n",
       "   Probable Deaths  Deaths in Last 7 Days  Death Rate per 100000  \\\n",
       "0              NaN                      7                     11   \n",
       "1            208.0                    112                     61   \n",
       "2              NaN                    143                     67   \n",
       "3              NaN                      0                      0   \n",
       "4            380.0                    169                     84   \n",
       "\n",
       "   Case Rate per 100000 in Last 7 Days  Death Rate per 100K in Last 7 Days  \n",
       "0                                 50.7                                 0.1  \n",
       "1                                 29.3                                 0.3  \n",
       "2                                 36.3                                 0.7  \n",
       "3                                  0.0                                 0.0  \n",
       "4                                 20.5                                 0.3  "
      ],
      "text/html": "<div>\n<style scoped>\n    .dataframe tbody tr th:only-of-type {\n        vertical-align: middle;\n    }\n\n    .dataframe tbody tr th {\n        vertical-align: top;\n    }\n\n    .dataframe thead th {\n        text-align: right;\n    }\n</style>\n<table border=\"1\" class=\"dataframe\">\n  <thead>\n    <tr style=\"text-align: right;\">\n      <th></th>\n      <th>State/Territory</th>\n      <th>Total Cases</th>\n      <th>Confirmed Cases</th>\n      <th>Probable Cases</th>\n      <th>Cases in Last 7 Days</th>\n      <th>Case Rate per 100000</th>\n      <th>Total Deaths</th>\n      <th>Confirmed Deaths</th>\n      <th>Probable Deaths</th>\n      <th>Deaths in Last 7 Days</th>\n      <th>Death Rate per 100000</th>\n      <th>Case Rate per 100000 in Last 7 Days</th>\n      <th>Death Rate per 100K in Last 7 Days</th>\n    </tr>\n  </thead>\n  <tbody>\n    <tr>\n      <th>0</th>\n      <td>Alaska</td>\n      <td>17072</td>\n      <td>NaN</td>\n      <td>NaN</td>\n      <td>2616</td>\n      <td>2315</td>\n      <td>84</td>\n      <td>NaN</td>\n      <td>NaN</td>\n      <td>7</td>\n      <td>11</td>\n      <td>50.7</td>\n      <td>0.1</td>\n    </tr>\n    <tr>\n      <th>1</th>\n      <td>Alabama</td>\n      <td>199158</td>\n      <td>169266.0</td>\n      <td>29892.0</td>\n      <td>10009</td>\n      <td>4074</td>\n      <td>3026</td>\n      <td>2818.0</td>\n      <td>208.0</td>\n      <td>112</td>\n      <td>61</td>\n      <td>29.3</td>\n      <td>0.3</td>\n    </tr>\n    <tr>\n      <th>2</th>\n      <td>Arkansas</td>\n      <td>117360</td>\n      <td>NaN</td>\n      <td>NaN</td>\n      <td>7648</td>\n      <td>3894</td>\n      <td>2037</td>\n      <td>NaN</td>\n      <td>NaN</td>\n      <td>143</td>\n      <td>67</td>\n      <td>36.3</td>\n      <td>0.7</td>\n    </tr>\n    <tr>\n      <th>3</th>\n      <td>American Samoa</td>\n      <td>0</td>\n      <td>NaN</td>\n      <td>NaN</td>\n      <td>0</td>\n      <td>0</td>\n      <td>0</td>\n      <td>NaN</td>\n      <td>NaN</td>\n      <td>0</td>\n      <td>0</td>\n      <td>0.0</td>\n      <td>0.0</td>\n    </tr>\n    <tr>\n      <th>4</th>\n      <td>Arizona</td>\n      <td>252768</td>\n      <td>246468.0</td>\n      <td>6300.0</td>\n      <td>10288</td>\n      <td>3524</td>\n      <td>6087</td>\n      <td>5707.0</td>\n      <td>380.0</td>\n      <td>169</td>\n      <td>84</td>\n      <td>20.5</td>\n      <td>0.3</td>\n    </tr>\n  </tbody>\n</table>\n</div>"
     },
     "metadata": {},
     "execution_count": 129
    }
   ],
   "source": [
    "file = \"data/US_COVID-19_stats.csv\"\n",
    "covid_stats_df = pd.read_csv(file)\n",
    "covid_stats_df.head()"
   ]
  },
  {
   "cell_type": "code",
   "execution_count": 130,
   "metadata": {},
   "outputs": [
    {
     "output_type": "execute_result",
     "data": {
      "text/plain": [
       "  State/Territory  Total Cases  Case Rate per 100000  Total Deaths  \\\n",
       "0          Alaska        17072                  2315            84   \n",
       "1         Alabama       199158                  4074          3026   \n",
       "2        Arkansas       117360                  3894          2037   \n",
       "3  American Samoa            0                     0             0   \n",
       "4         Arizona       252768                  3524          6087   \n",
       "\n",
       "   Death Rate per 100000  \n",
       "0                     11  \n",
       "1                     61  \n",
       "2                     67  \n",
       "3                      0  \n",
       "4                     84  "
      ],
      "text/html": "<div>\n<style scoped>\n    .dataframe tbody tr th:only-of-type {\n        vertical-align: middle;\n    }\n\n    .dataframe tbody tr th {\n        vertical-align: top;\n    }\n\n    .dataframe thead th {\n        text-align: right;\n    }\n</style>\n<table border=\"1\" class=\"dataframe\">\n  <thead>\n    <tr style=\"text-align: right;\">\n      <th></th>\n      <th>State/Territory</th>\n      <th>Total Cases</th>\n      <th>Case Rate per 100000</th>\n      <th>Total Deaths</th>\n      <th>Death Rate per 100000</th>\n    </tr>\n  </thead>\n  <tbody>\n    <tr>\n      <th>0</th>\n      <td>Alaska</td>\n      <td>17072</td>\n      <td>2315</td>\n      <td>84</td>\n      <td>11</td>\n    </tr>\n    <tr>\n      <th>1</th>\n      <td>Alabama</td>\n      <td>199158</td>\n      <td>4074</td>\n      <td>3026</td>\n      <td>61</td>\n    </tr>\n    <tr>\n      <th>2</th>\n      <td>Arkansas</td>\n      <td>117360</td>\n      <td>3894</td>\n      <td>2037</td>\n      <td>67</td>\n    </tr>\n    <tr>\n      <th>3</th>\n      <td>American Samoa</td>\n      <td>0</td>\n      <td>0</td>\n      <td>0</td>\n      <td>0</td>\n    </tr>\n    <tr>\n      <th>4</th>\n      <td>Arizona</td>\n      <td>252768</td>\n      <td>3524</td>\n      <td>6087</td>\n      <td>84</td>\n    </tr>\n  </tbody>\n</table>\n</div>"
     },
     "metadata": {},
     "execution_count": 130
    }
   ],
   "source": [
    "covid_stats_df = covid_stats_df[['State/Territory', 'Total Cases', 'Case Rate per 100000', 'Total Deaths', 'Death Rate per 100000']]\n",
    "covid_stats_df.head()"
   ]
  },
  {
   "cell_type": "code",
   "execution_count": 136,
   "metadata": {},
   "outputs": [
    {
     "output_type": "execute_result",
     "data": {
      "text/plain": [
       "  State/Territory  Total Cases  Case Rate per 100000  Total Deaths  \\\n",
       "0          Alaska        17072                  2315            84   \n",
       "1         Alabama       199158                  4074          3026   \n",
       "2        Arkansas       117360                  3894          2037   \n",
       "3  American Samoa            0                     0             0   \n",
       "4         Arizona       252768                  3524          6087   \n",
       "\n",
       "   Death Rate per 100000 State  \n",
       "0                     11    AK  \n",
       "1                     61    AL  \n",
       "2                     67    AR  \n",
       "3                      0    AS  \n",
       "4                     84    AZ  "
      ],
      "text/html": "<div>\n<style scoped>\n    .dataframe tbody tr th:only-of-type {\n        vertical-align: middle;\n    }\n\n    .dataframe tbody tr th {\n        vertical-align: top;\n    }\n\n    .dataframe thead th {\n        text-align: right;\n    }\n</style>\n<table border=\"1\" class=\"dataframe\">\n  <thead>\n    <tr style=\"text-align: right;\">\n      <th></th>\n      <th>State/Territory</th>\n      <th>Total Cases</th>\n      <th>Case Rate per 100000</th>\n      <th>Total Deaths</th>\n      <th>Death Rate per 100000</th>\n      <th>State</th>\n    </tr>\n  </thead>\n  <tbody>\n    <tr>\n      <th>0</th>\n      <td>Alaska</td>\n      <td>17072</td>\n      <td>2315</td>\n      <td>84</td>\n      <td>11</td>\n      <td>AK</td>\n    </tr>\n    <tr>\n      <th>1</th>\n      <td>Alabama</td>\n      <td>199158</td>\n      <td>4074</td>\n      <td>3026</td>\n      <td>61</td>\n      <td>AL</td>\n    </tr>\n    <tr>\n      <th>2</th>\n      <td>Arkansas</td>\n      <td>117360</td>\n      <td>3894</td>\n      <td>2037</td>\n      <td>67</td>\n      <td>AR</td>\n    </tr>\n    <tr>\n      <th>3</th>\n      <td>American Samoa</td>\n      <td>0</td>\n      <td>0</td>\n      <td>0</td>\n      <td>0</td>\n      <td>AS</td>\n    </tr>\n    <tr>\n      <th>4</th>\n      <td>Arizona</td>\n      <td>252768</td>\n      <td>3524</td>\n      <td>6087</td>\n      <td>84</td>\n      <td>AZ</td>\n    </tr>\n  </tbody>\n</table>\n</div>"
     },
     "metadata": {},
     "execution_count": 136
    }
   ],
   "source": [
    "covid_stats_df['State'] = state_df['state']\n",
    "covid_stats_df.head()"
   ]
  },
  {
   "cell_type": "code",
   "execution_count": 137,
   "metadata": {},
   "outputs": [
    {
     "output_type": "execute_result",
     "data": {
      "text/plain": [
       "  State  Total_cases  Case_rate_per_100k  Total_deaths  Death_rate_per_100k\n",
       "0    AK        17072                2315            84                   11\n",
       "1    AL       199158                4074          3026                   61\n",
       "2    AR       117360                3894          2037                   67\n",
       "3    AS            0                   0             0                    0\n",
       "4    AZ       252768                3524          6087                   84"
      ],
      "text/html": "<div>\n<style scoped>\n    .dataframe tbody tr th:only-of-type {\n        vertical-align: middle;\n    }\n\n    .dataframe tbody tr th {\n        vertical-align: top;\n    }\n\n    .dataframe thead th {\n        text-align: right;\n    }\n</style>\n<table border=\"1\" class=\"dataframe\">\n  <thead>\n    <tr style=\"text-align: right;\">\n      <th></th>\n      <th>State</th>\n      <th>Total_cases</th>\n      <th>Case_rate_per_100k</th>\n      <th>Total_deaths</th>\n      <th>Death_rate_per_100k</th>\n    </tr>\n  </thead>\n  <tbody>\n    <tr>\n      <th>0</th>\n      <td>AK</td>\n      <td>17072</td>\n      <td>2315</td>\n      <td>84</td>\n      <td>11</td>\n    </tr>\n    <tr>\n      <th>1</th>\n      <td>AL</td>\n      <td>199158</td>\n      <td>4074</td>\n      <td>3026</td>\n      <td>61</td>\n    </tr>\n    <tr>\n      <th>2</th>\n      <td>AR</td>\n      <td>117360</td>\n      <td>3894</td>\n      <td>2037</td>\n      <td>67</td>\n    </tr>\n    <tr>\n      <th>3</th>\n      <td>AS</td>\n      <td>0</td>\n      <td>0</td>\n      <td>0</td>\n      <td>0</td>\n    </tr>\n    <tr>\n      <th>4</th>\n      <td>AZ</td>\n      <td>252768</td>\n      <td>3524</td>\n      <td>6087</td>\n      <td>84</td>\n    </tr>\n  </tbody>\n</table>\n</div>"
     },
     "metadata": {},
     "execution_count": 137
    }
   ],
   "source": [
    "covid_stats_df = covid_stats_df.rename(columns={\"state\": \"State\", \"Total Cases\": \"Total_cases\", \"Case Rate per 100000\": \"Case_rate_per_100k\", \"Total Deaths\": \"Total_deaths\", \"Death Rate per 100000\": \"Death_rate_per_100k\"})\n",
    "covid_stats_df = covid_stats_df[[\"State\", \"Total_cases\", \"Case_rate_per_100k\", \"Total_deaths\", \"Death_rate_per_100k\"]]\n",
    "covid_stats_df.head()"
   ]
  }
 ]
}