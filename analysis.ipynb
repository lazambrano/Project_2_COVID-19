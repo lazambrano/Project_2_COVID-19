{
 "metadata": {
  "language_info": {
   "codemirror_mode": {
    "name": "ipython",
    "version": 3
   },
   "file_extension": ".py",
   "mimetype": "text/x-python",
   "name": "python",
   "nbconvert_exporter": "python",
   "pygments_lexer": "ipython3",
   "version": "3.6.10-final"
  },
  "orig_nbformat": 2,
  "kernelspec": {
   "name": "python3",
   "display_name": "Python 3"
  }
 },
 "nbformat": 4,
 "nbformat_minor": 2,
 "cells": [
  {
   "source": [
    "url: https://data.cdc.gov/Case-Surveillance/United-States-COVID-19-Cases-and-Deaths-by-State-o/9mfq-cb36"
   ],
   "cell_type": "markdown",
   "metadata": {}
  },
  {
   "cell_type": "code",
   "execution_count": 19,
   "metadata": {},
   "outputs": [],
   "source": [
    "import types "
   ]
  },
  {
   "cell_type": "code",
   "execution_count": 1,
   "metadata": {},
   "outputs": [],
   "source": [
    "import pandas as pd\n",
    "import datetime as dt\n",
    "from sqlalchemy import create_engine\n",
    "import psycopg2\n",
    "from covid_pass import password\n",
    "#from types import type(None)\n"
   ]
  },
  {
   "cell_type": "code",
   "execution_count": 2,
   "metadata": {},
   "outputs": [
    {
     "output_type": "execute_result",
     "data": {
      "text/plain": [
       "  submission_date state  tot_cases  conf_cases  prob_cases  new_case  \\\n",
       "0      01/22/2020    CO          0         NaN         NaN         0   \n",
       "1      01/23/2020    CO          0         NaN         NaN         0   \n",
       "2      01/24/2020    CO          0         NaN         NaN         0   \n",
       "3      01/25/2020    CO          0         NaN         NaN         0   \n",
       "4      01/26/2020    CO          0         NaN         NaN         0   \n",
       "\n",
       "   pnew_case  tot_death  conf_death  prob_death  new_death  pnew_death  \\\n",
       "0        NaN          0         NaN         NaN          0         NaN   \n",
       "1        NaN          0         NaN         NaN          0         NaN   \n",
       "2        NaN          0         NaN         NaN          0         NaN   \n",
       "3        NaN          0         NaN         NaN          0         NaN   \n",
       "4        NaN          0         NaN         NaN          0         NaN   \n",
       "\n",
       "               created_at consent_cases consent_deaths  \n",
       "0  03/26/2020 04:22:39 PM         Agree          Agree  \n",
       "1  03/26/2020 04:22:39 PM         Agree          Agree  \n",
       "2  03/26/2020 04:22:39 PM         Agree          Agree  \n",
       "3  03/26/2020 04:22:39 PM         Agree          Agree  \n",
       "4  03/26/2020 04:22:39 PM         Agree          Agree  "
      ],
      "text/html": "<div>\n<style scoped>\n    .dataframe tbody tr th:only-of-type {\n        vertical-align: middle;\n    }\n\n    .dataframe tbody tr th {\n        vertical-align: top;\n    }\n\n    .dataframe thead th {\n        text-align: right;\n    }\n</style>\n<table border=\"1\" class=\"dataframe\">\n  <thead>\n    <tr style=\"text-align: right;\">\n      <th></th>\n      <th>submission_date</th>\n      <th>state</th>\n      <th>tot_cases</th>\n      <th>conf_cases</th>\n      <th>prob_cases</th>\n      <th>new_case</th>\n      <th>pnew_case</th>\n      <th>tot_death</th>\n      <th>conf_death</th>\n      <th>prob_death</th>\n      <th>new_death</th>\n      <th>pnew_death</th>\n      <th>created_at</th>\n      <th>consent_cases</th>\n      <th>consent_deaths</th>\n    </tr>\n  </thead>\n  <tbody>\n    <tr>\n      <th>0</th>\n      <td>01/22/2020</td>\n      <td>CO</td>\n      <td>0</td>\n      <td>NaN</td>\n      <td>NaN</td>\n      <td>0</td>\n      <td>NaN</td>\n      <td>0</td>\n      <td>NaN</td>\n      <td>NaN</td>\n      <td>0</td>\n      <td>NaN</td>\n      <td>03/26/2020 04:22:39 PM</td>\n      <td>Agree</td>\n      <td>Agree</td>\n    </tr>\n    <tr>\n      <th>1</th>\n      <td>01/23/2020</td>\n      <td>CO</td>\n      <td>0</td>\n      <td>NaN</td>\n      <td>NaN</td>\n      <td>0</td>\n      <td>NaN</td>\n      <td>0</td>\n      <td>NaN</td>\n      <td>NaN</td>\n      <td>0</td>\n      <td>NaN</td>\n      <td>03/26/2020 04:22:39 PM</td>\n      <td>Agree</td>\n      <td>Agree</td>\n    </tr>\n    <tr>\n      <th>2</th>\n      <td>01/24/2020</td>\n      <td>CO</td>\n      <td>0</td>\n      <td>NaN</td>\n      <td>NaN</td>\n      <td>0</td>\n      <td>NaN</td>\n      <td>0</td>\n      <td>NaN</td>\n      <td>NaN</td>\n      <td>0</td>\n      <td>NaN</td>\n      <td>03/26/2020 04:22:39 PM</td>\n      <td>Agree</td>\n      <td>Agree</td>\n    </tr>\n    <tr>\n      <th>3</th>\n      <td>01/25/2020</td>\n      <td>CO</td>\n      <td>0</td>\n      <td>NaN</td>\n      <td>NaN</td>\n      <td>0</td>\n      <td>NaN</td>\n      <td>0</td>\n      <td>NaN</td>\n      <td>NaN</td>\n      <td>0</td>\n      <td>NaN</td>\n      <td>03/26/2020 04:22:39 PM</td>\n      <td>Agree</td>\n      <td>Agree</td>\n    </tr>\n    <tr>\n      <th>4</th>\n      <td>01/26/2020</td>\n      <td>CO</td>\n      <td>0</td>\n      <td>NaN</td>\n      <td>NaN</td>\n      <td>0</td>\n      <td>NaN</td>\n      <td>0</td>\n      <td>NaN</td>\n      <td>NaN</td>\n      <td>0</td>\n      <td>NaN</td>\n      <td>03/26/2020 04:22:39 PM</td>\n      <td>Agree</td>\n      <td>Agree</td>\n    </tr>\n  </tbody>\n</table>\n</div>"
     },
     "metadata": {},
     "execution_count": 2
    }
   ],
   "source": [
    "file = \"data/US_COVID-19_Cases.csv\"\n",
    "covid_df = pd.read_csv(file)\n",
    "covid_df.head()"
   ]
  },
  {
   "cell_type": "code",
   "execution_count": 3,
   "metadata": {},
   "outputs": [
    {
     "output_type": "execute_result",
     "data": {
      "text/plain": [
       "  state     tot_cases     conf_cases   prob_cases    new_case   pnew_case  \\\n",
       "0    AK   2916.114187            NaN          NaN   59.072664    0.000000   \n",
       "1    AL  59294.768166   77799.791045  7163.437811  689.128028  148.716418   \n",
       "2    AR  31101.352941            NaN          NaN  406.089965   50.089552   \n",
       "3    AS      0.000000            NaN          NaN    0.000000    0.000000   \n",
       "4    AZ  92068.069204  130396.049751  1673.671642  874.629758   31.343284   \n",
       "\n",
       "     tot_death   conf_death  prob_death  new_death  pnew_death  \n",
       "0    21.346021          NaN         NaN   0.290657    0.000000  \n",
       "1  1074.408304  1472.218905   67.656716  10.470588    1.034826  \n",
       "2   462.674740          NaN         NaN   7.048443    0.865672  \n",
       "3     0.000000          NaN         NaN   0.000000    0.000000  \n",
       "4  2252.785467  3083.766169  146.109453  21.062284    1.890547  "
      ],
      "text/html": "<div>\n<style scoped>\n    .dataframe tbody tr th:only-of-type {\n        vertical-align: middle;\n    }\n\n    .dataframe tbody tr th {\n        vertical-align: top;\n    }\n\n    .dataframe thead th {\n        text-align: right;\n    }\n</style>\n<table border=\"1\" class=\"dataframe\">\n  <thead>\n    <tr style=\"text-align: right;\">\n      <th></th>\n      <th>state</th>\n      <th>tot_cases</th>\n      <th>conf_cases</th>\n      <th>prob_cases</th>\n      <th>new_case</th>\n      <th>pnew_case</th>\n      <th>tot_death</th>\n      <th>conf_death</th>\n      <th>prob_death</th>\n      <th>new_death</th>\n      <th>pnew_death</th>\n    </tr>\n  </thead>\n  <tbody>\n    <tr>\n      <th>0</th>\n      <td>AK</td>\n      <td>2916.114187</td>\n      <td>NaN</td>\n      <td>NaN</td>\n      <td>59.072664</td>\n      <td>0.000000</td>\n      <td>21.346021</td>\n      <td>NaN</td>\n      <td>NaN</td>\n      <td>0.290657</td>\n      <td>0.000000</td>\n    </tr>\n    <tr>\n      <th>1</th>\n      <td>AL</td>\n      <td>59294.768166</td>\n      <td>77799.791045</td>\n      <td>7163.437811</td>\n      <td>689.128028</td>\n      <td>148.716418</td>\n      <td>1074.408304</td>\n      <td>1472.218905</td>\n      <td>67.656716</td>\n      <td>10.470588</td>\n      <td>1.034826</td>\n    </tr>\n    <tr>\n      <th>2</th>\n      <td>AR</td>\n      <td>31101.352941</td>\n      <td>NaN</td>\n      <td>NaN</td>\n      <td>406.089965</td>\n      <td>50.089552</td>\n      <td>462.674740</td>\n      <td>NaN</td>\n      <td>NaN</td>\n      <td>7.048443</td>\n      <td>0.865672</td>\n    </tr>\n    <tr>\n      <th>3</th>\n      <td>AS</td>\n      <td>0.000000</td>\n      <td>NaN</td>\n      <td>NaN</td>\n      <td>0.000000</td>\n      <td>0.000000</td>\n      <td>0.000000</td>\n      <td>NaN</td>\n      <td>NaN</td>\n      <td>0.000000</td>\n      <td>0.000000</td>\n    </tr>\n    <tr>\n      <th>4</th>\n      <td>AZ</td>\n      <td>92068.069204</td>\n      <td>130396.049751</td>\n      <td>1673.671642</td>\n      <td>874.629758</td>\n      <td>31.343284</td>\n      <td>2252.785467</td>\n      <td>3083.766169</td>\n      <td>146.109453</td>\n      <td>21.062284</td>\n      <td>1.890547</td>\n    </tr>\n  </tbody>\n</table>\n</div>"
     },
     "metadata": {},
     "execution_count": 3
    }
   ],
   "source": [
    "state_df = covid_df.groupby('state').mean().reset_index()\n",
    "state_df.head()"
   ]
  },
  {
   "cell_type": "code",
   "execution_count": 4,
   "metadata": {},
   "outputs": [
    {
     "output_type": "execute_result",
     "data": {
      "text/plain": [
       "  submission_date state  tot_cases  tot_death\n",
       "0      01/22/2020    CO          0          0\n",
       "1      01/23/2020    CO          0          0\n",
       "2      01/24/2020    CO          0          0\n",
       "3      01/25/2020    CO          0          0\n",
       "4      01/26/2020    CO          0          0"
      ],
      "text/html": "<div>\n<style scoped>\n    .dataframe tbody tr th:only-of-type {\n        vertical-align: middle;\n    }\n\n    .dataframe tbody tr th {\n        vertical-align: top;\n    }\n\n    .dataframe thead th {\n        text-align: right;\n    }\n</style>\n<table border=\"1\" class=\"dataframe\">\n  <thead>\n    <tr style=\"text-align: right;\">\n      <th></th>\n      <th>submission_date</th>\n      <th>state</th>\n      <th>tot_cases</th>\n      <th>tot_death</th>\n    </tr>\n  </thead>\n  <tbody>\n    <tr>\n      <th>0</th>\n      <td>01/22/2020</td>\n      <td>CO</td>\n      <td>0</td>\n      <td>0</td>\n    </tr>\n    <tr>\n      <th>1</th>\n      <td>01/23/2020</td>\n      <td>CO</td>\n      <td>0</td>\n      <td>0</td>\n    </tr>\n    <tr>\n      <th>2</th>\n      <td>01/24/2020</td>\n      <td>CO</td>\n      <td>0</td>\n      <td>0</td>\n    </tr>\n    <tr>\n      <th>3</th>\n      <td>01/25/2020</td>\n      <td>CO</td>\n      <td>0</td>\n      <td>0</td>\n    </tr>\n    <tr>\n      <th>4</th>\n      <td>01/26/2020</td>\n      <td>CO</td>\n      <td>0</td>\n      <td>0</td>\n    </tr>\n  </tbody>\n</table>\n</div>"
     },
     "metadata": {},
     "execution_count": 4
    }
   ],
   "source": [
    "covid_df = covid_df[[\"submission_date\", \"state\", \"tot_cases\", \"tot_death\"]]\n",
    "covid_df.head()"
   ]
  },
  {
   "cell_type": "code",
   "execution_count": 5,
   "metadata": {},
   "outputs": [
    {
     "output_type": "execute_result",
     "data": {
      "text/plain": [
       "  submission_date state  tot_cases  tot_death  Total_recovered\n",
       "0      01/22/2020    CO          0          0                0\n",
       "1      01/23/2020    CO          0          0                0\n",
       "2      01/24/2020    CO          0          0                0\n",
       "3      01/25/2020    CO          0          0                0\n",
       "4      01/26/2020    CO          0          0                0"
      ],
      "text/html": "<div>\n<style scoped>\n    .dataframe tbody tr th:only-of-type {\n        vertical-align: middle;\n    }\n\n    .dataframe tbody tr th {\n        vertical-align: top;\n    }\n\n    .dataframe thead th {\n        text-align: right;\n    }\n</style>\n<table border=\"1\" class=\"dataframe\">\n  <thead>\n    <tr style=\"text-align: right;\">\n      <th></th>\n      <th>submission_date</th>\n      <th>state</th>\n      <th>tot_cases</th>\n      <th>tot_death</th>\n      <th>Total_recovered</th>\n    </tr>\n  </thead>\n  <tbody>\n    <tr>\n      <th>0</th>\n      <td>01/22/2020</td>\n      <td>CO</td>\n      <td>0</td>\n      <td>0</td>\n      <td>0</td>\n    </tr>\n    <tr>\n      <th>1</th>\n      <td>01/23/2020</td>\n      <td>CO</td>\n      <td>0</td>\n      <td>0</td>\n      <td>0</td>\n    </tr>\n    <tr>\n      <th>2</th>\n      <td>01/24/2020</td>\n      <td>CO</td>\n      <td>0</td>\n      <td>0</td>\n      <td>0</td>\n    </tr>\n    <tr>\n      <th>3</th>\n      <td>01/25/2020</td>\n      <td>CO</td>\n      <td>0</td>\n      <td>0</td>\n      <td>0</td>\n    </tr>\n    <tr>\n      <th>4</th>\n      <td>01/26/2020</td>\n      <td>CO</td>\n      <td>0</td>\n      <td>0</td>\n      <td>0</td>\n    </tr>\n  </tbody>\n</table>\n</div>"
     },
     "metadata": {},
     "execution_count": 5
    }
   ],
   "source": [
    "covid_df[\"Total_recovered\"] = covid_df.tot_cases - covid_df.tot_death\n",
    "covid_df.head()"
   ]
  },
  {
   "cell_type": "code",
   "execution_count": 6,
   "metadata": {},
   "outputs": [
    {
     "output_type": "execute_result",
     "data": {
      "text/plain": [
       "  submission_date state  tot_cases  tot_death  Total_recovered     date\n",
       "0      01/22/2020    CO          0          0                0  2020-01\n",
       "1      01/23/2020    CO          0          0                0  2020-01\n",
       "2      01/24/2020    CO          0          0                0  2020-01\n",
       "3      01/25/2020    CO          0          0                0  2020-01\n",
       "4      01/26/2020    CO          0          0                0  2020-01"
      ],
      "text/html": "<div>\n<style scoped>\n    .dataframe tbody tr th:only-of-type {\n        vertical-align: middle;\n    }\n\n    .dataframe tbody tr th {\n        vertical-align: top;\n    }\n\n    .dataframe thead th {\n        text-align: right;\n    }\n</style>\n<table border=\"1\" class=\"dataframe\">\n  <thead>\n    <tr style=\"text-align: right;\">\n      <th></th>\n      <th>submission_date</th>\n      <th>state</th>\n      <th>tot_cases</th>\n      <th>tot_death</th>\n      <th>Total_recovered</th>\n      <th>date</th>\n    </tr>\n  </thead>\n  <tbody>\n    <tr>\n      <th>0</th>\n      <td>01/22/2020</td>\n      <td>CO</td>\n      <td>0</td>\n      <td>0</td>\n      <td>0</td>\n      <td>2020-01</td>\n    </tr>\n    <tr>\n      <th>1</th>\n      <td>01/23/2020</td>\n      <td>CO</td>\n      <td>0</td>\n      <td>0</td>\n      <td>0</td>\n      <td>2020-01</td>\n    </tr>\n    <tr>\n      <th>2</th>\n      <td>01/24/2020</td>\n      <td>CO</td>\n      <td>0</td>\n      <td>0</td>\n      <td>0</td>\n      <td>2020-01</td>\n    </tr>\n    <tr>\n      <th>3</th>\n      <td>01/25/2020</td>\n      <td>CO</td>\n      <td>0</td>\n      <td>0</td>\n      <td>0</td>\n      <td>2020-01</td>\n    </tr>\n    <tr>\n      <th>4</th>\n      <td>01/26/2020</td>\n      <td>CO</td>\n      <td>0</td>\n      <td>0</td>\n      <td>0</td>\n      <td>2020-01</td>\n    </tr>\n  </tbody>\n</table>\n</div>"
     },
     "metadata": {},
     "execution_count": 6
    }
   ],
   "source": [
    "covid_df['date'] = pd.to_datetime(covid_df['submission_date']).dt.to_period('M')\n",
    "covid_df.head()"
   ]
  },
  {
   "cell_type": "code",
   "execution_count": 7,
   "metadata": {},
   "outputs": [
    {
     "output_type": "execute_result",
     "data": {
      "text/plain": [
       "        date state  tot_cases  tot_death  Total_recovered\n",
       "0    2020-01    AK        0.0        0.0              0.0\n",
       "1    2020-01    AL        0.0        0.0              0.0\n",
       "2    2020-01    AR        0.0        0.0              0.0\n",
       "3    2020-01    AS        0.0        0.0              0.0\n",
       "4    2020-01    AZ        0.6        0.0              0.6\n",
       "..       ...   ...        ...        ...              ...\n",
       "655  2020-11    VT     2247.2       58.0           2189.2\n",
       "656  2020-11    WA   110342.0     2398.2         107943.8\n",
       "657  2020-11    WI   251648.2     2178.4         249469.8\n",
       "658  2020-11    WV    25649.0      467.2          25181.8\n",
       "659  2020-11    WY    14592.4       95.4          14497.0\n",
       "\n",
       "[660 rows x 5 columns]"
      ],
      "text/html": "<div>\n<style scoped>\n    .dataframe tbody tr th:only-of-type {\n        vertical-align: middle;\n    }\n\n    .dataframe tbody tr th {\n        vertical-align: top;\n    }\n\n    .dataframe thead th {\n        text-align: right;\n    }\n</style>\n<table border=\"1\" class=\"dataframe\">\n  <thead>\n    <tr style=\"text-align: right;\">\n      <th></th>\n      <th>date</th>\n      <th>state</th>\n      <th>tot_cases</th>\n      <th>tot_death</th>\n      <th>Total_recovered</th>\n    </tr>\n  </thead>\n  <tbody>\n    <tr>\n      <th>0</th>\n      <td>2020-01</td>\n      <td>AK</td>\n      <td>0.0</td>\n      <td>0.0</td>\n      <td>0.0</td>\n    </tr>\n    <tr>\n      <th>1</th>\n      <td>2020-01</td>\n      <td>AL</td>\n      <td>0.0</td>\n      <td>0.0</td>\n      <td>0.0</td>\n    </tr>\n    <tr>\n      <th>2</th>\n      <td>2020-01</td>\n      <td>AR</td>\n      <td>0.0</td>\n      <td>0.0</td>\n      <td>0.0</td>\n    </tr>\n    <tr>\n      <th>3</th>\n      <td>2020-01</td>\n      <td>AS</td>\n      <td>0.0</td>\n      <td>0.0</td>\n      <td>0.0</td>\n    </tr>\n    <tr>\n      <th>4</th>\n      <td>2020-01</td>\n      <td>AZ</td>\n      <td>0.6</td>\n      <td>0.0</td>\n      <td>0.6</td>\n    </tr>\n    <tr>\n      <th>...</th>\n      <td>...</td>\n      <td>...</td>\n      <td>...</td>\n      <td>...</td>\n      <td>...</td>\n    </tr>\n    <tr>\n      <th>655</th>\n      <td>2020-11</td>\n      <td>VT</td>\n      <td>2247.2</td>\n      <td>58.0</td>\n      <td>2189.2</td>\n    </tr>\n    <tr>\n      <th>656</th>\n      <td>2020-11</td>\n      <td>WA</td>\n      <td>110342.0</td>\n      <td>2398.2</td>\n      <td>107943.8</td>\n    </tr>\n    <tr>\n      <th>657</th>\n      <td>2020-11</td>\n      <td>WI</td>\n      <td>251648.2</td>\n      <td>2178.4</td>\n      <td>249469.8</td>\n    </tr>\n    <tr>\n      <th>658</th>\n      <td>2020-11</td>\n      <td>WV</td>\n      <td>25649.0</td>\n      <td>467.2</td>\n      <td>25181.8</td>\n    </tr>\n    <tr>\n      <th>659</th>\n      <td>2020-11</td>\n      <td>WY</td>\n      <td>14592.4</td>\n      <td>95.4</td>\n      <td>14497.0</td>\n    </tr>\n  </tbody>\n</table>\n<p>660 rows × 5 columns</p>\n</div>"
     },
     "metadata": {},
     "execution_count": 7
    }
   ],
   "source": [
    "covid_monthly_df = covid_df.groupby([\"date\", \"state\"]).mean().reset_index()\n",
    "covid_monthly_df"
   ]
  },
  {
   "cell_type": "code",
   "execution_count": 8,
   "metadata": {},
   "outputs": [
    {
     "output_type": "execute_result",
     "data": {
      "text/plain": [
       "        date State  Average_cases  Average_death  Average_recovery\n",
       "0    2020-01    AK            0.0            0.0               0.0\n",
       "1    2020-01    AL            0.0            0.0               0.0\n",
       "2    2020-01    AR            0.0            0.0               0.0\n",
       "3    2020-01    AS            0.0            0.0               0.0\n",
       "4    2020-01    AZ            0.6            0.0               0.6\n",
       "..       ...   ...            ...            ...               ...\n",
       "655  2020-11    VT         2247.2           58.0            2189.2\n",
       "656  2020-11    WA       110342.0         2398.2          107943.8\n",
       "657  2020-11    WI       251648.2         2178.4          249469.8\n",
       "658  2020-11    WV        25649.0          467.2           25181.8\n",
       "659  2020-11    WY        14592.4           95.4           14497.0\n",
       "\n",
       "[660 rows x 5 columns]"
      ],
      "text/html": "<div>\n<style scoped>\n    .dataframe tbody tr th:only-of-type {\n        vertical-align: middle;\n    }\n\n    .dataframe tbody tr th {\n        vertical-align: top;\n    }\n\n    .dataframe thead th {\n        text-align: right;\n    }\n</style>\n<table border=\"1\" class=\"dataframe\">\n  <thead>\n    <tr style=\"text-align: right;\">\n      <th></th>\n      <th>date</th>\n      <th>State</th>\n      <th>Average_cases</th>\n      <th>Average_death</th>\n      <th>Average_recovery</th>\n    </tr>\n  </thead>\n  <tbody>\n    <tr>\n      <th>0</th>\n      <td>2020-01</td>\n      <td>AK</td>\n      <td>0.0</td>\n      <td>0.0</td>\n      <td>0.0</td>\n    </tr>\n    <tr>\n      <th>1</th>\n      <td>2020-01</td>\n      <td>AL</td>\n      <td>0.0</td>\n      <td>0.0</td>\n      <td>0.0</td>\n    </tr>\n    <tr>\n      <th>2</th>\n      <td>2020-01</td>\n      <td>AR</td>\n      <td>0.0</td>\n      <td>0.0</td>\n      <td>0.0</td>\n    </tr>\n    <tr>\n      <th>3</th>\n      <td>2020-01</td>\n      <td>AS</td>\n      <td>0.0</td>\n      <td>0.0</td>\n      <td>0.0</td>\n    </tr>\n    <tr>\n      <th>4</th>\n      <td>2020-01</td>\n      <td>AZ</td>\n      <td>0.6</td>\n      <td>0.0</td>\n      <td>0.6</td>\n    </tr>\n    <tr>\n      <th>...</th>\n      <td>...</td>\n      <td>...</td>\n      <td>...</td>\n      <td>...</td>\n      <td>...</td>\n    </tr>\n    <tr>\n      <th>655</th>\n      <td>2020-11</td>\n      <td>VT</td>\n      <td>2247.2</td>\n      <td>58.0</td>\n      <td>2189.2</td>\n    </tr>\n    <tr>\n      <th>656</th>\n      <td>2020-11</td>\n      <td>WA</td>\n      <td>110342.0</td>\n      <td>2398.2</td>\n      <td>107943.8</td>\n    </tr>\n    <tr>\n      <th>657</th>\n      <td>2020-11</td>\n      <td>WI</td>\n      <td>251648.2</td>\n      <td>2178.4</td>\n      <td>249469.8</td>\n    </tr>\n    <tr>\n      <th>658</th>\n      <td>2020-11</td>\n      <td>WV</td>\n      <td>25649.0</td>\n      <td>467.2</td>\n      <td>25181.8</td>\n    </tr>\n    <tr>\n      <th>659</th>\n      <td>2020-11</td>\n      <td>WY</td>\n      <td>14592.4</td>\n      <td>95.4</td>\n      <td>14497.0</td>\n    </tr>\n  </tbody>\n</table>\n<p>660 rows × 5 columns</p>\n</div>"
     },
     "metadata": {},
     "execution_count": 8
    }
   ],
   "source": [
    "covid_monthly_df = covid_monthly_df.rename(columns={\"state\": \"State\", \"tot_cases\": \"Average_cases\", \"tot_death\": \"Average_death\", \"Total_recovered\": \"Average_recovery\"})\n",
    "covid_monthly_df"
   ]
  },
  {
   "cell_type": "code",
   "execution_count": 9,
   "metadata": {},
   "outputs": [
    {
     "output_type": "execute_result",
     "data": {
      "text/plain": [
       "        date State  Average_cases  Average_death  Average_recovery  \\\n",
       "4    2020-01    AZ            0.6            0.0               0.6   \n",
       "5    2020-01    CA            1.3            0.0               1.3   \n",
       "17   2020-01    IL            0.9            0.0               0.9   \n",
       "56   2020-01    WA            1.0            0.0               1.0   \n",
       "64   2020-02    AZ            1.0            0.0               1.0   \n",
       "..       ...   ...            ...            ...               ...   \n",
       "655  2020-11    VT         2247.2           58.0            2189.2   \n",
       "656  2020-11    WA       110342.0         2398.2          107943.8   \n",
       "657  2020-11    WI       251648.2         2178.4          249469.8   \n",
       "658  2020-11    WV        25649.0          467.2           25181.8   \n",
       "659  2020-11    WY        14592.4           95.4           14497.0   \n",
       "\n",
       "     Death_percent  Recovery_percent  \n",
       "4             0.00            100.00  \n",
       "5             0.00            100.00  \n",
       "17            0.00            100.00  \n",
       "56            0.00            100.00  \n",
       "64            0.00            100.00  \n",
       "..             ...               ...  \n",
       "655           2.58             97.42  \n",
       "656           2.17             97.83  \n",
       "657           0.87             99.13  \n",
       "658           1.82             98.18  \n",
       "659           0.65             99.35  \n",
       "\n",
       "[516 rows x 7 columns]"
      ],
      "text/html": "<div>\n<style scoped>\n    .dataframe tbody tr th:only-of-type {\n        vertical-align: middle;\n    }\n\n    .dataframe tbody tr th {\n        vertical-align: top;\n    }\n\n    .dataframe thead th {\n        text-align: right;\n    }\n</style>\n<table border=\"1\" class=\"dataframe\">\n  <thead>\n    <tr style=\"text-align: right;\">\n      <th></th>\n      <th>date</th>\n      <th>State</th>\n      <th>Average_cases</th>\n      <th>Average_death</th>\n      <th>Average_recovery</th>\n      <th>Death_percent</th>\n      <th>Recovery_percent</th>\n    </tr>\n  </thead>\n  <tbody>\n    <tr>\n      <th>4</th>\n      <td>2020-01</td>\n      <td>AZ</td>\n      <td>0.6</td>\n      <td>0.0</td>\n      <td>0.6</td>\n      <td>0.00</td>\n      <td>100.00</td>\n    </tr>\n    <tr>\n      <th>5</th>\n      <td>2020-01</td>\n      <td>CA</td>\n      <td>1.3</td>\n      <td>0.0</td>\n      <td>1.3</td>\n      <td>0.00</td>\n      <td>100.00</td>\n    </tr>\n    <tr>\n      <th>17</th>\n      <td>2020-01</td>\n      <td>IL</td>\n      <td>0.9</td>\n      <td>0.0</td>\n      <td>0.9</td>\n      <td>0.00</td>\n      <td>100.00</td>\n    </tr>\n    <tr>\n      <th>56</th>\n      <td>2020-01</td>\n      <td>WA</td>\n      <td>1.0</td>\n      <td>0.0</td>\n      <td>1.0</td>\n      <td>0.00</td>\n      <td>100.00</td>\n    </tr>\n    <tr>\n      <th>64</th>\n      <td>2020-02</td>\n      <td>AZ</td>\n      <td>1.0</td>\n      <td>0.0</td>\n      <td>1.0</td>\n      <td>0.00</td>\n      <td>100.00</td>\n    </tr>\n    <tr>\n      <th>...</th>\n      <td>...</td>\n      <td>...</td>\n      <td>...</td>\n      <td>...</td>\n      <td>...</td>\n      <td>...</td>\n      <td>...</td>\n    </tr>\n    <tr>\n      <th>655</th>\n      <td>2020-11</td>\n      <td>VT</td>\n      <td>2247.2</td>\n      <td>58.0</td>\n      <td>2189.2</td>\n      <td>2.58</td>\n      <td>97.42</td>\n    </tr>\n    <tr>\n      <th>656</th>\n      <td>2020-11</td>\n      <td>WA</td>\n      <td>110342.0</td>\n      <td>2398.2</td>\n      <td>107943.8</td>\n      <td>2.17</td>\n      <td>97.83</td>\n    </tr>\n    <tr>\n      <th>657</th>\n      <td>2020-11</td>\n      <td>WI</td>\n      <td>251648.2</td>\n      <td>2178.4</td>\n      <td>249469.8</td>\n      <td>0.87</td>\n      <td>99.13</td>\n    </tr>\n    <tr>\n      <th>658</th>\n      <td>2020-11</td>\n      <td>WV</td>\n      <td>25649.0</td>\n      <td>467.2</td>\n      <td>25181.8</td>\n      <td>1.82</td>\n      <td>98.18</td>\n    </tr>\n    <tr>\n      <th>659</th>\n      <td>2020-11</td>\n      <td>WY</td>\n      <td>14592.4</td>\n      <td>95.4</td>\n      <td>14497.0</td>\n      <td>0.65</td>\n      <td>99.35</td>\n    </tr>\n  </tbody>\n</table>\n<p>516 rows × 7 columns</p>\n</div>"
     },
     "metadata": {},
     "execution_count": 9
    }
   ],
   "source": [
    "covid_monthly_df['Death_percent'] = round((covid_monthly_df.Average_death/covid_monthly_df.Average_cases)*100, 2)\n",
    "covid_monthly_df['Recovery_percent'] = round((covid_monthly_df.Average_recovery/covid_monthly_df.Average_cases)*100, 2)\n",
    "covid_monthly_df=covid_monthly_df.dropna()\n",
    "covid_monthly_df"
   ]
  },
  {
   "cell_type": "code",
   "execution_count": 10,
   "metadata": {},
   "outputs": [
    {
     "output_type": "stream",
     "name": "stdout",
     "text": [
      "date                period[M]\nState                  object\nAverage_cases         float64\nAverage_death         float64\nAverage_recovery      float64\nDeath_percent         float64\nRecovery_percent      float64\ndtype: object\n"
     ]
    }
   ],
   "source": [
    "print(covid_monthly_df.dtypes)"
   ]
  },
  {
   "cell_type": "code",
   "execution_count": 11,
   "metadata": {},
   "outputs": [
    {
     "output_type": "execute_result",
     "data": {
      "text/plain": [
       "  State/Territory  Total Cases  Confirmed Cases  Probable Cases  \\\n",
       "0          Alaska        17072              NaN             NaN   \n",
       "1         Alabama       199158         169266.0         29892.0   \n",
       "2        Arkansas       117360              NaN             NaN   \n",
       "3  American Samoa            0              NaN             NaN   \n",
       "4         Arizona       252768         246468.0          6300.0   \n",
       "\n",
       "   Cases in Last 7 Days  Case Rate per 100000  Total Deaths  Confirmed Deaths  \\\n",
       "0                  2616                  2315            84               NaN   \n",
       "1                 10009                  4074          3026            2818.0   \n",
       "2                  7648                  3894          2037               NaN   \n",
       "3                     0                     0             0               NaN   \n",
       "4                 10288                  3524          6087            5707.0   \n",
       "\n",
       "   Probable Deaths  Deaths in Last 7 Days  Death Rate per 100000  \\\n",
       "0              NaN                      7                     11   \n",
       "1            208.0                    112                     61   \n",
       "2              NaN                    143                     67   \n",
       "3              NaN                      0                      0   \n",
       "4            380.0                    169                     84   \n",
       "\n",
       "   Case Rate per 100000 in Last 7 Days  Death Rate per 100K in Last 7 Days  \n",
       "0                                 50.7                                 0.1  \n",
       "1                                 29.3                                 0.3  \n",
       "2                                 36.3                                 0.7  \n",
       "3                                  0.0                                 0.0  \n",
       "4                                 20.5                                 0.3  "
      ],
      "text/html": "<div>\n<style scoped>\n    .dataframe tbody tr th:only-of-type {\n        vertical-align: middle;\n    }\n\n    .dataframe tbody tr th {\n        vertical-align: top;\n    }\n\n    .dataframe thead th {\n        text-align: right;\n    }\n</style>\n<table border=\"1\" class=\"dataframe\">\n  <thead>\n    <tr style=\"text-align: right;\">\n      <th></th>\n      <th>State/Territory</th>\n      <th>Total Cases</th>\n      <th>Confirmed Cases</th>\n      <th>Probable Cases</th>\n      <th>Cases in Last 7 Days</th>\n      <th>Case Rate per 100000</th>\n      <th>Total Deaths</th>\n      <th>Confirmed Deaths</th>\n      <th>Probable Deaths</th>\n      <th>Deaths in Last 7 Days</th>\n      <th>Death Rate per 100000</th>\n      <th>Case Rate per 100000 in Last 7 Days</th>\n      <th>Death Rate per 100K in Last 7 Days</th>\n    </tr>\n  </thead>\n  <tbody>\n    <tr>\n      <th>0</th>\n      <td>Alaska</td>\n      <td>17072</td>\n      <td>NaN</td>\n      <td>NaN</td>\n      <td>2616</td>\n      <td>2315</td>\n      <td>84</td>\n      <td>NaN</td>\n      <td>NaN</td>\n      <td>7</td>\n      <td>11</td>\n      <td>50.7</td>\n      <td>0.1</td>\n    </tr>\n    <tr>\n      <th>1</th>\n      <td>Alabama</td>\n      <td>199158</td>\n      <td>169266.0</td>\n      <td>29892.0</td>\n      <td>10009</td>\n      <td>4074</td>\n      <td>3026</td>\n      <td>2818.0</td>\n      <td>208.0</td>\n      <td>112</td>\n      <td>61</td>\n      <td>29.3</td>\n      <td>0.3</td>\n    </tr>\n    <tr>\n      <th>2</th>\n      <td>Arkansas</td>\n      <td>117360</td>\n      <td>NaN</td>\n      <td>NaN</td>\n      <td>7648</td>\n      <td>3894</td>\n      <td>2037</td>\n      <td>NaN</td>\n      <td>NaN</td>\n      <td>143</td>\n      <td>67</td>\n      <td>36.3</td>\n      <td>0.7</td>\n    </tr>\n    <tr>\n      <th>3</th>\n      <td>American Samoa</td>\n      <td>0</td>\n      <td>NaN</td>\n      <td>NaN</td>\n      <td>0</td>\n      <td>0</td>\n      <td>0</td>\n      <td>NaN</td>\n      <td>NaN</td>\n      <td>0</td>\n      <td>0</td>\n      <td>0.0</td>\n      <td>0.0</td>\n    </tr>\n    <tr>\n      <th>4</th>\n      <td>Arizona</td>\n      <td>252768</td>\n      <td>246468.0</td>\n      <td>6300.0</td>\n      <td>10288</td>\n      <td>3524</td>\n      <td>6087</td>\n      <td>5707.0</td>\n      <td>380.0</td>\n      <td>169</td>\n      <td>84</td>\n      <td>20.5</td>\n      <td>0.3</td>\n    </tr>\n  </tbody>\n</table>\n</div>"
     },
     "metadata": {},
     "execution_count": 11
    }
   ],
   "source": [
    "file = \"data/US_COVID-19_Deaths.csv\"\n",
    "covid_stats_df = pd.read_csv(file)\n",
    "covid_stats_df.head()"
   ]
  },
  {
   "cell_type": "code",
   "execution_count": 12,
   "metadata": {},
   "outputs": [
    {
     "output_type": "execute_result",
     "data": {
      "text/plain": [
       "  State/Territory  Total Cases  Case Rate per 100000  Total Deaths  \\\n",
       "0          Alaska        17072                  2315            84   \n",
       "1         Alabama       199158                  4074          3026   \n",
       "2        Arkansas       117360                  3894          2037   \n",
       "3  American Samoa            0                     0             0   \n",
       "4         Arizona       252768                  3524          6087   \n",
       "\n",
       "   Death Rate per 100000  \n",
       "0                     11  \n",
       "1                     61  \n",
       "2                     67  \n",
       "3                      0  \n",
       "4                     84  "
      ],
      "text/html": "<div>\n<style scoped>\n    .dataframe tbody tr th:only-of-type {\n        vertical-align: middle;\n    }\n\n    .dataframe tbody tr th {\n        vertical-align: top;\n    }\n\n    .dataframe thead th {\n        text-align: right;\n    }\n</style>\n<table border=\"1\" class=\"dataframe\">\n  <thead>\n    <tr style=\"text-align: right;\">\n      <th></th>\n      <th>State/Territory</th>\n      <th>Total Cases</th>\n      <th>Case Rate per 100000</th>\n      <th>Total Deaths</th>\n      <th>Death Rate per 100000</th>\n    </tr>\n  </thead>\n  <tbody>\n    <tr>\n      <th>0</th>\n      <td>Alaska</td>\n      <td>17072</td>\n      <td>2315</td>\n      <td>84</td>\n      <td>11</td>\n    </tr>\n    <tr>\n      <th>1</th>\n      <td>Alabama</td>\n      <td>199158</td>\n      <td>4074</td>\n      <td>3026</td>\n      <td>61</td>\n    </tr>\n    <tr>\n      <th>2</th>\n      <td>Arkansas</td>\n      <td>117360</td>\n      <td>3894</td>\n      <td>2037</td>\n      <td>67</td>\n    </tr>\n    <tr>\n      <th>3</th>\n      <td>American Samoa</td>\n      <td>0</td>\n      <td>0</td>\n      <td>0</td>\n      <td>0</td>\n    </tr>\n    <tr>\n      <th>4</th>\n      <td>Arizona</td>\n      <td>252768</td>\n      <td>3524</td>\n      <td>6087</td>\n      <td>84</td>\n    </tr>\n  </tbody>\n</table>\n</div>"
     },
     "metadata": {},
     "execution_count": 12
    }
   ],
   "source": [
    "covid_stats_df = covid_stats_df[['State/Territory', 'Total Cases', 'Case Rate per 100000', 'Total Deaths', 'Death Rate per 100000']]\n",
    "covid_stats_df.head()"
   ]
  },
  {
   "cell_type": "code",
   "execution_count": 13,
   "metadata": {},
   "outputs": [
    {
     "output_type": "execute_result",
     "data": {
      "text/plain": [
       "  State/Territory  Total Cases  Case Rate per 100000  Total Deaths  \\\n",
       "0          Alaska        17072                  2315            84   \n",
       "1         Alabama       199158                  4074          3026   \n",
       "2        Arkansas       117360                  3894          2037   \n",
       "3  American Samoa            0                     0             0   \n",
       "4         Arizona       252768                  3524          6087   \n",
       "\n",
       "   Death Rate per 100000 State  \n",
       "0                     11    AK  \n",
       "1                     61    AL  \n",
       "2                     67    AR  \n",
       "3                      0    AS  \n",
       "4                     84    AZ  "
      ],
      "text/html": "<div>\n<style scoped>\n    .dataframe tbody tr th:only-of-type {\n        vertical-align: middle;\n    }\n\n    .dataframe tbody tr th {\n        vertical-align: top;\n    }\n\n    .dataframe thead th {\n        text-align: right;\n    }\n</style>\n<table border=\"1\" class=\"dataframe\">\n  <thead>\n    <tr style=\"text-align: right;\">\n      <th></th>\n      <th>State/Territory</th>\n      <th>Total Cases</th>\n      <th>Case Rate per 100000</th>\n      <th>Total Deaths</th>\n      <th>Death Rate per 100000</th>\n      <th>State</th>\n    </tr>\n  </thead>\n  <tbody>\n    <tr>\n      <th>0</th>\n      <td>Alaska</td>\n      <td>17072</td>\n      <td>2315</td>\n      <td>84</td>\n      <td>11</td>\n      <td>AK</td>\n    </tr>\n    <tr>\n      <th>1</th>\n      <td>Alabama</td>\n      <td>199158</td>\n      <td>4074</td>\n      <td>3026</td>\n      <td>61</td>\n      <td>AL</td>\n    </tr>\n    <tr>\n      <th>2</th>\n      <td>Arkansas</td>\n      <td>117360</td>\n      <td>3894</td>\n      <td>2037</td>\n      <td>67</td>\n      <td>AR</td>\n    </tr>\n    <tr>\n      <th>3</th>\n      <td>American Samoa</td>\n      <td>0</td>\n      <td>0</td>\n      <td>0</td>\n      <td>0</td>\n      <td>AS</td>\n    </tr>\n    <tr>\n      <th>4</th>\n      <td>Arizona</td>\n      <td>252768</td>\n      <td>3524</td>\n      <td>6087</td>\n      <td>84</td>\n      <td>AZ</td>\n    </tr>\n  </tbody>\n</table>\n</div>"
     },
     "metadata": {},
     "execution_count": 13
    }
   ],
   "source": [
    "covid_stats_df['State'] = state_df['state']\n",
    "covid_stats_df.head()"
   ]
  },
  {
   "cell_type": "code",
   "execution_count": 14,
   "metadata": {},
   "outputs": [
    {
     "output_type": "execute_result",
     "data": {
      "text/plain": [
       "   State  Total_cases  Case_rate_per_100k  Total_deaths  Death_rate_per_100k\n",
       "55    VT         2303                 368            58                    9\n",
       "56    WA       112550                1494          2431                   32\n",
       "57    WI       263571                4534          2269                   39\n",
       "58    WV        26547                1470           480                   26\n",
       "59    WY        15409                2667           105                   18"
      ],
      "text/html": "<div>\n<style scoped>\n    .dataframe tbody tr th:only-of-type {\n        vertical-align: middle;\n    }\n\n    .dataframe tbody tr th {\n        vertical-align: top;\n    }\n\n    .dataframe thead th {\n        text-align: right;\n    }\n</style>\n<table border=\"1\" class=\"dataframe\">\n  <thead>\n    <tr style=\"text-align: right;\">\n      <th></th>\n      <th>State</th>\n      <th>Total_cases</th>\n      <th>Case_rate_per_100k</th>\n      <th>Total_deaths</th>\n      <th>Death_rate_per_100k</th>\n    </tr>\n  </thead>\n  <tbody>\n    <tr>\n      <th>55</th>\n      <td>VT</td>\n      <td>2303</td>\n      <td>368</td>\n      <td>58</td>\n      <td>9</td>\n    </tr>\n    <tr>\n      <th>56</th>\n      <td>WA</td>\n      <td>112550</td>\n      <td>1494</td>\n      <td>2431</td>\n      <td>32</td>\n    </tr>\n    <tr>\n      <th>57</th>\n      <td>WI</td>\n      <td>263571</td>\n      <td>4534</td>\n      <td>2269</td>\n      <td>39</td>\n    </tr>\n    <tr>\n      <th>58</th>\n      <td>WV</td>\n      <td>26547</td>\n      <td>1470</td>\n      <td>480</td>\n      <td>26</td>\n    </tr>\n    <tr>\n      <th>59</th>\n      <td>WY</td>\n      <td>15409</td>\n      <td>2667</td>\n      <td>105</td>\n      <td>18</td>\n    </tr>\n  </tbody>\n</table>\n</div>"
     },
     "metadata": {},
     "execution_count": 14
    }
   ],
   "source": [
    "covid_stats_df = covid_stats_df.rename(columns={\"state\": \"State\", \"Total Cases\": \"Total_cases\", \"Case Rate per 100000\": \"Case_rate_per_100k\", \"Total Deaths\": \"Total_deaths\", \"Death Rate per 100000\": \"Death_rate_per_100k\"})\n",
    "covid_stats_df = covid_stats_df[[\"State\", \"Total_cases\", \"Case_rate_per_100k\", \"Total_deaths\", \"Death_rate_per_100k\"]].dropna()\n",
    "covid_stats_df.tail()"
   ]
  },
  {
   "cell_type": "code",
   "execution_count": 39,
   "metadata": {},
   "outputs": [],
   "source": [
    "engine = create_engine('sqlite:///covid.db')\n",
    "\n",
    "covid_stats_df.to_sql(name='covid_total', con=engine, if_exists='replace', index=False)\n",
    "covid_monthly_df.to_sql(name='covid_monthly_avg', con=engine, if_exists='replace', index=False)\n",
    "#covid_monthly_df.to_sql('covid_monthly_avg', con=engine, if_exists='replace', index=False)\n",
    "\n",
    "## testing\n",
    "# df = pd.DataFrame({'a': [1,2],\n",
    "# 'b': [3,4]})\n",
    "# df.to_sql('test', con=engine)\n",
    "# pd.read_sql('select * from test', engine)\n",
    "# covid_monthly_df['date'] = covid_monthly_df['date'].astype(str)\n",
    "# covid_monthly_df.dtypes"
   ]
  },
  {
   "cell_type": "code",
   "execution_count": 40,
   "metadata": {},
   "outputs": [
    {
     "output_type": "execute_result",
     "data": {
      "text/plain": [
       "   State  Total_cases  Case_rate_per_100k  Total_deaths  Death_rate_per_100k\n",
       "0     AK        17072                2315            84                   11\n",
       "1     AL       199158                4074          3026                   61\n",
       "2     AR       117360                3894          2037                   67\n",
       "3     AS            0                   0             0                    0\n",
       "4     AZ       252768                3524          6087                   84\n",
       "5     CA       944576                2388         17815                   45\n",
       "6     CO       121006                2125          2353                   41\n",
       "7     CT        77060                2157          4656                  130\n",
       "8     DC        17682                2517           650                   92\n",
       "9     DE        25753                2663           716                   74\n",
       "10    FL       816376                3833         16961                   79\n",
       "11   FSM            0                   0             0                    0\n",
       "12    GA       368368                3502          8126                   77\n",
       "13    GU         5004                3019            85                   51\n",
       "14    HI        15471                1089           218                   15\n",
       "15    IA       141373                4479          1802                   57\n",
       "16    ID        69579                3966           671                   38\n",
       "17    IL       453750                3561         10313                   80\n",
       "18    IN       196176                2932          4511                   67\n",
       "19    KS        92215                3167          1087                   37\n",
       "20    KY       115277                2580          1534                   34\n",
       "21    LA       190845                4095          5995                  128\n",
       "22    MA       170594                2472         10067                  145\n",
       "23    MD       151505                2507          4194                   69\n",
       "24    ME         7444                 556           150                   11\n",
       "25    MI       218263                2186          7833                   78\n",
       "26    MN       164865                2938          2634                   46\n",
       "27    MO       196576                3209          3106                   50\n",
       "28    MP           98                   0             2                    3\n",
       "29    MS       124854                4181          3419                  114\n",
       "30    MT        36968                3480           407                   38\n",
       "31    NC       285661                2751          4548                   43\n",
       "32    ND        51602                6789           613                   80\n",
       "33    NE        78012                4044           674                   34\n",
       "34    NH        11808                 870           486                   35\n",
       "35    NJ       247219                2775         16403                  184\n",
       "36    NM        51110                2439          1082                   51\n",
       "37    NV       105360                3472          1824                   60\n",
       "38    NY       251352                2256          9313                   83\n",
       "39   NYC       271053                3227         24054                  286\n",
       "40    OH       235170                2012          5461                   46\n",
       "41    OK       136324                3457          1420                   36\n",
       "42    OR        47839                1142           710                   16\n",
       "43    PA       220566                1722          8937                   69\n",
       "44    PR        70519                2207           862                   26\n",
       "45    PW            0                   0             0                    0\n",
       "46    RI        35750                3381          1222                  115\n",
       "47   RMI            1                   2             0                    0\n",
       "48    SC       181639                3573          3992                   78\n",
       "49    SD        51151                5798           482                   54\n",
       "50    TN       271771                4014          3509                   51\n",
       "51    TX       934994                3258         18453                   64\n",
       "52    UT       124292                3932           632                   19\n",
       "53    VA       188771                2216          3682                   43\n",
       "54    VI         1390                1328            23                   21\n",
       "55    VT         2303                 368            58                    9\n",
       "56    WA       112550                1494          2431                   32\n",
       "57    WI       263571                4534          2269                   39\n",
       "58    WV        26547                1470           480                   26\n",
       "59    WY        15409                2667           105                   18"
      ],
      "text/html": "<div>\n<style scoped>\n    .dataframe tbody tr th:only-of-type {\n        vertical-align: middle;\n    }\n\n    .dataframe tbody tr th {\n        vertical-align: top;\n    }\n\n    .dataframe thead th {\n        text-align: right;\n    }\n</style>\n<table border=\"1\" class=\"dataframe\">\n  <thead>\n    <tr style=\"text-align: right;\">\n      <th></th>\n      <th>State</th>\n      <th>Total_cases</th>\n      <th>Case_rate_per_100k</th>\n      <th>Total_deaths</th>\n      <th>Death_rate_per_100k</th>\n    </tr>\n  </thead>\n  <tbody>\n    <tr>\n      <th>0</th>\n      <td>AK</td>\n      <td>17072</td>\n      <td>2315</td>\n      <td>84</td>\n      <td>11</td>\n    </tr>\n    <tr>\n      <th>1</th>\n      <td>AL</td>\n      <td>199158</td>\n      <td>4074</td>\n      <td>3026</td>\n      <td>61</td>\n    </tr>\n    <tr>\n      <th>2</th>\n      <td>AR</td>\n      <td>117360</td>\n      <td>3894</td>\n      <td>2037</td>\n      <td>67</td>\n    </tr>\n    <tr>\n      <th>3</th>\n      <td>AS</td>\n      <td>0</td>\n      <td>0</td>\n      <td>0</td>\n      <td>0</td>\n    </tr>\n    <tr>\n      <th>4</th>\n      <td>AZ</td>\n      <td>252768</td>\n      <td>3524</td>\n      <td>6087</td>\n      <td>84</td>\n    </tr>\n    <tr>\n      <th>5</th>\n      <td>CA</td>\n      <td>944576</td>\n      <td>2388</td>\n      <td>17815</td>\n      <td>45</td>\n    </tr>\n    <tr>\n      <th>6</th>\n      <td>CO</td>\n      <td>121006</td>\n      <td>2125</td>\n      <td>2353</td>\n      <td>41</td>\n    </tr>\n    <tr>\n      <th>7</th>\n      <td>CT</td>\n      <td>77060</td>\n      <td>2157</td>\n      <td>4656</td>\n      <td>130</td>\n    </tr>\n    <tr>\n      <th>8</th>\n      <td>DC</td>\n      <td>17682</td>\n      <td>2517</td>\n      <td>650</td>\n      <td>92</td>\n    </tr>\n    <tr>\n      <th>9</th>\n      <td>DE</td>\n      <td>25753</td>\n      <td>2663</td>\n      <td>716</td>\n      <td>74</td>\n    </tr>\n    <tr>\n      <th>10</th>\n      <td>FL</td>\n      <td>816376</td>\n      <td>3833</td>\n      <td>16961</td>\n      <td>79</td>\n    </tr>\n    <tr>\n      <th>11</th>\n      <td>FSM</td>\n      <td>0</td>\n      <td>0</td>\n      <td>0</td>\n      <td>0</td>\n    </tr>\n    <tr>\n      <th>12</th>\n      <td>GA</td>\n      <td>368368</td>\n      <td>3502</td>\n      <td>8126</td>\n      <td>77</td>\n    </tr>\n    <tr>\n      <th>13</th>\n      <td>GU</td>\n      <td>5004</td>\n      <td>3019</td>\n      <td>85</td>\n      <td>51</td>\n    </tr>\n    <tr>\n      <th>14</th>\n      <td>HI</td>\n      <td>15471</td>\n      <td>1089</td>\n      <td>218</td>\n      <td>15</td>\n    </tr>\n    <tr>\n      <th>15</th>\n      <td>IA</td>\n      <td>141373</td>\n      <td>4479</td>\n      <td>1802</td>\n      <td>57</td>\n    </tr>\n    <tr>\n      <th>16</th>\n      <td>ID</td>\n      <td>69579</td>\n      <td>3966</td>\n      <td>671</td>\n      <td>38</td>\n    </tr>\n    <tr>\n      <th>17</th>\n      <td>IL</td>\n      <td>453750</td>\n      <td>3561</td>\n      <td>10313</td>\n      <td>80</td>\n    </tr>\n    <tr>\n      <th>18</th>\n      <td>IN</td>\n      <td>196176</td>\n      <td>2932</td>\n      <td>4511</td>\n      <td>67</td>\n    </tr>\n    <tr>\n      <th>19</th>\n      <td>KS</td>\n      <td>92215</td>\n      <td>3167</td>\n      <td>1087</td>\n      <td>37</td>\n    </tr>\n    <tr>\n      <th>20</th>\n      <td>KY</td>\n      <td>115277</td>\n      <td>2580</td>\n      <td>1534</td>\n      <td>34</td>\n    </tr>\n    <tr>\n      <th>21</th>\n      <td>LA</td>\n      <td>190845</td>\n      <td>4095</td>\n      <td>5995</td>\n      <td>128</td>\n    </tr>\n    <tr>\n      <th>22</th>\n      <td>MA</td>\n      <td>170594</td>\n      <td>2472</td>\n      <td>10067</td>\n      <td>145</td>\n    </tr>\n    <tr>\n      <th>23</th>\n      <td>MD</td>\n      <td>151505</td>\n      <td>2507</td>\n      <td>4194</td>\n      <td>69</td>\n    </tr>\n    <tr>\n      <th>24</th>\n      <td>ME</td>\n      <td>7444</td>\n      <td>556</td>\n      <td>150</td>\n      <td>11</td>\n    </tr>\n    <tr>\n      <th>25</th>\n      <td>MI</td>\n      <td>218263</td>\n      <td>2186</td>\n      <td>7833</td>\n      <td>78</td>\n    </tr>\n    <tr>\n      <th>26</th>\n      <td>MN</td>\n      <td>164865</td>\n      <td>2938</td>\n      <td>2634</td>\n      <td>46</td>\n    </tr>\n    <tr>\n      <th>27</th>\n      <td>MO</td>\n      <td>196576</td>\n      <td>3209</td>\n      <td>3106</td>\n      <td>50</td>\n    </tr>\n    <tr>\n      <th>28</th>\n      <td>MP</td>\n      <td>98</td>\n      <td>0</td>\n      <td>2</td>\n      <td>3</td>\n    </tr>\n    <tr>\n      <th>29</th>\n      <td>MS</td>\n      <td>124854</td>\n      <td>4181</td>\n      <td>3419</td>\n      <td>114</td>\n    </tr>\n    <tr>\n      <th>30</th>\n      <td>MT</td>\n      <td>36968</td>\n      <td>3480</td>\n      <td>407</td>\n      <td>38</td>\n    </tr>\n    <tr>\n      <th>31</th>\n      <td>NC</td>\n      <td>285661</td>\n      <td>2751</td>\n      <td>4548</td>\n      <td>43</td>\n    </tr>\n    <tr>\n      <th>32</th>\n      <td>ND</td>\n      <td>51602</td>\n      <td>6789</td>\n      <td>613</td>\n      <td>80</td>\n    </tr>\n    <tr>\n      <th>33</th>\n      <td>NE</td>\n      <td>78012</td>\n      <td>4044</td>\n      <td>674</td>\n      <td>34</td>\n    </tr>\n    <tr>\n      <th>34</th>\n      <td>NH</td>\n      <td>11808</td>\n      <td>870</td>\n      <td>486</td>\n      <td>35</td>\n    </tr>\n    <tr>\n      <th>35</th>\n      <td>NJ</td>\n      <td>247219</td>\n      <td>2775</td>\n      <td>16403</td>\n      <td>184</td>\n    </tr>\n    <tr>\n      <th>36</th>\n      <td>NM</td>\n      <td>51110</td>\n      <td>2439</td>\n      <td>1082</td>\n      <td>51</td>\n    </tr>\n    <tr>\n      <th>37</th>\n      <td>NV</td>\n      <td>105360</td>\n      <td>3472</td>\n      <td>1824</td>\n      <td>60</td>\n    </tr>\n    <tr>\n      <th>38</th>\n      <td>NY</td>\n      <td>251352</td>\n      <td>2256</td>\n      <td>9313</td>\n      <td>83</td>\n    </tr>\n    <tr>\n      <th>39</th>\n      <td>NYC</td>\n      <td>271053</td>\n      <td>3227</td>\n      <td>24054</td>\n      <td>286</td>\n    </tr>\n    <tr>\n      <th>40</th>\n      <td>OH</td>\n      <td>235170</td>\n      <td>2012</td>\n      <td>5461</td>\n      <td>46</td>\n    </tr>\n    <tr>\n      <th>41</th>\n      <td>OK</td>\n      <td>136324</td>\n      <td>3457</td>\n      <td>1420</td>\n      <td>36</td>\n    </tr>\n    <tr>\n      <th>42</th>\n      <td>OR</td>\n      <td>47839</td>\n      <td>1142</td>\n      <td>710</td>\n      <td>16</td>\n    </tr>\n    <tr>\n      <th>43</th>\n      <td>PA</td>\n      <td>220566</td>\n      <td>1722</td>\n      <td>8937</td>\n      <td>69</td>\n    </tr>\n    <tr>\n      <th>44</th>\n      <td>PR</td>\n      <td>70519</td>\n      <td>2207</td>\n      <td>862</td>\n      <td>26</td>\n    </tr>\n    <tr>\n      <th>45</th>\n      <td>PW</td>\n      <td>0</td>\n      <td>0</td>\n      <td>0</td>\n      <td>0</td>\n    </tr>\n    <tr>\n      <th>46</th>\n      <td>RI</td>\n      <td>35750</td>\n      <td>3381</td>\n      <td>1222</td>\n      <td>115</td>\n    </tr>\n    <tr>\n      <th>47</th>\n      <td>RMI</td>\n      <td>1</td>\n      <td>2</td>\n      <td>0</td>\n      <td>0</td>\n    </tr>\n    <tr>\n      <th>48</th>\n      <td>SC</td>\n      <td>181639</td>\n      <td>3573</td>\n      <td>3992</td>\n      <td>78</td>\n    </tr>\n    <tr>\n      <th>49</th>\n      <td>SD</td>\n      <td>51151</td>\n      <td>5798</td>\n      <td>482</td>\n      <td>54</td>\n    </tr>\n    <tr>\n      <th>50</th>\n      <td>TN</td>\n      <td>271771</td>\n      <td>4014</td>\n      <td>3509</td>\n      <td>51</td>\n    </tr>\n    <tr>\n      <th>51</th>\n      <td>TX</td>\n      <td>934994</td>\n      <td>3258</td>\n      <td>18453</td>\n      <td>64</td>\n    </tr>\n    <tr>\n      <th>52</th>\n      <td>UT</td>\n      <td>124292</td>\n      <td>3932</td>\n      <td>632</td>\n      <td>19</td>\n    </tr>\n    <tr>\n      <th>53</th>\n      <td>VA</td>\n      <td>188771</td>\n      <td>2216</td>\n      <td>3682</td>\n      <td>43</td>\n    </tr>\n    <tr>\n      <th>54</th>\n      <td>VI</td>\n      <td>1390</td>\n      <td>1328</td>\n      <td>23</td>\n      <td>21</td>\n    </tr>\n    <tr>\n      <th>55</th>\n      <td>VT</td>\n      <td>2303</td>\n      <td>368</td>\n      <td>58</td>\n      <td>9</td>\n    </tr>\n    <tr>\n      <th>56</th>\n      <td>WA</td>\n      <td>112550</td>\n      <td>1494</td>\n      <td>2431</td>\n      <td>32</td>\n    </tr>\n    <tr>\n      <th>57</th>\n      <td>WI</td>\n      <td>263571</td>\n      <td>4534</td>\n      <td>2269</td>\n      <td>39</td>\n    </tr>\n    <tr>\n      <th>58</th>\n      <td>WV</td>\n      <td>26547</td>\n      <td>1470</td>\n      <td>480</td>\n      <td>26</td>\n    </tr>\n    <tr>\n      <th>59</th>\n      <td>WY</td>\n      <td>15409</td>\n      <td>2667</td>\n      <td>105</td>\n      <td>18</td>\n    </tr>\n  </tbody>\n</table>\n</div>"
     },
     "metadata": {},
     "execution_count": 40
    }
   ],
   "source": [
    "pd.read_sql('select * from covid_total', engine)\n"
   ]
  },
  {
   "cell_type": "code",
   "execution_count": null,
   "metadata": {},
   "outputs": [],
   "source": []
  },
  {
   "cell_type": "code",
   "execution_count": null,
   "metadata": {},
   "outputs": [],
   "source": []
  }
 ]
}