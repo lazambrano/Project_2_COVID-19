{
 "metadata": {
  "language_info": {
   "codemirror_mode": {
    "name": "ipython",
    "version": 3
   },
   "file_extension": ".py",
   "mimetype": "text/x-python",
   "name": "python",
   "nbconvert_exporter": "python",
   "pygments_lexer": "ipython3",
   "version": "3.6.10-final"
  },
  "orig_nbformat": 2,
  "kernelspec": {
   "name": "python3",
   "display_name": "Python 3"
  }
 },
 "nbformat": 4,
 "nbformat_minor": 2,
 "cells": [
  {
   "source": [
    "url: https://data.cdc.gov/Case-Surveillance/United-States-COVID-19-Cases-and-Deaths-by-State-o/9mfq-cb36"
   ],
   "cell_type": "markdown",
   "metadata": {}
  },
  {
   "cell_type": "code",
   "execution_count": 34,
   "metadata": {},
   "outputs": [],
   "source": [
    "import pandas as pd\n",
    "\n"
   ]
  },
  {
   "cell_type": "code",
   "execution_count": 41,
   "metadata": {},
   "outputs": [
    {
     "output_type": "execute_result",
     "data": {
      "text/plain": [
       "  submission_date state  tot_cases  conf_cases  prob_cases  new_case  \\\n",
       "0      01/22/2020    CO          0         NaN         NaN         0   \n",
       "1      01/23/2020    CO          0         NaN         NaN         0   \n",
       "2      01/24/2020    CO          0         NaN         NaN         0   \n",
       "3      01/25/2020    CO          0         NaN         NaN         0   \n",
       "4      01/26/2020    CO          0         NaN         NaN         0   \n",
       "\n",
       "   pnew_case  tot_death  conf_death  prob_death  new_death  pnew_death  \\\n",
       "0        NaN          0         NaN         NaN          0         NaN   \n",
       "1        NaN          0         NaN         NaN          0         NaN   \n",
       "2        NaN          0         NaN         NaN          0         NaN   \n",
       "3        NaN          0         NaN         NaN          0         NaN   \n",
       "4        NaN          0         NaN         NaN          0         NaN   \n",
       "\n",
       "               created_at consent_cases consent_deaths  \n",
       "0  03/26/2020 04:22:39 PM         Agree          Agree  \n",
       "1  03/26/2020 04:22:39 PM         Agree          Agree  \n",
       "2  03/26/2020 04:22:39 PM         Agree          Agree  \n",
       "3  03/26/2020 04:22:39 PM         Agree          Agree  \n",
       "4  03/26/2020 04:22:39 PM         Agree          Agree  "
      ],
      "text/html": "<div>\n<style scoped>\n    .dataframe tbody tr th:only-of-type {\n        vertical-align: middle;\n    }\n\n    .dataframe tbody tr th {\n        vertical-align: top;\n    }\n\n    .dataframe thead th {\n        text-align: right;\n    }\n</style>\n<table border=\"1\" class=\"dataframe\">\n  <thead>\n    <tr style=\"text-align: right;\">\n      <th></th>\n      <th>submission_date</th>\n      <th>state</th>\n      <th>tot_cases</th>\n      <th>conf_cases</th>\n      <th>prob_cases</th>\n      <th>new_case</th>\n      <th>pnew_case</th>\n      <th>tot_death</th>\n      <th>conf_death</th>\n      <th>prob_death</th>\n      <th>new_death</th>\n      <th>pnew_death</th>\n      <th>created_at</th>\n      <th>consent_cases</th>\n      <th>consent_deaths</th>\n    </tr>\n  </thead>\n  <tbody>\n    <tr>\n      <th>0</th>\n      <td>01/22/2020</td>\n      <td>CO</td>\n      <td>0</td>\n      <td>NaN</td>\n      <td>NaN</td>\n      <td>0</td>\n      <td>NaN</td>\n      <td>0</td>\n      <td>NaN</td>\n      <td>NaN</td>\n      <td>0</td>\n      <td>NaN</td>\n      <td>03/26/2020 04:22:39 PM</td>\n      <td>Agree</td>\n      <td>Agree</td>\n    </tr>\n    <tr>\n      <th>1</th>\n      <td>01/23/2020</td>\n      <td>CO</td>\n      <td>0</td>\n      <td>NaN</td>\n      <td>NaN</td>\n      <td>0</td>\n      <td>NaN</td>\n      <td>0</td>\n      <td>NaN</td>\n      <td>NaN</td>\n      <td>0</td>\n      <td>NaN</td>\n      <td>03/26/2020 04:22:39 PM</td>\n      <td>Agree</td>\n      <td>Agree</td>\n    </tr>\n    <tr>\n      <th>2</th>\n      <td>01/24/2020</td>\n      <td>CO</td>\n      <td>0</td>\n      <td>NaN</td>\n      <td>NaN</td>\n      <td>0</td>\n      <td>NaN</td>\n      <td>0</td>\n      <td>NaN</td>\n      <td>NaN</td>\n      <td>0</td>\n      <td>NaN</td>\n      <td>03/26/2020 04:22:39 PM</td>\n      <td>Agree</td>\n      <td>Agree</td>\n    </tr>\n    <tr>\n      <th>3</th>\n      <td>01/25/2020</td>\n      <td>CO</td>\n      <td>0</td>\n      <td>NaN</td>\n      <td>NaN</td>\n      <td>0</td>\n      <td>NaN</td>\n      <td>0</td>\n      <td>NaN</td>\n      <td>NaN</td>\n      <td>0</td>\n      <td>NaN</td>\n      <td>03/26/2020 04:22:39 PM</td>\n      <td>Agree</td>\n      <td>Agree</td>\n    </tr>\n    <tr>\n      <th>4</th>\n      <td>01/26/2020</td>\n      <td>CO</td>\n      <td>0</td>\n      <td>NaN</td>\n      <td>NaN</td>\n      <td>0</td>\n      <td>NaN</td>\n      <td>0</td>\n      <td>NaN</td>\n      <td>NaN</td>\n      <td>0</td>\n      <td>NaN</td>\n      <td>03/26/2020 04:22:39 PM</td>\n      <td>Agree</td>\n      <td>Agree</td>\n    </tr>\n  </tbody>\n</table>\n</div>"
     },
     "metadata": {},
     "execution_count": 41
    }
   ],
   "source": [
    "file = \"data/US_COVID-19_Cases.csv\"\n",
    "covid_df = pd.read_csv(file)\n",
    "covid_df.head()"
   ]
  },
  {
   "cell_type": "code",
   "execution_count": 36,
   "metadata": {},
   "outputs": [
    {
     "output_type": "execute_result",
     "data": {
      "text/plain": [
       "  submission_date state  tot_cases  tot_death\n",
       "0      01/22/2020    CO          0          0\n",
       "1      01/23/2020    CO          0          0\n",
       "2      01/24/2020    CO          0          0\n",
       "3      01/25/2020    CO          0          0\n",
       "4      01/26/2020    CO          0          0"
      ],
      "text/html": "<div>\n<style scoped>\n    .dataframe tbody tr th:only-of-type {\n        vertical-align: middle;\n    }\n\n    .dataframe tbody tr th {\n        vertical-align: top;\n    }\n\n    .dataframe thead th {\n        text-align: right;\n    }\n</style>\n<table border=\"1\" class=\"dataframe\">\n  <thead>\n    <tr style=\"text-align: right;\">\n      <th></th>\n      <th>submission_date</th>\n      <th>state</th>\n      <th>tot_cases</th>\n      <th>tot_death</th>\n    </tr>\n  </thead>\n  <tbody>\n    <tr>\n      <th>0</th>\n      <td>01/22/2020</td>\n      <td>CO</td>\n      <td>0</td>\n      <td>0</td>\n    </tr>\n    <tr>\n      <th>1</th>\n      <td>01/23/2020</td>\n      <td>CO</td>\n      <td>0</td>\n      <td>0</td>\n    </tr>\n    <tr>\n      <th>2</th>\n      <td>01/24/2020</td>\n      <td>CO</td>\n      <td>0</td>\n      <td>0</td>\n    </tr>\n    <tr>\n      <th>3</th>\n      <td>01/25/2020</td>\n      <td>CO</td>\n      <td>0</td>\n      <td>0</td>\n    </tr>\n    <tr>\n      <th>4</th>\n      <td>01/26/2020</td>\n      <td>CO</td>\n      <td>0</td>\n      <td>0</td>\n    </tr>\n  </tbody>\n</table>\n</div>"
     },
     "metadata": {},
     "execution_count": 36
    }
   ],
   "source": [
    "covid_df = covid_df[[\"submission_date\", \"state\", \"tot_cases\", \"tot_death\"]]\n",
    "covid_df.head()"
   ]
  },
  {
   "cell_type": "code",
   "execution_count": 37,
   "metadata": {},
   "outputs": [
    {
     "output_type": "execute_result",
     "data": {
      "text/plain": [
       "  submission_date state  tot_cases  tot_death  Total_recovered\n",
       "0      01/22/2020    CO          0          0                0\n",
       "1      01/23/2020    CO          0          0                0\n",
       "2      01/24/2020    CO          0          0                0\n",
       "3      01/25/2020    CO          0          0                0\n",
       "4      01/26/2020    CO          0          0                0"
      ],
      "text/html": "<div>\n<style scoped>\n    .dataframe tbody tr th:only-of-type {\n        vertical-align: middle;\n    }\n\n    .dataframe tbody tr th {\n        vertical-align: top;\n    }\n\n    .dataframe thead th {\n        text-align: right;\n    }\n</style>\n<table border=\"1\" class=\"dataframe\">\n  <thead>\n    <tr style=\"text-align: right;\">\n      <th></th>\n      <th>submission_date</th>\n      <th>state</th>\n      <th>tot_cases</th>\n      <th>tot_death</th>\n      <th>Total_recovered</th>\n    </tr>\n  </thead>\n  <tbody>\n    <tr>\n      <th>0</th>\n      <td>01/22/2020</td>\n      <td>CO</td>\n      <td>0</td>\n      <td>0</td>\n      <td>0</td>\n    </tr>\n    <tr>\n      <th>1</th>\n      <td>01/23/2020</td>\n      <td>CO</td>\n      <td>0</td>\n      <td>0</td>\n      <td>0</td>\n    </tr>\n    <tr>\n      <th>2</th>\n      <td>01/24/2020</td>\n      <td>CO</td>\n      <td>0</td>\n      <td>0</td>\n      <td>0</td>\n    </tr>\n    <tr>\n      <th>3</th>\n      <td>01/25/2020</td>\n      <td>CO</td>\n      <td>0</td>\n      <td>0</td>\n      <td>0</td>\n    </tr>\n    <tr>\n      <th>4</th>\n      <td>01/26/2020</td>\n      <td>CO</td>\n      <td>0</td>\n      <td>0</td>\n      <td>0</td>\n    </tr>\n  </tbody>\n</table>\n</div>"
     },
     "metadata": {},
     "execution_count": 37
    }
   ],
   "source": [
    "covid_df[\"Total_recovered\"] = covid_df.tot_cases - covid_df.tot_death\n",
    "covid_df.head()"
   ]
  },
  {
   "cell_type": "code",
   "execution_count": 38,
   "metadata": {},
   "outputs": [
    {
     "output_type": "execute_result",
     "data": {
      "text/plain": [
       "             Date State  Total_cases  Total_death  Total_recovered\n",
       "17335  11/01/2020    PW            0            0                0\n",
       "17336  11/02/2020    PW            0            0                0\n",
       "17337  11/03/2020    PW            0            0                0\n",
       "17338  11/04/2020    PW            0            0                0\n",
       "17339  11/05/2020    PW            0            0                0"
      ],
      "text/html": "<div>\n<style scoped>\n    .dataframe tbody tr th:only-of-type {\n        vertical-align: middle;\n    }\n\n    .dataframe tbody tr th {\n        vertical-align: top;\n    }\n\n    .dataframe thead th {\n        text-align: right;\n    }\n</style>\n<table border=\"1\" class=\"dataframe\">\n  <thead>\n    <tr style=\"text-align: right;\">\n      <th></th>\n      <th>Date</th>\n      <th>State</th>\n      <th>Total_cases</th>\n      <th>Total_death</th>\n      <th>Total_recovered</th>\n    </tr>\n  </thead>\n  <tbody>\n    <tr>\n      <th>17335</th>\n      <td>11/01/2020</td>\n      <td>PW</td>\n      <td>0</td>\n      <td>0</td>\n      <td>0</td>\n    </tr>\n    <tr>\n      <th>17336</th>\n      <td>11/02/2020</td>\n      <td>PW</td>\n      <td>0</td>\n      <td>0</td>\n      <td>0</td>\n    </tr>\n    <tr>\n      <th>17337</th>\n      <td>11/03/2020</td>\n      <td>PW</td>\n      <td>0</td>\n      <td>0</td>\n      <td>0</td>\n    </tr>\n    <tr>\n      <th>17338</th>\n      <td>11/04/2020</td>\n      <td>PW</td>\n      <td>0</td>\n      <td>0</td>\n      <td>0</td>\n    </tr>\n    <tr>\n      <th>17339</th>\n      <td>11/05/2020</td>\n      <td>PW</td>\n      <td>0</td>\n      <td>0</td>\n      <td>0</td>\n    </tr>\n  </tbody>\n</table>\n</div>"
     },
     "metadata": {},
     "execution_count": 38
    }
   ],
   "source": [
    "covid_df = covid_df.rename(columns={\"submission_date\": \"Date\", \"state\": \"State\", \"tot_cases\": \"Total_cases\", \"tot_death\": \"Total_death\"})\n",
    "covid_df.tail()"
   ]
  },
  {
   "cell_type": "code",
   "execution_count": 40,
   "metadata": {},
   "outputs": [
    {
     "output_type": "execute_result",
     "data": {
      "text/plain": [
       "         Total_cases   Total_death  Total_recovered\n",
       "State                                              \n",
       "AK       2916.114187     21.346021      2894.768166\n",
       "AL      59294.768166   1074.408304     58220.359862\n",
       "AR      31101.352941    462.674740     30638.678201\n",
       "AS          0.000000      0.000000         0.000000\n",
       "AZ      92068.069204   2252.785467     89815.283737\n",
       "CA     319671.685121   6578.318339    313093.366782\n",
       "CO      33862.802768   1200.979239     32661.823529\n",
       "CT      34630.916955   2868.674740     31762.242215\n",
       "DC       8190.820069    370.927336      7819.892734\n",
       "DE      10194.474048    351.134948      9843.339100\n",
       "FL     271463.197232   5410.231834    266052.965398\n",
       "FSM         0.000000      0.000000         0.000000\n",
       "GA     124858.543253   2950.910035    121907.633218\n",
       "GU        836.446367     13.958478       822.487889\n",
       "HI       3687.173010     45.830450      3641.342561\n",
       "IA      35633.878893    623.148789     35010.730104\n",
       "ID      15735.304498    175.865052     15559.439446\n",
       "IL     138437.335640   4948.269896    133489.065744\n",
       "IN      52663.107266   1981.349481     50681.757785\n",
       "KS      22617.069204    293.916955     22323.152249\n",
       "KY      26246.519031    539.588235     25706.930796\n",
       "LA      73687.169550   2817.404844     70869.764706\n",
       "MA      81650.359862   5552.179931     76098.179931\n",
       "MD      60203.318339   2224.529412     57978.788927\n",
       "ME       2678.778547     79.377163      2599.401384\n",
       "MI      68627.003460   4372.678201     64254.325260\n",
       "MN      41781.951557   1079.062284     40702.889273\n",
       "MO      44892.567474    945.840830     43946.726644\n",
       "MP         32.775087      1.467128        31.307958\n",
       "MS      39416.788927   1216.930796     38199.858131\n",
       "MT       5045.394464     65.899654      4979.494810\n",
       "NC      83341.958478   1448.231834     81893.726644\n",
       "ND       8089.446367    107.806228      7981.640138\n",
       "NE      20099.124567    226.757785     19872.366782\n",
       "NH       4504.955017    245.214533      4259.740484\n",
       "NJ     127982.892734   9836.979239    118145.913495\n",
       "NM      13656.899654    419.411765     13237.487889\n",
       "NV      31529.401384    665.041522     30864.359862\n",
       "NY     136180.352941   5939.702422    130240.650519\n",
       "NYC    160184.633218  16029.273356    144155.359862\n",
       "OH      65354.051903   2333.851211     63020.200692\n",
       "OK      32322.224913    447.121107     31875.103806\n",
       "OR      13221.377163    240.667820     12980.709343\n",
       "PA      79978.875433   4622.875433     75356.000000\n",
       "PR      16610.705882    243.027682     16367.678201\n",
       "PW          0.000000      0.000000         0.000000\n",
       "RI      13541.228374    626.242215     12914.986159\n",
       "RMI         0.044983      0.000000         0.044983\n",
       "SC      56148.408304   1260.941176     54887.467128\n",
       "SD       9282.404844    102.989619      9179.415225\n",
       "TN      75145.934256    921.034602     74224.899654\n",
       "TX     279641.951557   5478.173010    274163.778547\n",
       "UT      29639.809689    204.072664     29435.737024\n",
       "VA      64629.622837   1506.290657     63123.332180\n",
       "VI        426.671280      7.685121       418.986159\n",
       "VT       1022.916955     40.657439       982.259516\n",
       "WA      38647.217993   1134.830450     37512.387543\n",
       "WI      50415.972318    682.799308     49733.173010\n",
       "WV       5817.591696    125.896194      5691.695502\n",
       "WY       2514.519031     22.204152      2492.314879"
      ],
      "text/html": "<div>\n<style scoped>\n    .dataframe tbody tr th:only-of-type {\n        vertical-align: middle;\n    }\n\n    .dataframe tbody tr th {\n        vertical-align: top;\n    }\n\n    .dataframe thead th {\n        text-align: right;\n    }\n</style>\n<table border=\"1\" class=\"dataframe\">\n  <thead>\n    <tr style=\"text-align: right;\">\n      <th></th>\n      <th>Total_cases</th>\n      <th>Total_death</th>\n      <th>Total_recovered</th>\n    </tr>\n    <tr>\n      <th>State</th>\n      <th></th>\n      <th></th>\n      <th></th>\n    </tr>\n  </thead>\n  <tbody>\n    <tr>\n      <th>AK</th>\n      <td>2916.114187</td>\n      <td>21.346021</td>\n      <td>2894.768166</td>\n    </tr>\n    <tr>\n      <th>AL</th>\n      <td>59294.768166</td>\n      <td>1074.408304</td>\n      <td>58220.359862</td>\n    </tr>\n    <tr>\n      <th>AR</th>\n      <td>31101.352941</td>\n      <td>462.674740</td>\n      <td>30638.678201</td>\n    </tr>\n    <tr>\n      <th>AS</th>\n      <td>0.000000</td>\n      <td>0.000000</td>\n      <td>0.000000</td>\n    </tr>\n    <tr>\n      <th>AZ</th>\n      <td>92068.069204</td>\n      <td>2252.785467</td>\n      <td>89815.283737</td>\n    </tr>\n    <tr>\n      <th>CA</th>\n      <td>319671.685121</td>\n      <td>6578.318339</td>\n      <td>313093.366782</td>\n    </tr>\n    <tr>\n      <th>CO</th>\n      <td>33862.802768</td>\n      <td>1200.979239</td>\n      <td>32661.823529</td>\n    </tr>\n    <tr>\n      <th>CT</th>\n      <td>34630.916955</td>\n      <td>2868.674740</td>\n      <td>31762.242215</td>\n    </tr>\n    <tr>\n      <th>DC</th>\n      <td>8190.820069</td>\n      <td>370.927336</td>\n      <td>7819.892734</td>\n    </tr>\n    <tr>\n      <th>DE</th>\n      <td>10194.474048</td>\n      <td>351.134948</td>\n      <td>9843.339100</td>\n    </tr>\n    <tr>\n      <th>FL</th>\n      <td>271463.197232</td>\n      <td>5410.231834</td>\n      <td>266052.965398</td>\n    </tr>\n    <tr>\n      <th>FSM</th>\n      <td>0.000000</td>\n      <td>0.000000</td>\n      <td>0.000000</td>\n    </tr>\n    <tr>\n      <th>GA</th>\n      <td>124858.543253</td>\n      <td>2950.910035</td>\n      <td>121907.633218</td>\n    </tr>\n    <tr>\n      <th>GU</th>\n      <td>836.446367</td>\n      <td>13.958478</td>\n      <td>822.487889</td>\n    </tr>\n    <tr>\n      <th>HI</th>\n      <td>3687.173010</td>\n      <td>45.830450</td>\n      <td>3641.342561</td>\n    </tr>\n    <tr>\n      <th>IA</th>\n      <td>35633.878893</td>\n      <td>623.148789</td>\n      <td>35010.730104</td>\n    </tr>\n    <tr>\n      <th>ID</th>\n      <td>15735.304498</td>\n      <td>175.865052</td>\n      <td>15559.439446</td>\n    </tr>\n    <tr>\n      <th>IL</th>\n      <td>138437.335640</td>\n      <td>4948.269896</td>\n      <td>133489.065744</td>\n    </tr>\n    <tr>\n      <th>IN</th>\n      <td>52663.107266</td>\n      <td>1981.349481</td>\n      <td>50681.757785</td>\n    </tr>\n    <tr>\n      <th>KS</th>\n      <td>22617.069204</td>\n      <td>293.916955</td>\n      <td>22323.152249</td>\n    </tr>\n    <tr>\n      <th>KY</th>\n      <td>26246.519031</td>\n      <td>539.588235</td>\n      <td>25706.930796</td>\n    </tr>\n    <tr>\n      <th>LA</th>\n      <td>73687.169550</td>\n      <td>2817.404844</td>\n      <td>70869.764706</td>\n    </tr>\n    <tr>\n      <th>MA</th>\n      <td>81650.359862</td>\n      <td>5552.179931</td>\n      <td>76098.179931</td>\n    </tr>\n    <tr>\n      <th>MD</th>\n      <td>60203.318339</td>\n      <td>2224.529412</td>\n      <td>57978.788927</td>\n    </tr>\n    <tr>\n      <th>ME</th>\n      <td>2678.778547</td>\n      <td>79.377163</td>\n      <td>2599.401384</td>\n    </tr>\n    <tr>\n      <th>MI</th>\n      <td>68627.003460</td>\n      <td>4372.678201</td>\n      <td>64254.325260</td>\n    </tr>\n    <tr>\n      <th>MN</th>\n      <td>41781.951557</td>\n      <td>1079.062284</td>\n      <td>40702.889273</td>\n    </tr>\n    <tr>\n      <th>MO</th>\n      <td>44892.567474</td>\n      <td>945.840830</td>\n      <td>43946.726644</td>\n    </tr>\n    <tr>\n      <th>MP</th>\n      <td>32.775087</td>\n      <td>1.467128</td>\n      <td>31.307958</td>\n    </tr>\n    <tr>\n      <th>MS</th>\n      <td>39416.788927</td>\n      <td>1216.930796</td>\n      <td>38199.858131</td>\n    </tr>\n    <tr>\n      <th>MT</th>\n      <td>5045.394464</td>\n      <td>65.899654</td>\n      <td>4979.494810</td>\n    </tr>\n    <tr>\n      <th>NC</th>\n      <td>83341.958478</td>\n      <td>1448.231834</td>\n      <td>81893.726644</td>\n    </tr>\n    <tr>\n      <th>ND</th>\n      <td>8089.446367</td>\n      <td>107.806228</td>\n      <td>7981.640138</td>\n    </tr>\n    <tr>\n      <th>NE</th>\n      <td>20099.124567</td>\n      <td>226.757785</td>\n      <td>19872.366782</td>\n    </tr>\n    <tr>\n      <th>NH</th>\n      <td>4504.955017</td>\n      <td>245.214533</td>\n      <td>4259.740484</td>\n    </tr>\n    <tr>\n      <th>NJ</th>\n      <td>127982.892734</td>\n      <td>9836.979239</td>\n      <td>118145.913495</td>\n    </tr>\n    <tr>\n      <th>NM</th>\n      <td>13656.899654</td>\n      <td>419.411765</td>\n      <td>13237.487889</td>\n    </tr>\n    <tr>\n      <th>NV</th>\n      <td>31529.401384</td>\n      <td>665.041522</td>\n      <td>30864.359862</td>\n    </tr>\n    <tr>\n      <th>NY</th>\n      <td>136180.352941</td>\n      <td>5939.702422</td>\n      <td>130240.650519</td>\n    </tr>\n    <tr>\n      <th>NYC</th>\n      <td>160184.633218</td>\n      <td>16029.273356</td>\n      <td>144155.359862</td>\n    </tr>\n    <tr>\n      <th>OH</th>\n      <td>65354.051903</td>\n      <td>2333.851211</td>\n      <td>63020.200692</td>\n    </tr>\n    <tr>\n      <th>OK</th>\n      <td>32322.224913</td>\n      <td>447.121107</td>\n      <td>31875.103806</td>\n    </tr>\n    <tr>\n      <th>OR</th>\n      <td>13221.377163</td>\n      <td>240.667820</td>\n      <td>12980.709343</td>\n    </tr>\n    <tr>\n      <th>PA</th>\n      <td>79978.875433</td>\n      <td>4622.875433</td>\n      <td>75356.000000</td>\n    </tr>\n    <tr>\n      <th>PR</th>\n      <td>16610.705882</td>\n      <td>243.027682</td>\n      <td>16367.678201</td>\n    </tr>\n    <tr>\n      <th>PW</th>\n      <td>0.000000</td>\n      <td>0.000000</td>\n      <td>0.000000</td>\n    </tr>\n    <tr>\n      <th>RI</th>\n      <td>13541.228374</td>\n      <td>626.242215</td>\n      <td>12914.986159</td>\n    </tr>\n    <tr>\n      <th>RMI</th>\n      <td>0.044983</td>\n      <td>0.000000</td>\n      <td>0.044983</td>\n    </tr>\n    <tr>\n      <th>SC</th>\n      <td>56148.408304</td>\n      <td>1260.941176</td>\n      <td>54887.467128</td>\n    </tr>\n    <tr>\n      <th>SD</th>\n      <td>9282.404844</td>\n      <td>102.989619</td>\n      <td>9179.415225</td>\n    </tr>\n    <tr>\n      <th>TN</th>\n      <td>75145.934256</td>\n      <td>921.034602</td>\n      <td>74224.899654</td>\n    </tr>\n    <tr>\n      <th>TX</th>\n      <td>279641.951557</td>\n      <td>5478.173010</td>\n      <td>274163.778547</td>\n    </tr>\n    <tr>\n      <th>UT</th>\n      <td>29639.809689</td>\n      <td>204.072664</td>\n      <td>29435.737024</td>\n    </tr>\n    <tr>\n      <th>VA</th>\n      <td>64629.622837</td>\n      <td>1506.290657</td>\n      <td>63123.332180</td>\n    </tr>\n    <tr>\n      <th>VI</th>\n      <td>426.671280</td>\n      <td>7.685121</td>\n      <td>418.986159</td>\n    </tr>\n    <tr>\n      <th>VT</th>\n      <td>1022.916955</td>\n      <td>40.657439</td>\n      <td>982.259516</td>\n    </tr>\n    <tr>\n      <th>WA</th>\n      <td>38647.217993</td>\n      <td>1134.830450</td>\n      <td>37512.387543</td>\n    </tr>\n    <tr>\n      <th>WI</th>\n      <td>50415.972318</td>\n      <td>682.799308</td>\n      <td>49733.173010</td>\n    </tr>\n    <tr>\n      <th>WV</th>\n      <td>5817.591696</td>\n      <td>125.896194</td>\n      <td>5691.695502</td>\n    </tr>\n    <tr>\n      <th>WY</th>\n      <td>2514.519031</td>\n      <td>22.204152</td>\n      <td>2492.314879</td>\n    </tr>\n  </tbody>\n</table>\n</div>"
     },
     "metadata": {},
     "execution_count": 40
    }
   ],
   "source": [
    "covid_df = covid_df.groupby(\"State\").mean()\n",
    "covid_df"
   ]
  },
  {
   "cell_type": "code",
   "execution_count": null,
   "metadata": {},
   "outputs": [],
   "source": []
  },
  {
   "cell_type": "code",
   "execution_count": null,
   "metadata": {},
   "outputs": [],
   "source": []
  }
 ]
}