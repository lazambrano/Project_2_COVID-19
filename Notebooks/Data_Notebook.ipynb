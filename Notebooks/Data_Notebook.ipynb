{
 "cells": [
  {
   "cell_type": "code",
   "execution_count": 2,
   "metadata": {},
   "outputs": [],
   "source": [
    "import pandas as pd\n",
    "from sqlalchemy import create_engine\n",
    "import psycopg2\n",
    "from covid_pass import password"
   ]
  },
  {
   "cell_type": "code",
   "execution_count": 3,
   "metadata": {},
   "outputs": [
    {
     "output_type": "execute_result",
     "data": {
      "text/plain": [
       "   Province_State Country_Region          Last_Update      Lat     Long_  \\\n",
       "0         Alabama             US  2020-11-06 05:30:35  32.3182  -86.9023   \n",
       "1          Alaska             US  2020-11-06 05:30:35  61.3707 -152.4044   \n",
       "2  American Samoa             US  2020-11-06 05:30:35 -14.2710 -170.1320   \n",
       "3         Arizona             US  2020-11-06 05:30:35  33.7298 -111.4312   \n",
       "4        Arkansas             US  2020-11-06 05:30:35  34.9697  -92.3731   \n",
       "\n",
       "   Confirmed  Deaths  Recovered    Active  FIPS  Incident_Rate  People_Tested  \\\n",
       "0     199158    3026    84471.0  111661.0   1.0    4061.808804      1379107.0   \n",
       "1      18174      84     7125.0   10965.0   2.0    2484.331107       781826.0   \n",
       "2          0       0        NaN       0.0  60.0       0.000000         1768.0   \n",
       "3     252768    6087    42317.0  204364.0   4.0    3472.699928      1826629.0   \n",
       "4     117360    2037   104816.0   10507.0   5.0    3888.920553      1392905.0   \n",
       "\n",
       "   People_Hospitalized  Mortality_Rate       UID ISO3   Testing_Rate  \\\n",
       "0                  NaN        1.519397  84000001  USA   28126.758423   \n",
       "1                  NaN        0.462199  84000002  USA  106873.261385   \n",
       "2                  NaN             NaN        16  ASM    3177.512985   \n",
       "3                  NaN        2.408137  84000004  USA   25095.480426   \n",
       "4                  NaN        1.735685  84000005  USA   46156.244740   \n",
       "\n",
       "   Hospitalization_Rate  \n",
       "0                   NaN  \n",
       "1                   NaN  \n",
       "2                   NaN  \n",
       "3                   NaN  \n",
       "4                   NaN  "
      ],
      "text/html": "<div>\n<style scoped>\n    .dataframe tbody tr th:only-of-type {\n        vertical-align: middle;\n    }\n\n    .dataframe tbody tr th {\n        vertical-align: top;\n    }\n\n    .dataframe thead th {\n        text-align: right;\n    }\n</style>\n<table border=\"1\" class=\"dataframe\">\n  <thead>\n    <tr style=\"text-align: right;\">\n      <th></th>\n      <th>Province_State</th>\n      <th>Country_Region</th>\n      <th>Last_Update</th>\n      <th>Lat</th>\n      <th>Long_</th>\n      <th>Confirmed</th>\n      <th>Deaths</th>\n      <th>Recovered</th>\n      <th>Active</th>\n      <th>FIPS</th>\n      <th>Incident_Rate</th>\n      <th>People_Tested</th>\n      <th>People_Hospitalized</th>\n      <th>Mortality_Rate</th>\n      <th>UID</th>\n      <th>ISO3</th>\n      <th>Testing_Rate</th>\n      <th>Hospitalization_Rate</th>\n    </tr>\n  </thead>\n  <tbody>\n    <tr>\n      <th>0</th>\n      <td>Alabama</td>\n      <td>US</td>\n      <td>2020-11-06 05:30:35</td>\n      <td>32.3182</td>\n      <td>-86.9023</td>\n      <td>199158</td>\n      <td>3026</td>\n      <td>84471.0</td>\n      <td>111661.0</td>\n      <td>1.0</td>\n      <td>4061.808804</td>\n      <td>1379107.0</td>\n      <td>NaN</td>\n      <td>1.519397</td>\n      <td>84000001</td>\n      <td>USA</td>\n      <td>28126.758423</td>\n      <td>NaN</td>\n    </tr>\n    <tr>\n      <th>1</th>\n      <td>Alaska</td>\n      <td>US</td>\n      <td>2020-11-06 05:30:35</td>\n      <td>61.3707</td>\n      <td>-152.4044</td>\n      <td>18174</td>\n      <td>84</td>\n      <td>7125.0</td>\n      <td>10965.0</td>\n      <td>2.0</td>\n      <td>2484.331107</td>\n      <td>781826.0</td>\n      <td>NaN</td>\n      <td>0.462199</td>\n      <td>84000002</td>\n      <td>USA</td>\n      <td>106873.261385</td>\n      <td>NaN</td>\n    </tr>\n    <tr>\n      <th>2</th>\n      <td>American Samoa</td>\n      <td>US</td>\n      <td>2020-11-06 05:30:35</td>\n      <td>-14.2710</td>\n      <td>-170.1320</td>\n      <td>0</td>\n      <td>0</td>\n      <td>NaN</td>\n      <td>0.0</td>\n      <td>60.0</td>\n      <td>0.000000</td>\n      <td>1768.0</td>\n      <td>NaN</td>\n      <td>NaN</td>\n      <td>16</td>\n      <td>ASM</td>\n      <td>3177.512985</td>\n      <td>NaN</td>\n    </tr>\n    <tr>\n      <th>3</th>\n      <td>Arizona</td>\n      <td>US</td>\n      <td>2020-11-06 05:30:35</td>\n      <td>33.7298</td>\n      <td>-111.4312</td>\n      <td>252768</td>\n      <td>6087</td>\n      <td>42317.0</td>\n      <td>204364.0</td>\n      <td>4.0</td>\n      <td>3472.699928</td>\n      <td>1826629.0</td>\n      <td>NaN</td>\n      <td>2.408137</td>\n      <td>84000004</td>\n      <td>USA</td>\n      <td>25095.480426</td>\n      <td>NaN</td>\n    </tr>\n    <tr>\n      <th>4</th>\n      <td>Arkansas</td>\n      <td>US</td>\n      <td>2020-11-06 05:30:35</td>\n      <td>34.9697</td>\n      <td>-92.3731</td>\n      <td>117360</td>\n      <td>2037</td>\n      <td>104816.0</td>\n      <td>10507.0</td>\n      <td>5.0</td>\n      <td>3888.920553</td>\n      <td>1392905.0</td>\n      <td>NaN</td>\n      <td>1.735685</td>\n      <td>84000005</td>\n      <td>USA</td>\n      <td>46156.244740</td>\n      <td>NaN</td>\n    </tr>\n  </tbody>\n</table>\n</div>"
     },
     "metadata": {},
     "execution_count": 3
    }
   ],
   "source": [
    "file = \"data/US_COVID-19_stats.csv\"\n",
    "us_covid_df = pd.read_csv(file)\n",
    "us_covid_df.head()"
   ]
  },
  {
   "cell_type": "code",
   "execution_count": 3,
   "metadata": {},
   "outputs": [
    {
     "output_type": "execute_result",
     "data": {
      "text/plain": [
       "   Province_State      Lat     Long_  Confirmed  Deaths  Recovered  \\\n",
       "0         Alabama  32.3182  -86.9023     199158    3026    84471.0   \n",
       "1          Alaska  61.3707 -152.4044      18174      84     7125.0   \n",
       "2  American Samoa -14.2710 -170.1320          0       0        NaN   \n",
       "3         Arizona  33.7298 -111.4312     252768    6087    42317.0   \n",
       "4        Arkansas  34.9697  -92.3731     117360    2037   104816.0   \n",
       "\n",
       "   Mortality_Rate  \n",
       "0        1.519397  \n",
       "1        0.462199  \n",
       "2             NaN  \n",
       "3        2.408137  \n",
       "4        1.735685  "
      ],
      "text/html": "<div>\n<style scoped>\n    .dataframe tbody tr th:only-of-type {\n        vertical-align: middle;\n    }\n\n    .dataframe tbody tr th {\n        vertical-align: top;\n    }\n\n    .dataframe thead th {\n        text-align: right;\n    }\n</style>\n<table border=\"1\" class=\"dataframe\">\n  <thead>\n    <tr style=\"text-align: right;\">\n      <th></th>\n      <th>Province_State</th>\n      <th>Lat</th>\n      <th>Long_</th>\n      <th>Confirmed</th>\n      <th>Deaths</th>\n      <th>Recovered</th>\n      <th>Mortality_Rate</th>\n    </tr>\n  </thead>\n  <tbody>\n    <tr>\n      <th>0</th>\n      <td>Alabama</td>\n      <td>32.3182</td>\n      <td>-86.9023</td>\n      <td>199158</td>\n      <td>3026</td>\n      <td>84471.0</td>\n      <td>1.519397</td>\n    </tr>\n    <tr>\n      <th>1</th>\n      <td>Alaska</td>\n      <td>61.3707</td>\n      <td>-152.4044</td>\n      <td>18174</td>\n      <td>84</td>\n      <td>7125.0</td>\n      <td>0.462199</td>\n    </tr>\n    <tr>\n      <th>2</th>\n      <td>American Samoa</td>\n      <td>-14.2710</td>\n      <td>-170.1320</td>\n      <td>0</td>\n      <td>0</td>\n      <td>NaN</td>\n      <td>NaN</td>\n    </tr>\n    <tr>\n      <th>3</th>\n      <td>Arizona</td>\n      <td>33.7298</td>\n      <td>-111.4312</td>\n      <td>252768</td>\n      <td>6087</td>\n      <td>42317.0</td>\n      <td>2.408137</td>\n    </tr>\n    <tr>\n      <th>4</th>\n      <td>Arkansas</td>\n      <td>34.9697</td>\n      <td>-92.3731</td>\n      <td>117360</td>\n      <td>2037</td>\n      <td>104816.0</td>\n      <td>1.735685</td>\n    </tr>\n  </tbody>\n</table>\n</div>"
     },
     "metadata": {},
     "execution_count": 3
    }
   ],
   "source": [
    "us_covid_df = us_covid_df[[\"Province_State\", \"Lat\", \"Long_\", \"Confirmed\", \"Deaths\", \"Recovered\", \"Mortality_Rate\"]]\n",
    "us_covid_df.head()"
   ]
  },
  {
   "cell_type": "code",
   "execution_count": 4,
   "metadata": {},
   "outputs": [
    {
     "output_type": "execute_result",
     "data": {
      "text/plain": [
       "   Province_State      Lat     Long_  Confirmed  Deaths  Recovered  \\\n",
       "0         Alabama  32.3182  -86.9023     199158    3026    84471.0   \n",
       "1          Alaska  61.3707 -152.4044      18174      84     7125.0   \n",
       "2  American Samoa -14.2710 -170.1320          0       0        NaN   \n",
       "3         Arizona  33.7298 -111.4312     252768    6087    42317.0   \n",
       "4        Arkansas  34.9697  -92.3731     117360    2037   104816.0   \n",
       "\n",
       "   Mortality_Rate State  \n",
       "0        1.519397        \n",
       "1        0.462199        \n",
       "2             NaN        \n",
       "3        2.408137        \n",
       "4        1.735685        "
      ],
      "text/html": "<div>\n<style scoped>\n    .dataframe tbody tr th:only-of-type {\n        vertical-align: middle;\n    }\n\n    .dataframe tbody tr th {\n        vertical-align: top;\n    }\n\n    .dataframe thead th {\n        text-align: right;\n    }\n</style>\n<table border=\"1\" class=\"dataframe\">\n  <thead>\n    <tr style=\"text-align: right;\">\n      <th></th>\n      <th>Province_State</th>\n      <th>Lat</th>\n      <th>Long_</th>\n      <th>Confirmed</th>\n      <th>Deaths</th>\n      <th>Recovered</th>\n      <th>Mortality_Rate</th>\n      <th>State</th>\n    </tr>\n  </thead>\n  <tbody>\n    <tr>\n      <th>0</th>\n      <td>Alabama</td>\n      <td>32.3182</td>\n      <td>-86.9023</td>\n      <td>199158</td>\n      <td>3026</td>\n      <td>84471.0</td>\n      <td>1.519397</td>\n      <td></td>\n    </tr>\n    <tr>\n      <th>1</th>\n      <td>Alaska</td>\n      <td>61.3707</td>\n      <td>-152.4044</td>\n      <td>18174</td>\n      <td>84</td>\n      <td>7125.0</td>\n      <td>0.462199</td>\n      <td></td>\n    </tr>\n    <tr>\n      <th>2</th>\n      <td>American Samoa</td>\n      <td>-14.2710</td>\n      <td>-170.1320</td>\n      <td>0</td>\n      <td>0</td>\n      <td>NaN</td>\n      <td>NaN</td>\n      <td></td>\n    </tr>\n    <tr>\n      <th>3</th>\n      <td>Arizona</td>\n      <td>33.7298</td>\n      <td>-111.4312</td>\n      <td>252768</td>\n      <td>6087</td>\n      <td>42317.0</td>\n      <td>2.408137</td>\n      <td></td>\n    </tr>\n    <tr>\n      <th>4</th>\n      <td>Arkansas</td>\n      <td>34.9697</td>\n      <td>-92.3731</td>\n      <td>117360</td>\n      <td>2037</td>\n      <td>104816.0</td>\n      <td>1.735685</td>\n      <td></td>\n    </tr>\n  </tbody>\n</table>\n</div>"
     },
     "metadata": {},
     "execution_count": 4
    }
   ],
   "source": [
    "us_covid_df[\"State\"] = \"\" \n",
    "us_covid_df.head()"
   ]
  },
  {
   "cell_type": "code",
   "execution_count": 5,
   "metadata": {},
   "outputs": [],
   "source": [
    "\n",
    "us_state_abbrev = {\n",
    "    'Alabama': 'AL',\n",
    "    'Alaska': 'AK',\n",
    "    'American Samoa': 'AS',\n",
    "    'Arizona': 'AZ',\n",
    "    'Arkansas': 'AR',\n",
    "    'California': 'CA',\n",
    "    'Colorado': 'CO',\n",
    "    'Connecticut': 'CT',\n",
    "    'Delaware': 'DE',\n",
    "    'Diamond Princess': 'DP',\n",
    "    'District of Columbia': 'DC',\n",
    "    'Florida': 'FL',\n",
    "    'Georgia': 'GA',\n",
    "    'Grand Princess': 'GP',\n",
    "    'Guam': 'GU',\n",
    "    'Hawaii': 'HI',\n",
    "    'Idaho': 'ID',\n",
    "    'Illinois': 'IL',\n",
    "    'Indiana': 'IN',\n",
    "    'Iowa': 'IA',\n",
    "    'Kansas': 'KS',\n",
    "    'Kentucky': 'KY',\n",
    "    'Louisiana': 'LA',\n",
    "    'Maine': 'ME',\n",
    "    'Maryland': 'MD',\n",
    "    'Massachusetts': 'MA',\n",
    "    'Michigan': 'MI',\n",
    "    'Minnesota': 'MN',\n",
    "    'Mississippi': 'MS',\n",
    "    'Missouri': 'MO',\n",
    "    'Montana': 'MT',\n",
    "    'Nebraska': 'NE',\n",
    "    'Nevada': 'NV',\n",
    "    'New Hampshire': 'NH',\n",
    "    'New Jersey': 'NJ',\n",
    "    'New Mexico': 'NM',\n",
    "    'New York': 'NY',\n",
    "    'North Carolina': 'NC',\n",
    "    'North Dakota': 'ND',\n",
    "    'Northern Mariana Islands':'MP',\n",
    "    'Ohio': 'OH',\n",
    "    'Oklahoma': 'OK',\n",
    "    'Oregon': 'OR',\n",
    "    'Pennsylvania': 'PA',\n",
    "    'Puerto Rico': 'PR',\n",
    "    'Rhode Island': 'RI',\n",
    "    'South Carolina': 'SC',\n",
    "    'South Dakota': 'SD',\n",
    "    'Tennessee': 'TN',\n",
    "    'Texas': 'TX',\n",
    "    'Utah': 'UT',\n",
    "    'Vermont': 'VT',\n",
    "    'Virgin Islands': 'VI',\n",
    "    'Virginia': 'VA',\n",
    "    'Washington': 'WA',\n",
    "    'West Virginia': 'WV',\n",
    "    'Wisconsin': 'WI',\n",
    "    'Wyoming': 'WY'\n",
    "}\n",
    "abbrev_us_state = dict(map(reversed, us_state_abbrev.items()))"
   ]
  },
  {
   "cell_type": "code",
   "execution_count": 6,
   "metadata": {},
   "outputs": [
    {
     "output_type": "execute_result",
     "data": {
      "text/plain": [
       "   Province_State      Lat     Long_  Confirmed  Deaths  Recovered  \\\n",
       "0         Alabama  32.3182  -86.9023     199158    3026    84471.0   \n",
       "1          Alaska  61.3707 -152.4044      18174      84     7125.0   \n",
       "2  American Samoa -14.2710 -170.1320          0       0        NaN   \n",
       "3         Arizona  33.7298 -111.4312     252768    6087    42317.0   \n",
       "4        Arkansas  34.9697  -92.3731     117360    2037   104816.0   \n",
       "\n",
       "   Mortality_Rate State  \n",
       "0        1.519397    AL  \n",
       "1        0.462199    AK  \n",
       "2             NaN    AS  \n",
       "3        2.408137    AZ  \n",
       "4        1.735685    AR  "
      ],
      "text/html": "<div>\n<style scoped>\n    .dataframe tbody tr th:only-of-type {\n        vertical-align: middle;\n    }\n\n    .dataframe tbody tr th {\n        vertical-align: top;\n    }\n\n    .dataframe thead th {\n        text-align: right;\n    }\n</style>\n<table border=\"1\" class=\"dataframe\">\n  <thead>\n    <tr style=\"text-align: right;\">\n      <th></th>\n      <th>Province_State</th>\n      <th>Lat</th>\n      <th>Long_</th>\n      <th>Confirmed</th>\n      <th>Deaths</th>\n      <th>Recovered</th>\n      <th>Mortality_Rate</th>\n      <th>State</th>\n    </tr>\n  </thead>\n  <tbody>\n    <tr>\n      <th>0</th>\n      <td>Alabama</td>\n      <td>32.3182</td>\n      <td>-86.9023</td>\n      <td>199158</td>\n      <td>3026</td>\n      <td>84471.0</td>\n      <td>1.519397</td>\n      <td>AL</td>\n    </tr>\n    <tr>\n      <th>1</th>\n      <td>Alaska</td>\n      <td>61.3707</td>\n      <td>-152.4044</td>\n      <td>18174</td>\n      <td>84</td>\n      <td>7125.0</td>\n      <td>0.462199</td>\n      <td>AK</td>\n    </tr>\n    <tr>\n      <th>2</th>\n      <td>American Samoa</td>\n      <td>-14.2710</td>\n      <td>-170.1320</td>\n      <td>0</td>\n      <td>0</td>\n      <td>NaN</td>\n      <td>NaN</td>\n      <td>AS</td>\n    </tr>\n    <tr>\n      <th>3</th>\n      <td>Arizona</td>\n      <td>33.7298</td>\n      <td>-111.4312</td>\n      <td>252768</td>\n      <td>6087</td>\n      <td>42317.0</td>\n      <td>2.408137</td>\n      <td>AZ</td>\n    </tr>\n    <tr>\n      <th>4</th>\n      <td>Arkansas</td>\n      <td>34.9697</td>\n      <td>-92.3731</td>\n      <td>117360</td>\n      <td>2037</td>\n      <td>104816.0</td>\n      <td>1.735685</td>\n      <td>AR</td>\n    </tr>\n  </tbody>\n</table>\n</div>"
     },
     "metadata": {},
     "execution_count": 6
    }
   ],
   "source": [
    "for index, row in us_covid_df.iterrows():\n",
    "    us_covid_df.loc[index, \"State\"] = us_state_abbrev[row[0]]\n",
    "\n",
    "us_covid_df.head()\n"
   ]
  },
  {
   "cell_type": "code",
   "execution_count": 7,
   "metadata": {},
   "outputs": [
    {
     "output_type": "execute_result",
     "data": {
      "text/plain": [
       "  State      Lat      Long  Confirmed  Deaths  Recovered  Death_percent  \\\n",
       "0    AL  32.3182  -86.9023     199158    3026    84471.0       1.519397   \n",
       "1    AK  61.3707 -152.4044      18174      84     7125.0       0.462199   \n",
       "2    AS -14.2710 -170.1320          0       0        NaN            NaN   \n",
       "3    AZ  33.7298 -111.4312     252768    6087    42317.0       2.408137   \n",
       "4    AR  34.9697  -92.3731     117360    2037   104816.0       1.735685   \n",
       "\n",
       "   Recovery_percent  \n",
       "0          0.424141  \n",
       "1          0.392044  \n",
       "2               NaN  \n",
       "3          0.167414  \n",
       "4          0.893115  "
      ],
      "text/html": "<div>\n<style scoped>\n    .dataframe tbody tr th:only-of-type {\n        vertical-align: middle;\n    }\n\n    .dataframe tbody tr th {\n        vertical-align: top;\n    }\n\n    .dataframe thead th {\n        text-align: right;\n    }\n</style>\n<table border=\"1\" class=\"dataframe\">\n  <thead>\n    <tr style=\"text-align: right;\">\n      <th></th>\n      <th>State</th>\n      <th>Lat</th>\n      <th>Long</th>\n      <th>Confirmed</th>\n      <th>Deaths</th>\n      <th>Recovered</th>\n      <th>Death_percent</th>\n      <th>Recovery_percent</th>\n    </tr>\n  </thead>\n  <tbody>\n    <tr>\n      <th>0</th>\n      <td>AL</td>\n      <td>32.3182</td>\n      <td>-86.9023</td>\n      <td>199158</td>\n      <td>3026</td>\n      <td>84471.0</td>\n      <td>1.519397</td>\n      <td>0.424141</td>\n    </tr>\n    <tr>\n      <th>1</th>\n      <td>AK</td>\n      <td>61.3707</td>\n      <td>-152.4044</td>\n      <td>18174</td>\n      <td>84</td>\n      <td>7125.0</td>\n      <td>0.462199</td>\n      <td>0.392044</td>\n    </tr>\n    <tr>\n      <th>2</th>\n      <td>AS</td>\n      <td>-14.2710</td>\n      <td>-170.1320</td>\n      <td>0</td>\n      <td>0</td>\n      <td>NaN</td>\n      <td>NaN</td>\n      <td>NaN</td>\n    </tr>\n    <tr>\n      <th>3</th>\n      <td>AZ</td>\n      <td>33.7298</td>\n      <td>-111.4312</td>\n      <td>252768</td>\n      <td>6087</td>\n      <td>42317.0</td>\n      <td>2.408137</td>\n      <td>0.167414</td>\n    </tr>\n    <tr>\n      <th>4</th>\n      <td>AR</td>\n      <td>34.9697</td>\n      <td>-92.3731</td>\n      <td>117360</td>\n      <td>2037</td>\n      <td>104816.0</td>\n      <td>1.735685</td>\n      <td>0.893115</td>\n    </tr>\n  </tbody>\n</table>\n</div>"
     },
     "metadata": {},
     "execution_count": 7
    }
   ],
   "source": [
    "us_covid_df = us_covid_df.rename(columns={\"Long_\": \"Long\", \"Mortality_Rate\":\"Death_percent\"})\n",
    "us_covid_df[\"Recovery_percent\"]=us_covid_df.Recovered/us_covid_df.Confirmed\n",
    "us_covid_df = us_covid_df[[\"State\", \"Lat\", \"Long\", \"Confirmed\", \"Deaths\", \"Recovered\", \"Death_percent\",\"Recovery_percent\"]]\n",
    "us_covid_df.head()"
   ]
  },
  {
   "cell_type": "code",
   "execution_count": 8,
   "metadata": {},
   "outputs": [
    {
     "output_type": "execute_result",
     "data": {
      "text/plain": [
       "   FIPS Admin2 Province_State Country_Region          Last_Update       Lat  \\\n",
       "0   NaN    NaN            NaN    Afghanistan  2020-11-06 05:24:55  33.93911   \n",
       "1   NaN    NaN            NaN        Albania  2020-11-06 05:24:55  41.15330   \n",
       "2   NaN    NaN            NaN        Algeria  2020-11-06 05:24:55  28.03390   \n",
       "3   NaN    NaN            NaN        Andorra  2020-11-06 05:24:55  42.50630   \n",
       "4   NaN    NaN            NaN         Angola  2020-11-06 05:24:55 -11.20270   \n",
       "\n",
       "       Long_  Confirmed  Deaths  Recovered   Active Combined_Key  \\\n",
       "0  67.709953      41935    1554      34440   5941.0  Afghanistan   \n",
       "1  20.168300      22721     543      11696  10482.0      Albania   \n",
       "2   1.659600      60169    2011      41244  16914.0      Algeria   \n",
       "3   1.521800       5135      75       3858   1202.0      Andorra   \n",
       "4  17.873900      12102     299       5350   6453.0       Angola   \n",
       "\n",
       "   Incidence_Rate  Case-Fatality_Ratio  \n",
       "0      107.723573             3.705735  \n",
       "1      789.526722             2.389860  \n",
       "2      137.212244             3.342253  \n",
       "3     6645.958714             1.460565  \n",
       "4       36.821948             2.470666  "
      ],
      "text/html": "<div>\n<style scoped>\n    .dataframe tbody tr th:only-of-type {\n        vertical-align: middle;\n    }\n\n    .dataframe tbody tr th {\n        vertical-align: top;\n    }\n\n    .dataframe thead th {\n        text-align: right;\n    }\n</style>\n<table border=\"1\" class=\"dataframe\">\n  <thead>\n    <tr style=\"text-align: right;\">\n      <th></th>\n      <th>FIPS</th>\n      <th>Admin2</th>\n      <th>Province_State</th>\n      <th>Country_Region</th>\n      <th>Last_Update</th>\n      <th>Lat</th>\n      <th>Long_</th>\n      <th>Confirmed</th>\n      <th>Deaths</th>\n      <th>Recovered</th>\n      <th>Active</th>\n      <th>Combined_Key</th>\n      <th>Incidence_Rate</th>\n      <th>Case-Fatality_Ratio</th>\n    </tr>\n  </thead>\n  <tbody>\n    <tr>\n      <th>0</th>\n      <td>NaN</td>\n      <td>NaN</td>\n      <td>NaN</td>\n      <td>Afghanistan</td>\n      <td>2020-11-06 05:24:55</td>\n      <td>33.93911</td>\n      <td>67.709953</td>\n      <td>41935</td>\n      <td>1554</td>\n      <td>34440</td>\n      <td>5941.0</td>\n      <td>Afghanistan</td>\n      <td>107.723573</td>\n      <td>3.705735</td>\n    </tr>\n    <tr>\n      <th>1</th>\n      <td>NaN</td>\n      <td>NaN</td>\n      <td>NaN</td>\n      <td>Albania</td>\n      <td>2020-11-06 05:24:55</td>\n      <td>41.15330</td>\n      <td>20.168300</td>\n      <td>22721</td>\n      <td>543</td>\n      <td>11696</td>\n      <td>10482.0</td>\n      <td>Albania</td>\n      <td>789.526722</td>\n      <td>2.389860</td>\n    </tr>\n    <tr>\n      <th>2</th>\n      <td>NaN</td>\n      <td>NaN</td>\n      <td>NaN</td>\n      <td>Algeria</td>\n      <td>2020-11-06 05:24:55</td>\n      <td>28.03390</td>\n      <td>1.659600</td>\n      <td>60169</td>\n      <td>2011</td>\n      <td>41244</td>\n      <td>16914.0</td>\n      <td>Algeria</td>\n      <td>137.212244</td>\n      <td>3.342253</td>\n    </tr>\n    <tr>\n      <th>3</th>\n      <td>NaN</td>\n      <td>NaN</td>\n      <td>NaN</td>\n      <td>Andorra</td>\n      <td>2020-11-06 05:24:55</td>\n      <td>42.50630</td>\n      <td>1.521800</td>\n      <td>5135</td>\n      <td>75</td>\n      <td>3858</td>\n      <td>1202.0</td>\n      <td>Andorra</td>\n      <td>6645.958714</td>\n      <td>1.460565</td>\n    </tr>\n    <tr>\n      <th>4</th>\n      <td>NaN</td>\n      <td>NaN</td>\n      <td>NaN</td>\n      <td>Angola</td>\n      <td>2020-11-06 05:24:55</td>\n      <td>-11.20270</td>\n      <td>17.873900</td>\n      <td>12102</td>\n      <td>299</td>\n      <td>5350</td>\n      <td>6453.0</td>\n      <td>Angola</td>\n      <td>36.821948</td>\n      <td>2.470666</td>\n    </tr>\n  </tbody>\n</table>\n</div>"
     },
     "metadata": {},
     "execution_count": 8
    }
   ],
   "source": [
    "file = \"data/World_COVID-19_Stats.csv\"\n",
    "world_covid_df = pd.read_csv(file)\n",
    "world_covid_df.head()"
   ]
  },
  {
   "source": [
    "world_covid_df = world_covid_df[[\"Country_Region\", \"Lat\", \"Long_\", \"Confirmed\", \"Deaths\", \"Recovered\", \"Case-Fatality_Ratio\"]]\n",
    "world_covid_df.head()"
   ],
   "cell_type": "code",
   "metadata": {},
   "execution_count": 9,
   "outputs": [
    {
     "output_type": "execute_result",
     "data": {
      "text/plain": [
       "  Country_Region       Lat      Long_  Confirmed  Deaths  Recovered  \\\n",
       "0    Afghanistan  33.93911  67.709953      41935    1554      34440   \n",
       "1        Albania  41.15330  20.168300      22721     543      11696   \n",
       "2        Algeria  28.03390   1.659600      60169    2011      41244   \n",
       "3        Andorra  42.50630   1.521800       5135      75       3858   \n",
       "4         Angola -11.20270  17.873900      12102     299       5350   \n",
       "\n",
       "   Case-Fatality_Ratio  \n",
       "0             3.705735  \n",
       "1             2.389860  \n",
       "2             3.342253  \n",
       "3             1.460565  \n",
       "4             2.470666  "
      ],
      "text/html": "<div>\n<style scoped>\n    .dataframe tbody tr th:only-of-type {\n        vertical-align: middle;\n    }\n\n    .dataframe tbody tr th {\n        vertical-align: top;\n    }\n\n    .dataframe thead th {\n        text-align: right;\n    }\n</style>\n<table border=\"1\" class=\"dataframe\">\n  <thead>\n    <tr style=\"text-align: right;\">\n      <th></th>\n      <th>Country_Region</th>\n      <th>Lat</th>\n      <th>Long_</th>\n      <th>Confirmed</th>\n      <th>Deaths</th>\n      <th>Recovered</th>\n      <th>Case-Fatality_Ratio</th>\n    </tr>\n  </thead>\n  <tbody>\n    <tr>\n      <th>0</th>\n      <td>Afghanistan</td>\n      <td>33.93911</td>\n      <td>67.709953</td>\n      <td>41935</td>\n      <td>1554</td>\n      <td>34440</td>\n      <td>3.705735</td>\n    </tr>\n    <tr>\n      <th>1</th>\n      <td>Albania</td>\n      <td>41.15330</td>\n      <td>20.168300</td>\n      <td>22721</td>\n      <td>543</td>\n      <td>11696</td>\n      <td>2.389860</td>\n    </tr>\n    <tr>\n      <th>2</th>\n      <td>Algeria</td>\n      <td>28.03390</td>\n      <td>1.659600</td>\n      <td>60169</td>\n      <td>2011</td>\n      <td>41244</td>\n      <td>3.342253</td>\n    </tr>\n    <tr>\n      <th>3</th>\n      <td>Andorra</td>\n      <td>42.50630</td>\n      <td>1.521800</td>\n      <td>5135</td>\n      <td>75</td>\n      <td>3858</td>\n      <td>1.460565</td>\n    </tr>\n    <tr>\n      <th>4</th>\n      <td>Angola</td>\n      <td>-11.20270</td>\n      <td>17.873900</td>\n      <td>12102</td>\n      <td>299</td>\n      <td>5350</td>\n      <td>2.470666</td>\n    </tr>\n  </tbody>\n</table>\n</div>"
     },
     "metadata": {},
     "execution_count": 9
    }
   ]
  },
  {
   "cell_type": "code",
   "execution_count": 10,
   "metadata": {},
   "outputs": [
    {
     "output_type": "execute_result",
     "data": {
      "text/plain": [
       "       Country       Lat       Long  Confirmed  Deaths  Recovered  \\\n",
       "0  Afghanistan  33.93911  67.709953      41935    1554      34440   \n",
       "1      Albania  41.15330  20.168300      22721     543      11696   \n",
       "2      Algeria  28.03390   1.659600      60169    2011      41244   \n",
       "3      Andorra  42.50630   1.521800       5135      75       3858   \n",
       "4       Angola -11.20270  17.873900      12102     299       5350   \n",
       "\n",
       "   Recovery_percent  Death_percent  \n",
       "0          0.821271       3.705735  \n",
       "1          0.514766       2.389860  \n",
       "2          0.685469       3.342253  \n",
       "3          0.751315       1.460565  \n",
       "4          0.442076       2.470666  "
      ],
      "text/html": "<div>\n<style scoped>\n    .dataframe tbody tr th:only-of-type {\n        vertical-align: middle;\n    }\n\n    .dataframe tbody tr th {\n        vertical-align: top;\n    }\n\n    .dataframe thead th {\n        text-align: right;\n    }\n</style>\n<table border=\"1\" class=\"dataframe\">\n  <thead>\n    <tr style=\"text-align: right;\">\n      <th></th>\n      <th>Country</th>\n      <th>Lat</th>\n      <th>Long</th>\n      <th>Confirmed</th>\n      <th>Deaths</th>\n      <th>Recovered</th>\n      <th>Recovery_percent</th>\n      <th>Death_percent</th>\n    </tr>\n  </thead>\n  <tbody>\n    <tr>\n      <th>0</th>\n      <td>Afghanistan</td>\n      <td>33.93911</td>\n      <td>67.709953</td>\n      <td>41935</td>\n      <td>1554</td>\n      <td>34440</td>\n      <td>0.821271</td>\n      <td>3.705735</td>\n    </tr>\n    <tr>\n      <th>1</th>\n      <td>Albania</td>\n      <td>41.15330</td>\n      <td>20.168300</td>\n      <td>22721</td>\n      <td>543</td>\n      <td>11696</td>\n      <td>0.514766</td>\n      <td>2.389860</td>\n    </tr>\n    <tr>\n      <th>2</th>\n      <td>Algeria</td>\n      <td>28.03390</td>\n      <td>1.659600</td>\n      <td>60169</td>\n      <td>2011</td>\n      <td>41244</td>\n      <td>0.685469</td>\n      <td>3.342253</td>\n    </tr>\n    <tr>\n      <th>3</th>\n      <td>Andorra</td>\n      <td>42.50630</td>\n      <td>1.521800</td>\n      <td>5135</td>\n      <td>75</td>\n      <td>3858</td>\n      <td>0.751315</td>\n      <td>1.460565</td>\n    </tr>\n    <tr>\n      <th>4</th>\n      <td>Angola</td>\n      <td>-11.20270</td>\n      <td>17.873900</td>\n      <td>12102</td>\n      <td>299</td>\n      <td>5350</td>\n      <td>0.442076</td>\n      <td>2.470666</td>\n    </tr>\n  </tbody>\n</table>\n</div>"
     },
     "metadata": {},
     "execution_count": 10
    }
   ],
   "source": [
    "world_covid_df = world_covid_df.rename(columns={\"Long_\": \"Long\", \"Case-Fatality_Ratio\":\"Death_percent\", \"Country_Region\": \"Country\"})\n",
    "world_covid_df[\"Recovery_percent\"]=world_covid_df.Recovered/world_covid_df.Confirmed\n",
    "world_covid_df = world_covid_df[[\"Country\", \"Lat\", \"Long\", \"Confirmed\", \"Deaths\", \"Recovered\", \"Recovery_percent\", \"Death_percent\"]]\n",
    "world_covid_df.head()"
   ]
  },
  {
   "cell_type": "code",
   "execution_count": null,
   "metadata": {},
   "outputs": [],
   "source": []
  },
  {
   "cell_type": "code",
   "execution_count": 11,
   "metadata": {},
   "outputs": [
    {
     "output_type": "execute_result",
     "data": {
      "text/plain": [
       "                 Country        Lat       Long  Confirmed  Deaths  Recovered  \\\n",
       "0            Afghanistan  33.939110  67.709953      41935    1554      34440   \n",
       "1                Albania  41.153300  20.168300      22721     543      11696   \n",
       "2                Algeria  28.033900   1.659600      60169    2011      41244   \n",
       "3                Andorra  42.506300   1.521800       5135      75       3858   \n",
       "4                 Angola -11.202700  17.873900      12102     299       5350   \n",
       "...                  ...        ...        ...        ...     ...        ...   \n",
       "3955  West Bank and Gaza  31.952200  35.233200      56672     508      48680   \n",
       "3956      Western Sahara  24.215500 -12.885800         10       1          8   \n",
       "3957               Yemen  15.552727  48.516388       2063     601       1375   \n",
       "3958              Zambia -13.133897  27.849332      16770     349      15827   \n",
       "3959            Zimbabwe -19.015438  29.154857       8444     248       7975   \n",
       "\n",
       "      Recovery_percent  Death_percent  \n",
       "0             0.821271       3.705735  \n",
       "1             0.514766       2.389860  \n",
       "2             0.685469       3.342253  \n",
       "3             0.751315       1.460565  \n",
       "4             0.442076       2.470666  \n",
       "...                ...            ...  \n",
       "3955          0.858978       0.896386  \n",
       "3956          0.800000      10.000000  \n",
       "3957          0.666505      29.132332  \n",
       "3958          0.943769       2.081097  \n",
       "3959          0.944458       2.936997  \n",
       "\n",
       "[3960 rows x 8 columns]"
      ],
      "text/html": "<div>\n<style scoped>\n    .dataframe tbody tr th:only-of-type {\n        vertical-align: middle;\n    }\n\n    .dataframe tbody tr th {\n        vertical-align: top;\n    }\n\n    .dataframe thead th {\n        text-align: right;\n    }\n</style>\n<table border=\"1\" class=\"dataframe\">\n  <thead>\n    <tr style=\"text-align: right;\">\n      <th></th>\n      <th>Country</th>\n      <th>Lat</th>\n      <th>Long</th>\n      <th>Confirmed</th>\n      <th>Deaths</th>\n      <th>Recovered</th>\n      <th>Recovery_percent</th>\n      <th>Death_percent</th>\n    </tr>\n  </thead>\n  <tbody>\n    <tr>\n      <th>0</th>\n      <td>Afghanistan</td>\n      <td>33.939110</td>\n      <td>67.709953</td>\n      <td>41935</td>\n      <td>1554</td>\n      <td>34440</td>\n      <td>0.821271</td>\n      <td>3.705735</td>\n    </tr>\n    <tr>\n      <th>1</th>\n      <td>Albania</td>\n      <td>41.153300</td>\n      <td>20.168300</td>\n      <td>22721</td>\n      <td>543</td>\n      <td>11696</td>\n      <td>0.514766</td>\n      <td>2.389860</td>\n    </tr>\n    <tr>\n      <th>2</th>\n      <td>Algeria</td>\n      <td>28.033900</td>\n      <td>1.659600</td>\n      <td>60169</td>\n      <td>2011</td>\n      <td>41244</td>\n      <td>0.685469</td>\n      <td>3.342253</td>\n    </tr>\n    <tr>\n      <th>3</th>\n      <td>Andorra</td>\n      <td>42.506300</td>\n      <td>1.521800</td>\n      <td>5135</td>\n      <td>75</td>\n      <td>3858</td>\n      <td>0.751315</td>\n      <td>1.460565</td>\n    </tr>\n    <tr>\n      <th>4</th>\n      <td>Angola</td>\n      <td>-11.202700</td>\n      <td>17.873900</td>\n      <td>12102</td>\n      <td>299</td>\n      <td>5350</td>\n      <td>0.442076</td>\n      <td>2.470666</td>\n    </tr>\n    <tr>\n      <th>...</th>\n      <td>...</td>\n      <td>...</td>\n      <td>...</td>\n      <td>...</td>\n      <td>...</td>\n      <td>...</td>\n      <td>...</td>\n      <td>...</td>\n    </tr>\n    <tr>\n      <th>3955</th>\n      <td>West Bank and Gaza</td>\n      <td>31.952200</td>\n      <td>35.233200</td>\n      <td>56672</td>\n      <td>508</td>\n      <td>48680</td>\n      <td>0.858978</td>\n      <td>0.896386</td>\n    </tr>\n    <tr>\n      <th>3956</th>\n      <td>Western Sahara</td>\n      <td>24.215500</td>\n      <td>-12.885800</td>\n      <td>10</td>\n      <td>1</td>\n      <td>8</td>\n      <td>0.800000</td>\n      <td>10.000000</td>\n    </tr>\n    <tr>\n      <th>3957</th>\n      <td>Yemen</td>\n      <td>15.552727</td>\n      <td>48.516388</td>\n      <td>2063</td>\n      <td>601</td>\n      <td>1375</td>\n      <td>0.666505</td>\n      <td>29.132332</td>\n    </tr>\n    <tr>\n      <th>3958</th>\n      <td>Zambia</td>\n      <td>-13.133897</td>\n      <td>27.849332</td>\n      <td>16770</td>\n      <td>349</td>\n      <td>15827</td>\n      <td>0.943769</td>\n      <td>2.081097</td>\n    </tr>\n    <tr>\n      <th>3959</th>\n      <td>Zimbabwe</td>\n      <td>-19.015438</td>\n      <td>29.154857</td>\n      <td>8444</td>\n      <td>248</td>\n      <td>7975</td>\n      <td>0.944458</td>\n      <td>2.936997</td>\n    </tr>\n  </tbody>\n</table>\n<p>3960 rows × 8 columns</p>\n</div>"
     },
     "metadata": {},
     "execution_count": 11
    }
   ],
   "source": [
    "for index, row in world_covid_df.iterrows(): \n",
    "    if row[\"Country\"] == \"Canada\":\n",
    "        world_covid_df.loc[index, \"Lat\"] = 56.1304\n",
    "        world_covid_df.loc[index, \"Long\"] = 106.3468\n",
    "world_covid_df"
   ]
  },
  {
   "cell_type": "code",
   "execution_count": 12,
   "metadata": {},
   "outputs": [],
   "source": [
    "engine = create_engine('sqlite:///covid.db')\n",
    "\n",
    "world_covid_df.to_sql(name='covid_world_stat', con=engine, if_exists='replace', index=False)\n",
    "us_covid_df.to_sql(name='covid_states_stat', con=engine, if_exists='replace', index=False)"
   ]
  },
  {
   "cell_type": "code",
   "execution_count": 14,
   "metadata": {},
   "outputs": [
    {
     "output_type": "execute_result",
     "data": {
      "text/plain": [
       "                 Country        Lat       Long  Confirmed  Deaths  Recovered  \\\n",
       "0            Afghanistan  33.939110  67.709953      41935    1554      34440   \n",
       "1                Albania  41.153300  20.168300      22721     543      11696   \n",
       "2                Algeria  28.033900   1.659600      60169    2011      41244   \n",
       "3                Andorra  42.506300   1.521800       5135      75       3858   \n",
       "4                 Angola -11.202700  17.873900      12102     299       5350   \n",
       "...                  ...        ...        ...        ...     ...        ...   \n",
       "3955  West Bank and Gaza  31.952200  35.233200      56672     508      48680   \n",
       "3956      Western Sahara  24.215500 -12.885800         10       1          8   \n",
       "3957               Yemen  15.552727  48.516388       2063     601       1375   \n",
       "3958              Zambia -13.133897  27.849332      16770     349      15827   \n",
       "3959            Zimbabwe -19.015438  29.154857       8444     248       7975   \n",
       "\n",
       "      Recovery_percent  Death_percent  \n",
       "0             0.821271       3.705735  \n",
       "1             0.514766       2.389860  \n",
       "2             0.685469       3.342253  \n",
       "3             0.751315       1.460565  \n",
       "4             0.442076       2.470666  \n",
       "...                ...            ...  \n",
       "3955          0.858978       0.896386  \n",
       "3956          0.800000      10.000000  \n",
       "3957          0.666505      29.132332  \n",
       "3958          0.943769       2.081097  \n",
       "3959          0.944458       2.936997  \n",
       "\n",
       "[3960 rows x 8 columns]"
      ],
      "text/html": "<div>\n<style scoped>\n    .dataframe tbody tr th:only-of-type {\n        vertical-align: middle;\n    }\n\n    .dataframe tbody tr th {\n        vertical-align: top;\n    }\n\n    .dataframe thead th {\n        text-align: right;\n    }\n</style>\n<table border=\"1\" class=\"dataframe\">\n  <thead>\n    <tr style=\"text-align: right;\">\n      <th></th>\n      <th>Country</th>\n      <th>Lat</th>\n      <th>Long</th>\n      <th>Confirmed</th>\n      <th>Deaths</th>\n      <th>Recovered</th>\n      <th>Recovery_percent</th>\n      <th>Death_percent</th>\n    </tr>\n  </thead>\n  <tbody>\n    <tr>\n      <th>0</th>\n      <td>Afghanistan</td>\n      <td>33.939110</td>\n      <td>67.709953</td>\n      <td>41935</td>\n      <td>1554</td>\n      <td>34440</td>\n      <td>0.821271</td>\n      <td>3.705735</td>\n    </tr>\n    <tr>\n      <th>1</th>\n      <td>Albania</td>\n      <td>41.153300</td>\n      <td>20.168300</td>\n      <td>22721</td>\n      <td>543</td>\n      <td>11696</td>\n      <td>0.514766</td>\n      <td>2.389860</td>\n    </tr>\n    <tr>\n      <th>2</th>\n      <td>Algeria</td>\n      <td>28.033900</td>\n      <td>1.659600</td>\n      <td>60169</td>\n      <td>2011</td>\n      <td>41244</td>\n      <td>0.685469</td>\n      <td>3.342253</td>\n    </tr>\n    <tr>\n      <th>3</th>\n      <td>Andorra</td>\n      <td>42.506300</td>\n      <td>1.521800</td>\n      <td>5135</td>\n      <td>75</td>\n      <td>3858</td>\n      <td>0.751315</td>\n      <td>1.460565</td>\n    </tr>\n    <tr>\n      <th>4</th>\n      <td>Angola</td>\n      <td>-11.202700</td>\n      <td>17.873900</td>\n      <td>12102</td>\n      <td>299</td>\n      <td>5350</td>\n      <td>0.442076</td>\n      <td>2.470666</td>\n    </tr>\n    <tr>\n      <th>...</th>\n      <td>...</td>\n      <td>...</td>\n      <td>...</td>\n      <td>...</td>\n      <td>...</td>\n      <td>...</td>\n      <td>...</td>\n      <td>...</td>\n    </tr>\n    <tr>\n      <th>3955</th>\n      <td>West Bank and Gaza</td>\n      <td>31.952200</td>\n      <td>35.233200</td>\n      <td>56672</td>\n      <td>508</td>\n      <td>48680</td>\n      <td>0.858978</td>\n      <td>0.896386</td>\n    </tr>\n    <tr>\n      <th>3956</th>\n      <td>Western Sahara</td>\n      <td>24.215500</td>\n      <td>-12.885800</td>\n      <td>10</td>\n      <td>1</td>\n      <td>8</td>\n      <td>0.800000</td>\n      <td>10.000000</td>\n    </tr>\n    <tr>\n      <th>3957</th>\n      <td>Yemen</td>\n      <td>15.552727</td>\n      <td>48.516388</td>\n      <td>2063</td>\n      <td>601</td>\n      <td>1375</td>\n      <td>0.666505</td>\n      <td>29.132332</td>\n    </tr>\n    <tr>\n      <th>3958</th>\n      <td>Zambia</td>\n      <td>-13.133897</td>\n      <td>27.849332</td>\n      <td>16770</td>\n      <td>349</td>\n      <td>15827</td>\n      <td>0.943769</td>\n      <td>2.081097</td>\n    </tr>\n    <tr>\n      <th>3959</th>\n      <td>Zimbabwe</td>\n      <td>-19.015438</td>\n      <td>29.154857</td>\n      <td>8444</td>\n      <td>248</td>\n      <td>7975</td>\n      <td>0.944458</td>\n      <td>2.936997</td>\n    </tr>\n  </tbody>\n</table>\n<p>3960 rows × 8 columns</p>\n</div>"
     },
     "metadata": {},
     "execution_count": 14
    }
   ],
   "source": [
    "pd.read_sql('select * from covid_world_stat', engine)"
   ]
  },
  {
   "cell_type": "code",
   "execution_count": null,
   "metadata": {},
   "outputs": [],
   "source": []
  }
 ],
 "metadata": {
  "kernelspec": {
   "display_name": "Python 3",
   "language": "python",
   "name": "python3"
  },
  "language_info": {
   "codemirror_mode": {
    "name": "ipython",
    "version": 3
   },
   "file_extension": ".py",
   "mimetype": "text/x-python",
   "name": "python",
   "nbconvert_exporter": "python",
   "pygments_lexer": "ipython3",
   "version": "3.6.10-final"
  }
 },
 "nbformat": 4,
 "nbformat_minor": 4
}