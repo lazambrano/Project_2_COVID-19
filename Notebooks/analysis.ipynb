{
 "metadata": {
  "language_info": {
   "codemirror_mode": {
    "name": "ipython",
    "version": 3
   },
   "file_extension": ".py",
   "mimetype": "text/x-python",
   "name": "python",
   "nbconvert_exporter": "python",
   "pygments_lexer": "ipython3",
   "version": "3.6.10-final"
  },
  "orig_nbformat": 2,
  "kernelspec": {
   "name": "python3",
   "display_name": "Python 3",
   "language": "python"
  }
 },
 "nbformat": 4,
 "nbformat_minor": 2,
 "cells": [
  {
   "source": [
    "url: https://data.cdc.gov/Case-Surveillance/United-States-COVID-19-Cases-and-Deaths-by-State-o/9mfq-cb36"
   ],
   "cell_type": "markdown",
   "metadata": {}
  },
  {
   "cell_type": "code",
   "execution_count": 1,
   "metadata": {},
   "outputs": [],
   "source": [
    "# import dependencies\n",
    "import pandas as pd\n",
    "import datetime as dt\n",
    "import sqlite3\n",
    "from sqlite3 import Error\n",
    "from sqlalchemy import create_engine\n",
    "import psycopg2"
   ]
  },
  {
   "cell_type": "code",
   "execution_count": 2,
   "metadata": {},
   "outputs": [
    {
     "output_type": "execute_result",
     "data": {
      "text/plain": [
       "  submission_date state  tot_cases  conf_cases  prob_cases  new_case  \\\n",
       "0      05/04/2020    KY       5245      5245.0         0.0       115   \n",
       "1      12/08/2020    OK     205999    171497.0     34502.0         0   \n",
       "2      08/21/2020    MD     103523         NaN         NaN       624   \n",
       "3      03/05/2020    GA          2         NaN         NaN        -5   \n",
       "4      02/08/2020    WA          1         NaN         NaN         0   \n",
       "\n",
       "   pnew_case  tot_death  conf_death  prob_death  new_death  pnew_death  \\\n",
       "0        0.0        261       261.0         0.0          8         0.0   \n",
       "1        0.0       1752      1680.0        72.0          0         0.0   \n",
       "2        0.0       3685      3546.0       139.0         11         1.0   \n",
       "3        NaN          0         NaN         NaN          0         NaN   \n",
       "4        NaN          0         NaN         NaN          0         NaN   \n",
       "\n",
       "               created_at consent_cases consent_deaths  \n",
       "0  05/05/2020 05:25:08 PM         Agree          Agree  \n",
       "1  12/09/2020 02:45:40 PM         Agree          Agree  \n",
       "2  08/22/2020 02:21:09 PM           NaN          Agree  \n",
       "3  03/26/2020 04:22:39 PM         Agree          Agree  \n",
       "4  03/26/2020 04:22:39 PM           NaN            NaN  "
      ],
      "text/html": "<div>\n<style scoped>\n    .dataframe tbody tr th:only-of-type {\n        vertical-align: middle;\n    }\n\n    .dataframe tbody tr th {\n        vertical-align: top;\n    }\n\n    .dataframe thead th {\n        text-align: right;\n    }\n</style>\n<table border=\"1\" class=\"dataframe\">\n  <thead>\n    <tr style=\"text-align: right;\">\n      <th></th>\n      <th>submission_date</th>\n      <th>state</th>\n      <th>tot_cases</th>\n      <th>conf_cases</th>\n      <th>prob_cases</th>\n      <th>new_case</th>\n      <th>pnew_case</th>\n      <th>tot_death</th>\n      <th>conf_death</th>\n      <th>prob_death</th>\n      <th>new_death</th>\n      <th>pnew_death</th>\n      <th>created_at</th>\n      <th>consent_cases</th>\n      <th>consent_deaths</th>\n    </tr>\n  </thead>\n  <tbody>\n    <tr>\n      <th>0</th>\n      <td>05/04/2020</td>\n      <td>KY</td>\n      <td>5245</td>\n      <td>5245.0</td>\n      <td>0.0</td>\n      <td>115</td>\n      <td>0.0</td>\n      <td>261</td>\n      <td>261.0</td>\n      <td>0.0</td>\n      <td>8</td>\n      <td>0.0</td>\n      <td>05/05/2020 05:25:08 PM</td>\n      <td>Agree</td>\n      <td>Agree</td>\n    </tr>\n    <tr>\n      <th>1</th>\n      <td>12/08/2020</td>\n      <td>OK</td>\n      <td>205999</td>\n      <td>171497.0</td>\n      <td>34502.0</td>\n      <td>0</td>\n      <td>0.0</td>\n      <td>1752</td>\n      <td>1680.0</td>\n      <td>72.0</td>\n      <td>0</td>\n      <td>0.0</td>\n      <td>12/09/2020 02:45:40 PM</td>\n      <td>Agree</td>\n      <td>Agree</td>\n    </tr>\n    <tr>\n      <th>2</th>\n      <td>08/21/2020</td>\n      <td>MD</td>\n      <td>103523</td>\n      <td>NaN</td>\n      <td>NaN</td>\n      <td>624</td>\n      <td>0.0</td>\n      <td>3685</td>\n      <td>3546.0</td>\n      <td>139.0</td>\n      <td>11</td>\n      <td>1.0</td>\n      <td>08/22/2020 02:21:09 PM</td>\n      <td>NaN</td>\n      <td>Agree</td>\n    </tr>\n    <tr>\n      <th>3</th>\n      <td>03/05/2020</td>\n      <td>GA</td>\n      <td>2</td>\n      <td>NaN</td>\n      <td>NaN</td>\n      <td>-5</td>\n      <td>NaN</td>\n      <td>0</td>\n      <td>NaN</td>\n      <td>NaN</td>\n      <td>0</td>\n      <td>NaN</td>\n      <td>03/26/2020 04:22:39 PM</td>\n      <td>Agree</td>\n      <td>Agree</td>\n    </tr>\n    <tr>\n      <th>4</th>\n      <td>02/08/2020</td>\n      <td>WA</td>\n      <td>1</td>\n      <td>NaN</td>\n      <td>NaN</td>\n      <td>0</td>\n      <td>NaN</td>\n      <td>0</td>\n      <td>NaN</td>\n      <td>NaN</td>\n      <td>0</td>\n      <td>NaN</td>\n      <td>03/26/2020 04:22:39 PM</td>\n      <td>NaN</td>\n      <td>NaN</td>\n    </tr>\n  </tbody>\n</table>\n</div>"
     },
     "metadata": {},
     "execution_count": 2
    }
   ],
   "source": [
    "# uplaod data file and read into a pandas df\n",
    "file = \"../Data/US_COVID-19_Total.csv\"\n",
    "covid_df = pd.read_csv(file)\n",
    "\n",
    "# display df\n",
    "covid_df.head()"
   ]
  },
  {
   "cell_type": "code",
   "execution_count": 16,
   "metadata": {},
   "outputs": [
    {
     "output_type": "execute_result",
     "data": {
      "text/plain": [
       "  state      tot_cases    tot_death  Total_recovered\n",
       "0    AK   10259.942779    51.798365     10208.144414\n",
       "1    AL  112069.019074  1766.953678    110302.065395\n",
       "2    AR   65535.980926  1024.732970     64511.247956\n",
       "3    AS       0.613079     0.000000         0.613079\n",
       "4    AZ  165707.247956  3477.138965    162230.108992"
      ],
      "text/html": "<div>\n<style scoped>\n    .dataframe tbody tr th:only-of-type {\n        vertical-align: middle;\n    }\n\n    .dataframe tbody tr th {\n        vertical-align: top;\n    }\n\n    .dataframe thead th {\n        text-align: right;\n    }\n</style>\n<table border=\"1\" class=\"dataframe\">\n  <thead>\n    <tr style=\"text-align: right;\">\n      <th></th>\n      <th>state</th>\n      <th>tot_cases</th>\n      <th>tot_death</th>\n      <th>Total_recovered</th>\n    </tr>\n  </thead>\n  <tbody>\n    <tr>\n      <th>0</th>\n      <td>AK</td>\n      <td>10259.942779</td>\n      <td>51.798365</td>\n      <td>10208.144414</td>\n    </tr>\n    <tr>\n      <th>1</th>\n      <td>AL</td>\n      <td>112069.019074</td>\n      <td>1766.953678</td>\n      <td>110302.065395</td>\n    </tr>\n    <tr>\n      <th>2</th>\n      <td>AR</td>\n      <td>65535.980926</td>\n      <td>1024.732970</td>\n      <td>64511.247956</td>\n    </tr>\n    <tr>\n      <th>3</th>\n      <td>AS</td>\n      <td>0.613079</td>\n      <td>0.000000</td>\n      <td>0.613079</td>\n    </tr>\n    <tr>\n      <th>4</th>\n      <td>AZ</td>\n      <td>165707.247956</td>\n      <td>3477.138965</td>\n      <td>162230.108992</td>\n    </tr>\n  </tbody>\n</table>\n</div>"
     },
     "metadata": {},
     "execution_count": 16
    }
   ],
   "source": [
    "state_df = covid_df.groupby('state').mean().reset_index()\n",
    "state_df.head()"
   ]
  },
  {
   "cell_type": "code",
   "execution_count": 3,
   "metadata": {},
   "outputs": [
    {
     "output_type": "execute_result",
     "data": {
      "text/plain": [
       "  submission_date state  tot_cases  tot_death\n",
       "0      05/04/2020    KY       5245        261\n",
       "1      12/08/2020    OK     205999       1752\n",
       "2      08/21/2020    MD     103523       3685\n",
       "3      03/05/2020    GA          2          0\n",
       "4      02/08/2020    WA          1          0"
      ],
      "text/html": "<div>\n<style scoped>\n    .dataframe tbody tr th:only-of-type {\n        vertical-align: middle;\n    }\n\n    .dataframe tbody tr th {\n        vertical-align: top;\n    }\n\n    .dataframe thead th {\n        text-align: right;\n    }\n</style>\n<table border=\"1\" class=\"dataframe\">\n  <thead>\n    <tr style=\"text-align: right;\">\n      <th></th>\n      <th>submission_date</th>\n      <th>state</th>\n      <th>tot_cases</th>\n      <th>tot_death</th>\n    </tr>\n  </thead>\n  <tbody>\n    <tr>\n      <th>0</th>\n      <td>05/04/2020</td>\n      <td>KY</td>\n      <td>5245</td>\n      <td>261</td>\n    </tr>\n    <tr>\n      <th>1</th>\n      <td>12/08/2020</td>\n      <td>OK</td>\n      <td>205999</td>\n      <td>1752</td>\n    </tr>\n    <tr>\n      <th>2</th>\n      <td>08/21/2020</td>\n      <td>MD</td>\n      <td>103523</td>\n      <td>3685</td>\n    </tr>\n    <tr>\n      <th>3</th>\n      <td>03/05/2020</td>\n      <td>GA</td>\n      <td>2</td>\n      <td>0</td>\n    </tr>\n    <tr>\n      <th>4</th>\n      <td>02/08/2020</td>\n      <td>WA</td>\n      <td>1</td>\n      <td>0</td>\n    </tr>\n  </tbody>\n</table>\n</div>"
     },
     "metadata": {},
     "execution_count": 3
    }
   ],
   "source": [
    "covid_df = covid_df[[\"submission_date\", \"state\", \"tot_cases\", \"tot_death\"]]\n",
    "covid_df.head()"
   ]
  },
  {
   "cell_type": "code",
   "execution_count": 4,
   "metadata": {},
   "outputs": [
    {
     "output_type": "execute_result",
     "data": {
      "text/plain": [
       "  submission_date state  tot_cases  tot_death  Total_recovered\n",
       "0      05/04/2020    KY       5245        261             4984\n",
       "1      12/08/2020    OK     205999       1752           204247\n",
       "2      08/21/2020    MD     103523       3685            99838\n",
       "3      03/05/2020    GA          2          0                2\n",
       "4      02/08/2020    WA          1          0                1"
      ],
      "text/html": "<div>\n<style scoped>\n    .dataframe tbody tr th:only-of-type {\n        vertical-align: middle;\n    }\n\n    .dataframe tbody tr th {\n        vertical-align: top;\n    }\n\n    .dataframe thead th {\n        text-align: right;\n    }\n</style>\n<table border=\"1\" class=\"dataframe\">\n  <thead>\n    <tr style=\"text-align: right;\">\n      <th></th>\n      <th>submission_date</th>\n      <th>state</th>\n      <th>tot_cases</th>\n      <th>tot_death</th>\n      <th>Total_recovered</th>\n    </tr>\n  </thead>\n  <tbody>\n    <tr>\n      <th>0</th>\n      <td>05/04/2020</td>\n      <td>KY</td>\n      <td>5245</td>\n      <td>261</td>\n      <td>4984</td>\n    </tr>\n    <tr>\n      <th>1</th>\n      <td>12/08/2020</td>\n      <td>OK</td>\n      <td>205999</td>\n      <td>1752</td>\n      <td>204247</td>\n    </tr>\n    <tr>\n      <th>2</th>\n      <td>08/21/2020</td>\n      <td>MD</td>\n      <td>103523</td>\n      <td>3685</td>\n      <td>99838</td>\n    </tr>\n    <tr>\n      <th>3</th>\n      <td>03/05/2020</td>\n      <td>GA</td>\n      <td>2</td>\n      <td>0</td>\n      <td>2</td>\n    </tr>\n    <tr>\n      <th>4</th>\n      <td>02/08/2020</td>\n      <td>WA</td>\n      <td>1</td>\n      <td>0</td>\n      <td>1</td>\n    </tr>\n  </tbody>\n</table>\n</div>"
     },
     "metadata": {},
     "execution_count": 4
    }
   ],
   "source": [
    "covid_df[\"Total_recovered\"] = covid_df.tot_cases - covid_df.tot_death\n",
    "covid_df.head()"
   ]
  },
  {
   "cell_type": "code",
   "execution_count": 5,
   "metadata": {},
   "outputs": [
    {
     "output_type": "execute_result",
     "data": {
      "text/plain": [
       "  submission_date state  tot_cases  tot_death  Total_recovered     date\n",
       "0      05/04/2020    KY       5245        261             4984  2020-05\n",
       "1      12/08/2020    OK     205999       1752           204247  2020-12\n",
       "2      08/21/2020    MD     103523       3685            99838  2020-08\n",
       "3      03/05/2020    GA          2          0                2  2020-03\n",
       "4      02/08/2020    WA          1          0                1  2020-02"
      ],
      "text/html": "<div>\n<style scoped>\n    .dataframe tbody tr th:only-of-type {\n        vertical-align: middle;\n    }\n\n    .dataframe tbody tr th {\n        vertical-align: top;\n    }\n\n    .dataframe thead th {\n        text-align: right;\n    }\n</style>\n<table border=\"1\" class=\"dataframe\">\n  <thead>\n    <tr style=\"text-align: right;\">\n      <th></th>\n      <th>submission_date</th>\n      <th>state</th>\n      <th>tot_cases</th>\n      <th>tot_death</th>\n      <th>Total_recovered</th>\n      <th>date</th>\n    </tr>\n  </thead>\n  <tbody>\n    <tr>\n      <th>0</th>\n      <td>05/04/2020</td>\n      <td>KY</td>\n      <td>5245</td>\n      <td>261</td>\n      <td>4984</td>\n      <td>2020-05</td>\n    </tr>\n    <tr>\n      <th>1</th>\n      <td>12/08/2020</td>\n      <td>OK</td>\n      <td>205999</td>\n      <td>1752</td>\n      <td>204247</td>\n      <td>2020-12</td>\n    </tr>\n    <tr>\n      <th>2</th>\n      <td>08/21/2020</td>\n      <td>MD</td>\n      <td>103523</td>\n      <td>3685</td>\n      <td>99838</td>\n      <td>2020-08</td>\n    </tr>\n    <tr>\n      <th>3</th>\n      <td>03/05/2020</td>\n      <td>GA</td>\n      <td>2</td>\n      <td>0</td>\n      <td>2</td>\n      <td>2020-03</td>\n    </tr>\n    <tr>\n      <th>4</th>\n      <td>02/08/2020</td>\n      <td>WA</td>\n      <td>1</td>\n      <td>0</td>\n      <td>1</td>\n      <td>2020-02</td>\n    </tr>\n  </tbody>\n</table>\n</div>"
     },
     "metadata": {},
     "execution_count": 5
    }
   ],
   "source": [
    "covid_df['date'] = pd.to_datetime(covid_df['submission_date']).dt.to_period('M').astype(str)\n",
    "covid_df.head()"
   ]
  },
  {
   "cell_type": "code",
   "execution_count": 6,
   "metadata": {},
   "outputs": [
    {
     "output_type": "execute_result",
     "data": {
      "text/plain": [
       "        date state      tot_cases    tot_death  Total_recovered\n",
       "0    2020-01    AK       0.000000     0.000000         0.000000\n",
       "1    2020-01    AL       0.000000     0.000000         0.000000\n",
       "2    2020-01    AR       0.000000     0.000000         0.000000\n",
       "3    2020-01    AS       0.000000     0.000000         0.000000\n",
       "4    2020-01    AZ       0.600000     0.000000         0.600000\n",
       "..       ...   ...            ...          ...              ...\n",
       "775  2021-01    VT    9147.409091   156.136364      8991.272727\n",
       "776  2021-01    WA  275277.727273  3755.090909    271522.636364\n",
       "777  2021-01    WI  551989.954545  5651.772727    546338.181818\n",
       "778  2021-01    WV  101820.409091  1621.090909    100199.318182\n",
       "779  2021-01    WY   47613.045455   500.000000     47113.045455\n",
       "\n",
       "[780 rows x 5 columns]"
      ],
      "text/html": "<div>\n<style scoped>\n    .dataframe tbody tr th:only-of-type {\n        vertical-align: middle;\n    }\n\n    .dataframe tbody tr th {\n        vertical-align: top;\n    }\n\n    .dataframe thead th {\n        text-align: right;\n    }\n</style>\n<table border=\"1\" class=\"dataframe\">\n  <thead>\n    <tr style=\"text-align: right;\">\n      <th></th>\n      <th>date</th>\n      <th>state</th>\n      <th>tot_cases</th>\n      <th>tot_death</th>\n      <th>Total_recovered</th>\n    </tr>\n  </thead>\n  <tbody>\n    <tr>\n      <th>0</th>\n      <td>2020-01</td>\n      <td>AK</td>\n      <td>0.000000</td>\n      <td>0.000000</td>\n      <td>0.000000</td>\n    </tr>\n    <tr>\n      <th>1</th>\n      <td>2020-01</td>\n      <td>AL</td>\n      <td>0.000000</td>\n      <td>0.000000</td>\n      <td>0.000000</td>\n    </tr>\n    <tr>\n      <th>2</th>\n      <td>2020-01</td>\n      <td>AR</td>\n      <td>0.000000</td>\n      <td>0.000000</td>\n      <td>0.000000</td>\n    </tr>\n    <tr>\n      <th>3</th>\n      <td>2020-01</td>\n      <td>AS</td>\n      <td>0.000000</td>\n      <td>0.000000</td>\n      <td>0.000000</td>\n    </tr>\n    <tr>\n      <th>4</th>\n      <td>2020-01</td>\n      <td>AZ</td>\n      <td>0.600000</td>\n      <td>0.000000</td>\n      <td>0.600000</td>\n    </tr>\n    <tr>\n      <th>...</th>\n      <td>...</td>\n      <td>...</td>\n      <td>...</td>\n      <td>...</td>\n      <td>...</td>\n    </tr>\n    <tr>\n      <th>775</th>\n      <td>2021-01</td>\n      <td>VT</td>\n      <td>9147.409091</td>\n      <td>156.136364</td>\n      <td>8991.272727</td>\n    </tr>\n    <tr>\n      <th>776</th>\n      <td>2021-01</td>\n      <td>WA</td>\n      <td>275277.727273</td>\n      <td>3755.090909</td>\n      <td>271522.636364</td>\n    </tr>\n    <tr>\n      <th>777</th>\n      <td>2021-01</td>\n      <td>WI</td>\n      <td>551989.954545</td>\n      <td>5651.772727</td>\n      <td>546338.181818</td>\n    </tr>\n    <tr>\n      <th>778</th>\n      <td>2021-01</td>\n      <td>WV</td>\n      <td>101820.409091</td>\n      <td>1621.090909</td>\n      <td>100199.318182</td>\n    </tr>\n    <tr>\n      <th>779</th>\n      <td>2021-01</td>\n      <td>WY</td>\n      <td>47613.045455</td>\n      <td>500.000000</td>\n      <td>47113.045455</td>\n    </tr>\n  </tbody>\n</table>\n<p>780 rows × 5 columns</p>\n</div>"
     },
     "metadata": {},
     "execution_count": 6
    }
   ],
   "source": [
    "covid_monthly_df = covid_df.groupby([\"date\", \"state\"]).mean().reset_index()\n",
    "covid_monthly_df"
   ]
  },
  {
   "cell_type": "code",
   "execution_count": 7,
   "metadata": {},
   "outputs": [
    {
     "output_type": "execute_result",
     "data": {
      "text/plain": [
       "        Date State  Average_cases  Average_death  Average_recovery\n",
       "0    2020-01    AK       0.000000       0.000000          0.000000\n",
       "1    2020-01    AL       0.000000       0.000000          0.000000\n",
       "2    2020-01    AR       0.000000       0.000000          0.000000\n",
       "3    2020-01    AS       0.000000       0.000000          0.000000\n",
       "4    2020-01    AZ       0.600000       0.000000          0.600000\n",
       "..       ...   ...            ...            ...               ...\n",
       "775  2021-01    VT    9147.409091     156.136364       8991.272727\n",
       "776  2021-01    WA  275277.727273    3755.090909     271522.636364\n",
       "777  2021-01    WI  551989.954545    5651.772727     546338.181818\n",
       "778  2021-01    WV  101820.409091    1621.090909     100199.318182\n",
       "779  2021-01    WY   47613.045455     500.000000      47113.045455\n",
       "\n",
       "[780 rows x 5 columns]"
      ],
      "text/html": "<div>\n<style scoped>\n    .dataframe tbody tr th:only-of-type {\n        vertical-align: middle;\n    }\n\n    .dataframe tbody tr th {\n        vertical-align: top;\n    }\n\n    .dataframe thead th {\n        text-align: right;\n    }\n</style>\n<table border=\"1\" class=\"dataframe\">\n  <thead>\n    <tr style=\"text-align: right;\">\n      <th></th>\n      <th>Date</th>\n      <th>State</th>\n      <th>Average_cases</th>\n      <th>Average_death</th>\n      <th>Average_recovery</th>\n    </tr>\n  </thead>\n  <tbody>\n    <tr>\n      <th>0</th>\n      <td>2020-01</td>\n      <td>AK</td>\n      <td>0.000000</td>\n      <td>0.000000</td>\n      <td>0.000000</td>\n    </tr>\n    <tr>\n      <th>1</th>\n      <td>2020-01</td>\n      <td>AL</td>\n      <td>0.000000</td>\n      <td>0.000000</td>\n      <td>0.000000</td>\n    </tr>\n    <tr>\n      <th>2</th>\n      <td>2020-01</td>\n      <td>AR</td>\n      <td>0.000000</td>\n      <td>0.000000</td>\n      <td>0.000000</td>\n    </tr>\n    <tr>\n      <th>3</th>\n      <td>2020-01</td>\n      <td>AS</td>\n      <td>0.000000</td>\n      <td>0.000000</td>\n      <td>0.000000</td>\n    </tr>\n    <tr>\n      <th>4</th>\n      <td>2020-01</td>\n      <td>AZ</td>\n      <td>0.600000</td>\n      <td>0.000000</td>\n      <td>0.600000</td>\n    </tr>\n    <tr>\n      <th>...</th>\n      <td>...</td>\n      <td>...</td>\n      <td>...</td>\n      <td>...</td>\n      <td>...</td>\n    </tr>\n    <tr>\n      <th>775</th>\n      <td>2021-01</td>\n      <td>VT</td>\n      <td>9147.409091</td>\n      <td>156.136364</td>\n      <td>8991.272727</td>\n    </tr>\n    <tr>\n      <th>776</th>\n      <td>2021-01</td>\n      <td>WA</td>\n      <td>275277.727273</td>\n      <td>3755.090909</td>\n      <td>271522.636364</td>\n    </tr>\n    <tr>\n      <th>777</th>\n      <td>2021-01</td>\n      <td>WI</td>\n      <td>551989.954545</td>\n      <td>5651.772727</td>\n      <td>546338.181818</td>\n    </tr>\n    <tr>\n      <th>778</th>\n      <td>2021-01</td>\n      <td>WV</td>\n      <td>101820.409091</td>\n      <td>1621.090909</td>\n      <td>100199.318182</td>\n    </tr>\n    <tr>\n      <th>779</th>\n      <td>2021-01</td>\n      <td>WY</td>\n      <td>47613.045455</td>\n      <td>500.000000</td>\n      <td>47113.045455</td>\n    </tr>\n  </tbody>\n</table>\n<p>780 rows × 5 columns</p>\n</div>"
     },
     "metadata": {},
     "execution_count": 7
    }
   ],
   "source": [
    "covid_monthly_df = covid_monthly_df.rename(columns={\"date\": \"Date\", \"state\": \"State\", \"tot_cases\": \"Average_cases\", \"tot_death\": \"Average_death\", \"Total_recovered\": \"Average_recovery\"})\n",
    "covid_monthly_df"
   ]
  },
  {
   "cell_type": "code",
   "execution_count": 8,
   "metadata": {},
   "outputs": [
    {
     "output_type": "execute_result",
     "data": {
      "text/plain": [
       "        Date State  Average_cases  Average_death  Average_recovery  \\\n",
       "4    2020-01    AZ       0.600000       0.000000          0.600000   \n",
       "5    2020-01    CA       1.300000       0.000000          1.300000   \n",
       "17   2020-01    IL       0.900000       0.000000          0.900000   \n",
       "56   2020-01    WA       1.000000       0.000000          1.000000   \n",
       "64   2020-02    AZ       1.000000       0.000000          1.000000   \n",
       "..       ...   ...            ...            ...               ...   \n",
       "775  2021-01    VT    9147.409091     156.136364       8991.272727   \n",
       "776  2021-01    WA  275277.727273    3755.090909     271522.636364   \n",
       "777  2021-01    WI  551989.954545    5651.772727     546338.181818   \n",
       "778  2021-01    WV  101820.409091    1621.090909     100199.318182   \n",
       "779  2021-01    WY   47613.045455     500.000000      47113.045455   \n",
       "\n",
       "     Death_percent  Recovery_percent  \n",
       "4             0.00            100.00  \n",
       "5             0.00            100.00  \n",
       "17            0.00            100.00  \n",
       "56            0.00            100.00  \n",
       "64            0.00            100.00  \n",
       "..             ...               ...  \n",
       "775           1.71             98.29  \n",
       "776           1.36             98.64  \n",
       "777           1.02             98.98  \n",
       "778           1.59             98.41  \n",
       "779           1.05             98.95  \n",
       "\n",
       "[635 rows x 7 columns]"
      ],
      "text/html": "<div>\n<style scoped>\n    .dataframe tbody tr th:only-of-type {\n        vertical-align: middle;\n    }\n\n    .dataframe tbody tr th {\n        vertical-align: top;\n    }\n\n    .dataframe thead th {\n        text-align: right;\n    }\n</style>\n<table border=\"1\" class=\"dataframe\">\n  <thead>\n    <tr style=\"text-align: right;\">\n      <th></th>\n      <th>Date</th>\n      <th>State</th>\n      <th>Average_cases</th>\n      <th>Average_death</th>\n      <th>Average_recovery</th>\n      <th>Death_percent</th>\n      <th>Recovery_percent</th>\n    </tr>\n  </thead>\n  <tbody>\n    <tr>\n      <th>4</th>\n      <td>2020-01</td>\n      <td>AZ</td>\n      <td>0.600000</td>\n      <td>0.000000</td>\n      <td>0.600000</td>\n      <td>0.00</td>\n      <td>100.00</td>\n    </tr>\n    <tr>\n      <th>5</th>\n      <td>2020-01</td>\n      <td>CA</td>\n      <td>1.300000</td>\n      <td>0.000000</td>\n      <td>1.300000</td>\n      <td>0.00</td>\n      <td>100.00</td>\n    </tr>\n    <tr>\n      <th>17</th>\n      <td>2020-01</td>\n      <td>IL</td>\n      <td>0.900000</td>\n      <td>0.000000</td>\n      <td>0.900000</td>\n      <td>0.00</td>\n      <td>100.00</td>\n    </tr>\n    <tr>\n      <th>56</th>\n      <td>2020-01</td>\n      <td>WA</td>\n      <td>1.000000</td>\n      <td>0.000000</td>\n      <td>1.000000</td>\n      <td>0.00</td>\n      <td>100.00</td>\n    </tr>\n    <tr>\n      <th>64</th>\n      <td>2020-02</td>\n      <td>AZ</td>\n      <td>1.000000</td>\n      <td>0.000000</td>\n      <td>1.000000</td>\n      <td>0.00</td>\n      <td>100.00</td>\n    </tr>\n    <tr>\n      <th>...</th>\n      <td>...</td>\n      <td>...</td>\n      <td>...</td>\n      <td>...</td>\n      <td>...</td>\n      <td>...</td>\n      <td>...</td>\n    </tr>\n    <tr>\n      <th>775</th>\n      <td>2021-01</td>\n      <td>VT</td>\n      <td>9147.409091</td>\n      <td>156.136364</td>\n      <td>8991.272727</td>\n      <td>1.71</td>\n      <td>98.29</td>\n    </tr>\n    <tr>\n      <th>776</th>\n      <td>2021-01</td>\n      <td>WA</td>\n      <td>275277.727273</td>\n      <td>3755.090909</td>\n      <td>271522.636364</td>\n      <td>1.36</td>\n      <td>98.64</td>\n    </tr>\n    <tr>\n      <th>777</th>\n      <td>2021-01</td>\n      <td>WI</td>\n      <td>551989.954545</td>\n      <td>5651.772727</td>\n      <td>546338.181818</td>\n      <td>1.02</td>\n      <td>98.98</td>\n    </tr>\n    <tr>\n      <th>778</th>\n      <td>2021-01</td>\n      <td>WV</td>\n      <td>101820.409091</td>\n      <td>1621.090909</td>\n      <td>100199.318182</td>\n      <td>1.59</td>\n      <td>98.41</td>\n    </tr>\n    <tr>\n      <th>779</th>\n      <td>2021-01</td>\n      <td>WY</td>\n      <td>47613.045455</td>\n      <td>500.000000</td>\n      <td>47113.045455</td>\n      <td>1.05</td>\n      <td>98.95</td>\n    </tr>\n  </tbody>\n</table>\n<p>635 rows × 7 columns</p>\n</div>"
     },
     "metadata": {},
     "execution_count": 8
    }
   ],
   "source": [
    "covid_monthly_df['Death_percent'] = round((covid_monthly_df.Average_death/covid_monthly_df.Average_cases)*100, 2)\n",
    "covid_monthly_df['Recovery_percent'] = round((covid_monthly_df.Average_recovery/covid_monthly_df.Average_cases)*100, 2)\n",
    "covid_monthly_df=covid_monthly_df.dropna()\n",
    "covid_monthly_df"
   ]
  },
  {
   "cell_type": "code",
   "execution_count": 11,
   "metadata": {},
   "outputs": [],
   "source": [
    "covid_monthly_df.to_csv('../Data/monthly.csv')"
   ]
  },
  {
   "cell_type": "code",
   "execution_count": 12,
   "metadata": {},
   "outputs": [
    {
     "output_type": "stream",
     "name": "stdout",
     "text": [
      "Date                 object\nState                object\nAverage_cases       float64\nAverage_death       float64\nAverage_recovery    float64\nDeath_percent       float64\nRecovery_percent    float64\ndtype: object\n"
     ]
    }
   ],
   "source": [
    "print(covid_monthly_df.dtypes)"
   ]
  },
  {
   "source": [
    "# covid_monthly_df = {'date': object}\n",
    "print(covid_monthly_df.dtypes)"
   ],
   "cell_type": "markdown",
   "metadata": {}
  },
  {
   "cell_type": "code",
   "execution_count": 13,
   "metadata": {},
   "outputs": [
    {
     "output_type": "execute_result",
     "data": {
      "text/plain": [
       "  State/Territory  Total Cases  Confirmed Cases  Probable Cases  \\\n",
       "0          Alaska        17072              NaN             NaN   \n",
       "1         Alabama       199158         169266.0         29892.0   \n",
       "2        Arkansas       117360              NaN             NaN   \n",
       "3  American Samoa            0              NaN             NaN   \n",
       "4         Arizona       252768         246468.0          6300.0   \n",
       "\n",
       "   Cases in Last 7 Days  Case Rate per 100000  Total Deaths  Confirmed Deaths  \\\n",
       "0                  2616                  2315            84               NaN   \n",
       "1                 10009                  4074          3026            2818.0   \n",
       "2                  7648                  3894          2037               NaN   \n",
       "3                     0                     0             0               NaN   \n",
       "4                 10288                  3524          6087            5707.0   \n",
       "\n",
       "   Probable Deaths  Deaths in Last 7 Days  Death Rate per 100000  \\\n",
       "0              NaN                      7                     11   \n",
       "1            208.0                    112                     61   \n",
       "2              NaN                    143                     67   \n",
       "3              NaN                      0                      0   \n",
       "4            380.0                    169                     84   \n",
       "\n",
       "   Case Rate per 100000 in Last 7 Days  Death Rate per 100K in Last 7 Days  \n",
       "0                                 50.7                                 0.1  \n",
       "1                                 29.3                                 0.3  \n",
       "2                                 36.3                                 0.7  \n",
       "3                                  0.0                                 0.0  \n",
       "4                                 20.5                                 0.3  "
      ],
      "text/html": "<div>\n<style scoped>\n    .dataframe tbody tr th:only-of-type {\n        vertical-align: middle;\n    }\n\n    .dataframe tbody tr th {\n        vertical-align: top;\n    }\n\n    .dataframe thead th {\n        text-align: right;\n    }\n</style>\n<table border=\"1\" class=\"dataframe\">\n  <thead>\n    <tr style=\"text-align: right;\">\n      <th></th>\n      <th>State/Territory</th>\n      <th>Total Cases</th>\n      <th>Confirmed Cases</th>\n      <th>Probable Cases</th>\n      <th>Cases in Last 7 Days</th>\n      <th>Case Rate per 100000</th>\n      <th>Total Deaths</th>\n      <th>Confirmed Deaths</th>\n      <th>Probable Deaths</th>\n      <th>Deaths in Last 7 Days</th>\n      <th>Death Rate per 100000</th>\n      <th>Case Rate per 100000 in Last 7 Days</th>\n      <th>Death Rate per 100K in Last 7 Days</th>\n    </tr>\n  </thead>\n  <tbody>\n    <tr>\n      <th>0</th>\n      <td>Alaska</td>\n      <td>17072</td>\n      <td>NaN</td>\n      <td>NaN</td>\n      <td>2616</td>\n      <td>2315</td>\n      <td>84</td>\n      <td>NaN</td>\n      <td>NaN</td>\n      <td>7</td>\n      <td>11</td>\n      <td>50.7</td>\n      <td>0.1</td>\n    </tr>\n    <tr>\n      <th>1</th>\n      <td>Alabama</td>\n      <td>199158</td>\n      <td>169266.0</td>\n      <td>29892.0</td>\n      <td>10009</td>\n      <td>4074</td>\n      <td>3026</td>\n      <td>2818.0</td>\n      <td>208.0</td>\n      <td>112</td>\n      <td>61</td>\n      <td>29.3</td>\n      <td>0.3</td>\n    </tr>\n    <tr>\n      <th>2</th>\n      <td>Arkansas</td>\n      <td>117360</td>\n      <td>NaN</td>\n      <td>NaN</td>\n      <td>7648</td>\n      <td>3894</td>\n      <td>2037</td>\n      <td>NaN</td>\n      <td>NaN</td>\n      <td>143</td>\n      <td>67</td>\n      <td>36.3</td>\n      <td>0.7</td>\n    </tr>\n    <tr>\n      <th>3</th>\n      <td>American Samoa</td>\n      <td>0</td>\n      <td>NaN</td>\n      <td>NaN</td>\n      <td>0</td>\n      <td>0</td>\n      <td>0</td>\n      <td>NaN</td>\n      <td>NaN</td>\n      <td>0</td>\n      <td>0</td>\n      <td>0.0</td>\n      <td>0.0</td>\n    </tr>\n    <tr>\n      <th>4</th>\n      <td>Arizona</td>\n      <td>252768</td>\n      <td>246468.0</td>\n      <td>6300.0</td>\n      <td>10288</td>\n      <td>3524</td>\n      <td>6087</td>\n      <td>5707.0</td>\n      <td>380.0</td>\n      <td>169</td>\n      <td>84</td>\n      <td>20.5</td>\n      <td>0.3</td>\n    </tr>\n  </tbody>\n</table>\n</div>"
     },
     "metadata": {},
     "execution_count": 13
    }
   ],
   "source": [
    "file = \"../Data/US_COVID-19_Deaths.csv\"\n",
    "covid_stats_df = pd.read_csv(file)\n",
    "covid_stats_df.head()"
   ]
  },
  {
   "cell_type": "code",
   "execution_count": 14,
   "metadata": {},
   "outputs": [
    {
     "output_type": "execute_result",
     "data": {
      "text/plain": [
       "  State/Territory  Total Cases  Case Rate per 100000  Total Deaths  \\\n",
       "0          Alaska        17072                  2315            84   \n",
       "1         Alabama       199158                  4074          3026   \n",
       "2        Arkansas       117360                  3894          2037   \n",
       "3  American Samoa            0                     0             0   \n",
       "4         Arizona       252768                  3524          6087   \n",
       "\n",
       "   Death Rate per 100000  \n",
       "0                     11  \n",
       "1                     61  \n",
       "2                     67  \n",
       "3                      0  \n",
       "4                     84  "
      ],
      "text/html": "<div>\n<style scoped>\n    .dataframe tbody tr th:only-of-type {\n        vertical-align: middle;\n    }\n\n    .dataframe tbody tr th {\n        vertical-align: top;\n    }\n\n    .dataframe thead th {\n        text-align: right;\n    }\n</style>\n<table border=\"1\" class=\"dataframe\">\n  <thead>\n    <tr style=\"text-align: right;\">\n      <th></th>\n      <th>State/Territory</th>\n      <th>Total Cases</th>\n      <th>Case Rate per 100000</th>\n      <th>Total Deaths</th>\n      <th>Death Rate per 100000</th>\n    </tr>\n  </thead>\n  <tbody>\n    <tr>\n      <th>0</th>\n      <td>Alaska</td>\n      <td>17072</td>\n      <td>2315</td>\n      <td>84</td>\n      <td>11</td>\n    </tr>\n    <tr>\n      <th>1</th>\n      <td>Alabama</td>\n      <td>199158</td>\n      <td>4074</td>\n      <td>3026</td>\n      <td>61</td>\n    </tr>\n    <tr>\n      <th>2</th>\n      <td>Arkansas</td>\n      <td>117360</td>\n      <td>3894</td>\n      <td>2037</td>\n      <td>67</td>\n    </tr>\n    <tr>\n      <th>3</th>\n      <td>American Samoa</td>\n      <td>0</td>\n      <td>0</td>\n      <td>0</td>\n      <td>0</td>\n    </tr>\n    <tr>\n      <th>4</th>\n      <td>Arizona</td>\n      <td>252768</td>\n      <td>3524</td>\n      <td>6087</td>\n      <td>84</td>\n    </tr>\n  </tbody>\n</table>\n</div>"
     },
     "metadata": {},
     "execution_count": 14
    }
   ],
   "source": [
    "covid_stats_df = covid_stats_df[['State/Territory', 'Total Cases', 'Case Rate per 100000', 'Total Deaths', 'Death Rate per 100000']]\n",
    "covid_stats_df.head()"
   ]
  },
  {
   "cell_type": "code",
   "execution_count": 17,
   "metadata": {},
   "outputs": [
    {
     "output_type": "execute_result",
     "data": {
      "text/plain": [
       "  State/Territory  Total Cases  Case Rate per 100000  Total Deaths  \\\n",
       "0          Alaska        17072                  2315            84   \n",
       "1         Alabama       199158                  4074          3026   \n",
       "2        Arkansas       117360                  3894          2037   \n",
       "3  American Samoa            0                     0             0   \n",
       "4         Arizona       252768                  3524          6087   \n",
       "\n",
       "   Death Rate per 100000 State  \n",
       "0                     11    AK  \n",
       "1                     61    AL  \n",
       "2                     67    AR  \n",
       "3                      0    AS  \n",
       "4                     84    AZ  "
      ],
      "text/html": "<div>\n<style scoped>\n    .dataframe tbody tr th:only-of-type {\n        vertical-align: middle;\n    }\n\n    .dataframe tbody tr th {\n        vertical-align: top;\n    }\n\n    .dataframe thead th {\n        text-align: right;\n    }\n</style>\n<table border=\"1\" class=\"dataframe\">\n  <thead>\n    <tr style=\"text-align: right;\">\n      <th></th>\n      <th>State/Territory</th>\n      <th>Total Cases</th>\n      <th>Case Rate per 100000</th>\n      <th>Total Deaths</th>\n      <th>Death Rate per 100000</th>\n      <th>State</th>\n    </tr>\n  </thead>\n  <tbody>\n    <tr>\n      <th>0</th>\n      <td>Alaska</td>\n      <td>17072</td>\n      <td>2315</td>\n      <td>84</td>\n      <td>11</td>\n      <td>AK</td>\n    </tr>\n    <tr>\n      <th>1</th>\n      <td>Alabama</td>\n      <td>199158</td>\n      <td>4074</td>\n      <td>3026</td>\n      <td>61</td>\n      <td>AL</td>\n    </tr>\n    <tr>\n      <th>2</th>\n      <td>Arkansas</td>\n      <td>117360</td>\n      <td>3894</td>\n      <td>2037</td>\n      <td>67</td>\n      <td>AR</td>\n    </tr>\n    <tr>\n      <th>3</th>\n      <td>American Samoa</td>\n      <td>0</td>\n      <td>0</td>\n      <td>0</td>\n      <td>0</td>\n      <td>AS</td>\n    </tr>\n    <tr>\n      <th>4</th>\n      <td>Arizona</td>\n      <td>252768</td>\n      <td>3524</td>\n      <td>6087</td>\n      <td>84</td>\n      <td>AZ</td>\n    </tr>\n  </tbody>\n</table>\n</div>"
     },
     "metadata": {},
     "execution_count": 17
    }
   ],
   "source": [
    "covid_stats_df['State'] = state_df['state']\n",
    "covid_stats_df.head()"
   ]
  },
  {
   "cell_type": "code",
   "execution_count": 18,
   "metadata": {},
   "outputs": [
    {
     "output_type": "execute_result",
     "data": {
      "text/plain": [
       "   State  Total_cases  Case_rate_per_100k  Total_deaths  Death_rate_per_100k\n",
       "55    VT         2303                 368            58                    9\n",
       "56    WA       112550                1494          2431                   32\n",
       "57    WI       263571                4534          2269                   39\n",
       "58    WV        26547                1470           480                   26\n",
       "59    WY        15409                2667           105                   18"
      ],
      "text/html": "<div>\n<style scoped>\n    .dataframe tbody tr th:only-of-type {\n        vertical-align: middle;\n    }\n\n    .dataframe tbody tr th {\n        vertical-align: top;\n    }\n\n    .dataframe thead th {\n        text-align: right;\n    }\n</style>\n<table border=\"1\" class=\"dataframe\">\n  <thead>\n    <tr style=\"text-align: right;\">\n      <th></th>\n      <th>State</th>\n      <th>Total_cases</th>\n      <th>Case_rate_per_100k</th>\n      <th>Total_deaths</th>\n      <th>Death_rate_per_100k</th>\n    </tr>\n  </thead>\n  <tbody>\n    <tr>\n      <th>55</th>\n      <td>VT</td>\n      <td>2303</td>\n      <td>368</td>\n      <td>58</td>\n      <td>9</td>\n    </tr>\n    <tr>\n      <th>56</th>\n      <td>WA</td>\n      <td>112550</td>\n      <td>1494</td>\n      <td>2431</td>\n      <td>32</td>\n    </tr>\n    <tr>\n      <th>57</th>\n      <td>WI</td>\n      <td>263571</td>\n      <td>4534</td>\n      <td>2269</td>\n      <td>39</td>\n    </tr>\n    <tr>\n      <th>58</th>\n      <td>WV</td>\n      <td>26547</td>\n      <td>1470</td>\n      <td>480</td>\n      <td>26</td>\n    </tr>\n    <tr>\n      <th>59</th>\n      <td>WY</td>\n      <td>15409</td>\n      <td>2667</td>\n      <td>105</td>\n      <td>18</td>\n    </tr>\n  </tbody>\n</table>\n</div>"
     },
     "metadata": {},
     "execution_count": 18
    }
   ],
   "source": [
    "covid_stats_df = covid_stats_df.rename(columns={\"state\": \"State\", \"Total Cases\": \"Total_cases\", \"Case Rate per 100000\": \"Case_rate_per_100k\", \"Total Deaths\": \"Total_deaths\", \"Death Rate per 100000\": \"Death_rate_per_100k\"})\n",
    "covid_stats_df = covid_stats_df[[\"State\", \"Total_cases\", \"Case_rate_per_100k\", \"Total_deaths\", \"Death_rate_per_100k\"]].dropna()\n",
    "covid_stats_df.tail()"
   ]
  },
  {
   "cell_type": "code",
   "execution_count": 19,
   "metadata": {},
   "outputs": [
    {
     "output_type": "execute_result",
     "data": {
      "text/plain": [
       "   Province_State Country_Region          Last_Update      Lat     Long_  \\\n",
       "0         Alabama             US  2020-11-06 05:30:35  32.3182  -86.9023   \n",
       "1          Alaska             US  2020-11-06 05:30:35  61.3707 -152.4044   \n",
       "2  American Samoa             US  2020-11-06 05:30:35 -14.2710 -170.1320   \n",
       "3         Arizona             US  2020-11-06 05:30:35  33.7298 -111.4312   \n",
       "4        Arkansas             US  2020-11-06 05:30:35  34.9697  -92.3731   \n",
       "\n",
       "   Confirmed  Deaths  Recovered    Active  FIPS  Incident_Rate  People_Tested  \\\n",
       "0     199158    3026    84471.0  111661.0   1.0    4061.808804      1379107.0   \n",
       "1      18174      84     7125.0   10965.0   2.0    2484.331107       781826.0   \n",
       "2          0       0        NaN       0.0  60.0       0.000000         1768.0   \n",
       "3     252768    6087    42317.0  204364.0   4.0    3472.699928      1826629.0   \n",
       "4     117360    2037   104816.0   10507.0   5.0    3888.920553      1392905.0   \n",
       "\n",
       "   People_Hospitalized  Mortality_Rate       UID ISO3   Testing_Rate  \\\n",
       "0                  NaN        1.519397  84000001  USA   28126.758423   \n",
       "1                  NaN        0.462199  84000002  USA  106873.261385   \n",
       "2                  NaN             NaN        16  ASM    3177.512985   \n",
       "3                  NaN        2.408137  84000004  USA   25095.480426   \n",
       "4                  NaN        1.735685  84000005  USA   46156.244740   \n",
       "\n",
       "   Hospitalization_Rate  \n",
       "0                   NaN  \n",
       "1                   NaN  \n",
       "2                   NaN  \n",
       "3                   NaN  \n",
       "4                   NaN  "
      ],
      "text/html": "<div>\n<style scoped>\n    .dataframe tbody tr th:only-of-type {\n        vertical-align: middle;\n    }\n\n    .dataframe tbody tr th {\n        vertical-align: top;\n    }\n\n    .dataframe thead th {\n        text-align: right;\n    }\n</style>\n<table border=\"1\" class=\"dataframe\">\n  <thead>\n    <tr style=\"text-align: right;\">\n      <th></th>\n      <th>Province_State</th>\n      <th>Country_Region</th>\n      <th>Last_Update</th>\n      <th>Lat</th>\n      <th>Long_</th>\n      <th>Confirmed</th>\n      <th>Deaths</th>\n      <th>Recovered</th>\n      <th>Active</th>\n      <th>FIPS</th>\n      <th>Incident_Rate</th>\n      <th>People_Tested</th>\n      <th>People_Hospitalized</th>\n      <th>Mortality_Rate</th>\n      <th>UID</th>\n      <th>ISO3</th>\n      <th>Testing_Rate</th>\n      <th>Hospitalization_Rate</th>\n    </tr>\n  </thead>\n  <tbody>\n    <tr>\n      <th>0</th>\n      <td>Alabama</td>\n      <td>US</td>\n      <td>2020-11-06 05:30:35</td>\n      <td>32.3182</td>\n      <td>-86.9023</td>\n      <td>199158</td>\n      <td>3026</td>\n      <td>84471.0</td>\n      <td>111661.0</td>\n      <td>1.0</td>\n      <td>4061.808804</td>\n      <td>1379107.0</td>\n      <td>NaN</td>\n      <td>1.519397</td>\n      <td>84000001</td>\n      <td>USA</td>\n      <td>28126.758423</td>\n      <td>NaN</td>\n    </tr>\n    <tr>\n      <th>1</th>\n      <td>Alaska</td>\n      <td>US</td>\n      <td>2020-11-06 05:30:35</td>\n      <td>61.3707</td>\n      <td>-152.4044</td>\n      <td>18174</td>\n      <td>84</td>\n      <td>7125.0</td>\n      <td>10965.0</td>\n      <td>2.0</td>\n      <td>2484.331107</td>\n      <td>781826.0</td>\n      <td>NaN</td>\n      <td>0.462199</td>\n      <td>84000002</td>\n      <td>USA</td>\n      <td>106873.261385</td>\n      <td>NaN</td>\n    </tr>\n    <tr>\n      <th>2</th>\n      <td>American Samoa</td>\n      <td>US</td>\n      <td>2020-11-06 05:30:35</td>\n      <td>-14.2710</td>\n      <td>-170.1320</td>\n      <td>0</td>\n      <td>0</td>\n      <td>NaN</td>\n      <td>0.0</td>\n      <td>60.0</td>\n      <td>0.000000</td>\n      <td>1768.0</td>\n      <td>NaN</td>\n      <td>NaN</td>\n      <td>16</td>\n      <td>ASM</td>\n      <td>3177.512985</td>\n      <td>NaN</td>\n    </tr>\n    <tr>\n      <th>3</th>\n      <td>Arizona</td>\n      <td>US</td>\n      <td>2020-11-06 05:30:35</td>\n      <td>33.7298</td>\n      <td>-111.4312</td>\n      <td>252768</td>\n      <td>6087</td>\n      <td>42317.0</td>\n      <td>204364.0</td>\n      <td>4.0</td>\n      <td>3472.699928</td>\n      <td>1826629.0</td>\n      <td>NaN</td>\n      <td>2.408137</td>\n      <td>84000004</td>\n      <td>USA</td>\n      <td>25095.480426</td>\n      <td>NaN</td>\n    </tr>\n    <tr>\n      <th>4</th>\n      <td>Arkansas</td>\n      <td>US</td>\n      <td>2020-11-06 05:30:35</td>\n      <td>34.9697</td>\n      <td>-92.3731</td>\n      <td>117360</td>\n      <td>2037</td>\n      <td>104816.0</td>\n      <td>10507.0</td>\n      <td>5.0</td>\n      <td>3888.920553</td>\n      <td>1392905.0</td>\n      <td>NaN</td>\n      <td>1.735685</td>\n      <td>84000005</td>\n      <td>USA</td>\n      <td>46156.244740</td>\n      <td>NaN</td>\n    </tr>\n  </tbody>\n</table>\n</div>"
     },
     "metadata": {},
     "execution_count": 19
    }
   ],
   "source": [
    "file = \"../Data/US_COVID-19_stats.csv\"\n",
    "us_covid_df = pd.read_csv(file)\n",
    "us_covid_df.head()"
   ]
  },
  {
   "cell_type": "code",
   "execution_count": 20,
   "metadata": {},
   "outputs": [
    {
     "output_type": "execute_result",
     "data": {
      "text/plain": [
       "   Province_State      Lat     Long_  Confirmed  Deaths  Recovered  \\\n",
       "0         Alabama  32.3182  -86.9023     199158    3026    84471.0   \n",
       "1          Alaska  61.3707 -152.4044      18174      84     7125.0   \n",
       "2  American Samoa -14.2710 -170.1320          0       0        NaN   \n",
       "3         Arizona  33.7298 -111.4312     252768    6087    42317.0   \n",
       "4        Arkansas  34.9697  -92.3731     117360    2037   104816.0   \n",
       "\n",
       "   Mortality_Rate  \n",
       "0        1.519397  \n",
       "1        0.462199  \n",
       "2             NaN  \n",
       "3        2.408137  \n",
       "4        1.735685  "
      ],
      "text/html": "<div>\n<style scoped>\n    .dataframe tbody tr th:only-of-type {\n        vertical-align: middle;\n    }\n\n    .dataframe tbody tr th {\n        vertical-align: top;\n    }\n\n    .dataframe thead th {\n        text-align: right;\n    }\n</style>\n<table border=\"1\" class=\"dataframe\">\n  <thead>\n    <tr style=\"text-align: right;\">\n      <th></th>\n      <th>Province_State</th>\n      <th>Lat</th>\n      <th>Long_</th>\n      <th>Confirmed</th>\n      <th>Deaths</th>\n      <th>Recovered</th>\n      <th>Mortality_Rate</th>\n    </tr>\n  </thead>\n  <tbody>\n    <tr>\n      <th>0</th>\n      <td>Alabama</td>\n      <td>32.3182</td>\n      <td>-86.9023</td>\n      <td>199158</td>\n      <td>3026</td>\n      <td>84471.0</td>\n      <td>1.519397</td>\n    </tr>\n    <tr>\n      <th>1</th>\n      <td>Alaska</td>\n      <td>61.3707</td>\n      <td>-152.4044</td>\n      <td>18174</td>\n      <td>84</td>\n      <td>7125.0</td>\n      <td>0.462199</td>\n    </tr>\n    <tr>\n      <th>2</th>\n      <td>American Samoa</td>\n      <td>-14.2710</td>\n      <td>-170.1320</td>\n      <td>0</td>\n      <td>0</td>\n      <td>NaN</td>\n      <td>NaN</td>\n    </tr>\n    <tr>\n      <th>3</th>\n      <td>Arizona</td>\n      <td>33.7298</td>\n      <td>-111.4312</td>\n      <td>252768</td>\n      <td>6087</td>\n      <td>42317.0</td>\n      <td>2.408137</td>\n    </tr>\n    <tr>\n      <th>4</th>\n      <td>Arkansas</td>\n      <td>34.9697</td>\n      <td>-92.3731</td>\n      <td>117360</td>\n      <td>2037</td>\n      <td>104816.0</td>\n      <td>1.735685</td>\n    </tr>\n  </tbody>\n</table>\n</div>"
     },
     "metadata": {},
     "execution_count": 20
    }
   ],
   "source": [
    "us_covid_df = us_covid_df[[\"Province_State\", \"Lat\", \"Long_\", \"Confirmed\", \"Deaths\", \"Recovered\", \"Mortality_Rate\"]]\n",
    "us_covid_df.head()"
   ]
  },
  {
   "cell_type": "code",
   "execution_count": 21,
   "metadata": {},
   "outputs": [
    {
     "output_type": "execute_result",
     "data": {
      "text/plain": [
       "   Province_State      Lat     Long_  Confirmed  Deaths  Recovered  \\\n",
       "0         Alabama  32.3182  -86.9023     199158    3026    84471.0   \n",
       "1          Alaska  61.3707 -152.4044      18174      84     7125.0   \n",
       "2  American Samoa -14.2710 -170.1320          0       0        NaN   \n",
       "3         Arizona  33.7298 -111.4312     252768    6087    42317.0   \n",
       "4        Arkansas  34.9697  -92.3731     117360    2037   104816.0   \n",
       "\n",
       "   Mortality_Rate State  \n",
       "0        1.519397        \n",
       "1        0.462199        \n",
       "2             NaN        \n",
       "3        2.408137        \n",
       "4        1.735685        "
      ],
      "text/html": "<div>\n<style scoped>\n    .dataframe tbody tr th:only-of-type {\n        vertical-align: middle;\n    }\n\n    .dataframe tbody tr th {\n        vertical-align: top;\n    }\n\n    .dataframe thead th {\n        text-align: right;\n    }\n</style>\n<table border=\"1\" class=\"dataframe\">\n  <thead>\n    <tr style=\"text-align: right;\">\n      <th></th>\n      <th>Province_State</th>\n      <th>Lat</th>\n      <th>Long_</th>\n      <th>Confirmed</th>\n      <th>Deaths</th>\n      <th>Recovered</th>\n      <th>Mortality_Rate</th>\n      <th>State</th>\n    </tr>\n  </thead>\n  <tbody>\n    <tr>\n      <th>0</th>\n      <td>Alabama</td>\n      <td>32.3182</td>\n      <td>-86.9023</td>\n      <td>199158</td>\n      <td>3026</td>\n      <td>84471.0</td>\n      <td>1.519397</td>\n      <td></td>\n    </tr>\n    <tr>\n      <th>1</th>\n      <td>Alaska</td>\n      <td>61.3707</td>\n      <td>-152.4044</td>\n      <td>18174</td>\n      <td>84</td>\n      <td>7125.0</td>\n      <td>0.462199</td>\n      <td></td>\n    </tr>\n    <tr>\n      <th>2</th>\n      <td>American Samoa</td>\n      <td>-14.2710</td>\n      <td>-170.1320</td>\n      <td>0</td>\n      <td>0</td>\n      <td>NaN</td>\n      <td>NaN</td>\n      <td></td>\n    </tr>\n    <tr>\n      <th>3</th>\n      <td>Arizona</td>\n      <td>33.7298</td>\n      <td>-111.4312</td>\n      <td>252768</td>\n      <td>6087</td>\n      <td>42317.0</td>\n      <td>2.408137</td>\n      <td></td>\n    </tr>\n    <tr>\n      <th>4</th>\n      <td>Arkansas</td>\n      <td>34.9697</td>\n      <td>-92.3731</td>\n      <td>117360</td>\n      <td>2037</td>\n      <td>104816.0</td>\n      <td>1.735685</td>\n      <td></td>\n    </tr>\n  </tbody>\n</table>\n</div>"
     },
     "metadata": {},
     "execution_count": 21
    }
   ],
   "source": [
    "us_covid_df[\"State\"] = \"\" \n",
    "us_covid_df.head()"
   ]
  },
  {
   "cell_type": "code",
   "execution_count": 22,
   "metadata": {},
   "outputs": [],
   "source": [
    "us_state_abbrev = {\n",
    "    \n",
    "    'Alabama': 'AL',\n",
    "    'Alaska': 'AK',\n",
    "    'American Samoa': 'AS',\n",
    "    'Arizona': 'AZ',\n",
    "    'Arkansas': 'AR',\n",
    "    'California': 'CA',\n",
    "    'Colorado': 'CO',\n",
    "    'Connecticut': 'CT',\n",
    "    'Delaware': 'DE',\n",
    "    'Diamond Princess': 'DP',\n",
    "    'District of Columbia': 'DC',\n",
    "    'Florida': 'FL',\n",
    "    'Georgia': 'GA',\n",
    "    'Grand Princess': 'GP',\n",
    "    'Guam': 'GU',\n",
    "    'Hawaii': 'HI',\n",
    "    'Idaho': 'ID',\n",
    "    'Illinois': 'IL',\n",
    "    'Indiana': 'IN',\n",
    "    'Iowa': 'IA',\n",
    "    'Kansas': 'KS',\n",
    "    'Kentucky': 'KY',\n",
    "    'Louisiana': 'LA',\n",
    "    'Maine': 'ME',\n",
    "    'Maryland': 'MD',\n",
    "    'Massachusetts': 'MA',\n",
    "    'Michigan': 'MI',\n",
    "    'Minnesota': 'MN',\n",
    "    'Mississippi': 'MS',\n",
    "    'Missouri': 'MO',\n",
    "    'Montana': 'MT',\n",
    "    'Nebraska': 'NE',\n",
    "    'Nevada': 'NV',\n",
    "    'New Hampshire': 'NH',\n",
    "    'New Jersey': 'NJ',\n",
    "    'New Mexico': 'NM',\n",
    "    'New York': 'NY',\n",
    "    'North Carolina': 'NC',\n",
    "    'North Dakota': 'ND',\n",
    "    'Northern Mariana Islands':'MP',\n",
    "    'Ohio': 'OH',\n",
    "    'Oklahoma': 'OK',\n",
    "    'Oregon': 'OR',\n",
    "    'Pennsylvania': 'PA',\n",
    "    'Puerto Rico': 'PR',\n",
    "    'Rhode Island': 'RI',\n",
    "    'South Carolina': 'SC',\n",
    "    'South Dakota': 'SD',\n",
    "    'Tennessee': 'TN',\n",
    "    'Texas': 'TX',\n",
    "    'Utah': 'UT',\n",
    "    'Vermont': 'VT',\n",
    "    'Virgin Islands': 'VI',\n",
    "    'Virginia': 'VA',\n",
    "    'Washington': 'WA',\n",
    "    'West Virginia': 'WV',\n",
    "    'Wisconsin': 'WI',\n",
    "    'Wyoming': 'WY'\n",
    "}\n",
    "abbrev_us_state = dict(map(reversed, us_state_abbrev.items()))"
   ]
  },
  {
   "cell_type": "code",
   "execution_count": 23,
   "metadata": {},
   "outputs": [
    {
     "output_type": "execute_result",
     "data": {
      "text/plain": [
       "   Province_State      Lat     Long_  Confirmed  Deaths  Recovered  \\\n",
       "0         Alabama  32.3182  -86.9023     199158    3026    84471.0   \n",
       "1          Alaska  61.3707 -152.4044      18174      84     7125.0   \n",
       "2  American Samoa -14.2710 -170.1320          0       0        NaN   \n",
       "3         Arizona  33.7298 -111.4312     252768    6087    42317.0   \n",
       "4        Arkansas  34.9697  -92.3731     117360    2037   104816.0   \n",
       "\n",
       "   Mortality_Rate State  \n",
       "0        1.519397    AL  \n",
       "1        0.462199    AK  \n",
       "2             NaN    AS  \n",
       "3        2.408137    AZ  \n",
       "4        1.735685    AR  "
      ],
      "text/html": "<div>\n<style scoped>\n    .dataframe tbody tr th:only-of-type {\n        vertical-align: middle;\n    }\n\n    .dataframe tbody tr th {\n        vertical-align: top;\n    }\n\n    .dataframe thead th {\n        text-align: right;\n    }\n</style>\n<table border=\"1\" class=\"dataframe\">\n  <thead>\n    <tr style=\"text-align: right;\">\n      <th></th>\n      <th>Province_State</th>\n      <th>Lat</th>\n      <th>Long_</th>\n      <th>Confirmed</th>\n      <th>Deaths</th>\n      <th>Recovered</th>\n      <th>Mortality_Rate</th>\n      <th>State</th>\n    </tr>\n  </thead>\n  <tbody>\n    <tr>\n      <th>0</th>\n      <td>Alabama</td>\n      <td>32.3182</td>\n      <td>-86.9023</td>\n      <td>199158</td>\n      <td>3026</td>\n      <td>84471.0</td>\n      <td>1.519397</td>\n      <td>AL</td>\n    </tr>\n    <tr>\n      <th>1</th>\n      <td>Alaska</td>\n      <td>61.3707</td>\n      <td>-152.4044</td>\n      <td>18174</td>\n      <td>84</td>\n      <td>7125.0</td>\n      <td>0.462199</td>\n      <td>AK</td>\n    </tr>\n    <tr>\n      <th>2</th>\n      <td>American Samoa</td>\n      <td>-14.2710</td>\n      <td>-170.1320</td>\n      <td>0</td>\n      <td>0</td>\n      <td>NaN</td>\n      <td>NaN</td>\n      <td>AS</td>\n    </tr>\n    <tr>\n      <th>3</th>\n      <td>Arizona</td>\n      <td>33.7298</td>\n      <td>-111.4312</td>\n      <td>252768</td>\n      <td>6087</td>\n      <td>42317.0</td>\n      <td>2.408137</td>\n      <td>AZ</td>\n    </tr>\n    <tr>\n      <th>4</th>\n      <td>Arkansas</td>\n      <td>34.9697</td>\n      <td>-92.3731</td>\n      <td>117360</td>\n      <td>2037</td>\n      <td>104816.0</td>\n      <td>1.735685</td>\n      <td>AR</td>\n    </tr>\n  </tbody>\n</table>\n</div>"
     },
     "metadata": {},
     "execution_count": 23
    }
   ],
   "source": [
    "for index, row in us_covid_df.iterrows():\n",
    "    us_covid_df.loc[index, \"State\"] = us_state_abbrev[row[0]]\n",
    "\n",
    "us_covid_df.head()"
   ]
  },
  {
   "cell_type": "code",
   "execution_count": 24,
   "metadata": {},
   "outputs": [
    {
     "output_type": "execute_result",
     "data": {
      "text/plain": [
       "  State      Lat      Long  Confirmed  Deaths  Recovered  Death_percent  \\\n",
       "0    AL  32.3182  -86.9023     199158    3026    84471.0       1.519397   \n",
       "1    AK  61.3707 -152.4044      18174      84     7125.0       0.462199   \n",
       "2    AS -14.2710 -170.1320          0       0        NaN            NaN   \n",
       "3    AZ  33.7298 -111.4312     252768    6087    42317.0       2.408137   \n",
       "4    AR  34.9697  -92.3731     117360    2037   104816.0       1.735685   \n",
       "\n",
       "   Recovery_percent  \n",
       "0          0.424141  \n",
       "1          0.392044  \n",
       "2               NaN  \n",
       "3          0.167414  \n",
       "4          0.893115  "
      ],
      "text/html": "<div>\n<style scoped>\n    .dataframe tbody tr th:only-of-type {\n        vertical-align: middle;\n    }\n\n    .dataframe tbody tr th {\n        vertical-align: top;\n    }\n\n    .dataframe thead th {\n        text-align: right;\n    }\n</style>\n<table border=\"1\" class=\"dataframe\">\n  <thead>\n    <tr style=\"text-align: right;\">\n      <th></th>\n      <th>State</th>\n      <th>Lat</th>\n      <th>Long</th>\n      <th>Confirmed</th>\n      <th>Deaths</th>\n      <th>Recovered</th>\n      <th>Death_percent</th>\n      <th>Recovery_percent</th>\n    </tr>\n  </thead>\n  <tbody>\n    <tr>\n      <th>0</th>\n      <td>AL</td>\n      <td>32.3182</td>\n      <td>-86.9023</td>\n      <td>199158</td>\n      <td>3026</td>\n      <td>84471.0</td>\n      <td>1.519397</td>\n      <td>0.424141</td>\n    </tr>\n    <tr>\n      <th>1</th>\n      <td>AK</td>\n      <td>61.3707</td>\n      <td>-152.4044</td>\n      <td>18174</td>\n      <td>84</td>\n      <td>7125.0</td>\n      <td>0.462199</td>\n      <td>0.392044</td>\n    </tr>\n    <tr>\n      <th>2</th>\n      <td>AS</td>\n      <td>-14.2710</td>\n      <td>-170.1320</td>\n      <td>0</td>\n      <td>0</td>\n      <td>NaN</td>\n      <td>NaN</td>\n      <td>NaN</td>\n    </tr>\n    <tr>\n      <th>3</th>\n      <td>AZ</td>\n      <td>33.7298</td>\n      <td>-111.4312</td>\n      <td>252768</td>\n      <td>6087</td>\n      <td>42317.0</td>\n      <td>2.408137</td>\n      <td>0.167414</td>\n    </tr>\n    <tr>\n      <th>4</th>\n      <td>AR</td>\n      <td>34.9697</td>\n      <td>-92.3731</td>\n      <td>117360</td>\n      <td>2037</td>\n      <td>104816.0</td>\n      <td>1.735685</td>\n      <td>0.893115</td>\n    </tr>\n  </tbody>\n</table>\n</div>"
     },
     "metadata": {},
     "execution_count": 24
    }
   ],
   "source": [
    "us_covid_df = us_covid_df.rename(columns={\"Long_\": \"Long\", \"Mortality_Rate\":\"Death_percent\"})\n",
    "us_covid_df[\"Recovery_percent\"]=us_covid_df.Recovered/us_covid_df.Confirmed\n",
    "us_covid_df = us_covid_df[[\"State\", \"Lat\", \"Long\", \"Confirmed\", \"Deaths\", \"Recovered\", \"Death_percent\",\"Recovery_percent\"]]\n",
    "us_covid_df.head()"
   ]
  },
  {
   "cell_type": "code",
   "execution_count": 25,
   "metadata": {},
   "outputs": [
    {
     "output_type": "execute_result",
     "data": {
      "text/plain": [
       "  State      Lat      Long  Death_percent  Recovery_percent\n",
       "0    AL  32.3182  -86.9023       1.519397          0.424141\n",
       "1    AK  61.3707 -152.4044       0.462199          0.392044\n",
       "2    AS -14.2710 -170.1320            NaN               NaN\n",
       "3    AZ  33.7298 -111.4312       2.408137          0.167414\n",
       "4    AR  34.9697  -92.3731       1.735685          0.893115"
      ],
      "text/html": "<div>\n<style scoped>\n    .dataframe tbody tr th:only-of-type {\n        vertical-align: middle;\n    }\n\n    .dataframe tbody tr th {\n        vertical-align: top;\n    }\n\n    .dataframe thead th {\n        text-align: right;\n    }\n</style>\n<table border=\"1\" class=\"dataframe\">\n  <thead>\n    <tr style=\"text-align: right;\">\n      <th></th>\n      <th>State</th>\n      <th>Lat</th>\n      <th>Long</th>\n      <th>Death_percent</th>\n      <th>Recovery_percent</th>\n    </tr>\n  </thead>\n  <tbody>\n    <tr>\n      <th>0</th>\n      <td>AL</td>\n      <td>32.3182</td>\n      <td>-86.9023</td>\n      <td>1.519397</td>\n      <td>0.424141</td>\n    </tr>\n    <tr>\n      <th>1</th>\n      <td>AK</td>\n      <td>61.3707</td>\n      <td>-152.4044</td>\n      <td>0.462199</td>\n      <td>0.392044</td>\n    </tr>\n    <tr>\n      <th>2</th>\n      <td>AS</td>\n      <td>-14.2710</td>\n      <td>-170.1320</td>\n      <td>NaN</td>\n      <td>NaN</td>\n    </tr>\n    <tr>\n      <th>3</th>\n      <td>AZ</td>\n      <td>33.7298</td>\n      <td>-111.4312</td>\n      <td>2.408137</td>\n      <td>0.167414</td>\n    </tr>\n    <tr>\n      <th>4</th>\n      <td>AR</td>\n      <td>34.9697</td>\n      <td>-92.3731</td>\n      <td>1.735685</td>\n      <td>0.893115</td>\n    </tr>\n  </tbody>\n</table>\n</div>"
     },
     "metadata": {},
     "execution_count": 25
    }
   ],
   "source": [
    "us_covid_df = us_covid_df[['State', 'Lat', 'Long', 'Death_percent', 'Recovery_percent']]\n",
    "us_covid_df.head()"
   ]
  },
  {
   "cell_type": "code",
   "execution_count": 26,
   "metadata": {},
   "outputs": [
    {
     "output_type": "execute_result",
     "data": {
      "text/plain": [
       "  State  Total_cases  Case_rate_per_100k  Total_deaths  Death_rate_per_100k  \\\n",
       "0    AK        17072                2315            84                   11   \n",
       "1    AL       199158                4074          3026                   61   \n",
       "2    AR       117360                3894          2037                   67   \n",
       "3    AS            0                   0             0                    0   \n",
       "4    AZ       252768                3524          6087                   84   \n",
       "\n",
       "       Lat      Long  Death_percent  Recovery_percent  \n",
       "0  61.3707 -152.4044       0.462199          0.392044  \n",
       "1  32.3182  -86.9023       1.519397          0.424141  \n",
       "2  34.9697  -92.3731       1.735685          0.893115  \n",
       "3 -14.2710 -170.1320            NaN               NaN  \n",
       "4  33.7298 -111.4312       2.408137          0.167414  "
      ],
      "text/html": "<div>\n<style scoped>\n    .dataframe tbody tr th:only-of-type {\n        vertical-align: middle;\n    }\n\n    .dataframe tbody tr th {\n        vertical-align: top;\n    }\n\n    .dataframe thead th {\n        text-align: right;\n    }\n</style>\n<table border=\"1\" class=\"dataframe\">\n  <thead>\n    <tr style=\"text-align: right;\">\n      <th></th>\n      <th>State</th>\n      <th>Total_cases</th>\n      <th>Case_rate_per_100k</th>\n      <th>Total_deaths</th>\n      <th>Death_rate_per_100k</th>\n      <th>Lat</th>\n      <th>Long</th>\n      <th>Death_percent</th>\n      <th>Recovery_percent</th>\n    </tr>\n  </thead>\n  <tbody>\n    <tr>\n      <th>0</th>\n      <td>AK</td>\n      <td>17072</td>\n      <td>2315</td>\n      <td>84</td>\n      <td>11</td>\n      <td>61.3707</td>\n      <td>-152.4044</td>\n      <td>0.462199</td>\n      <td>0.392044</td>\n    </tr>\n    <tr>\n      <th>1</th>\n      <td>AL</td>\n      <td>199158</td>\n      <td>4074</td>\n      <td>3026</td>\n      <td>61</td>\n      <td>32.3182</td>\n      <td>-86.9023</td>\n      <td>1.519397</td>\n      <td>0.424141</td>\n    </tr>\n    <tr>\n      <th>2</th>\n      <td>AR</td>\n      <td>117360</td>\n      <td>3894</td>\n      <td>2037</td>\n      <td>67</td>\n      <td>34.9697</td>\n      <td>-92.3731</td>\n      <td>1.735685</td>\n      <td>0.893115</td>\n    </tr>\n    <tr>\n      <th>3</th>\n      <td>AS</td>\n      <td>0</td>\n      <td>0</td>\n      <td>0</td>\n      <td>0</td>\n      <td>-14.2710</td>\n      <td>-170.1320</td>\n      <td>NaN</td>\n      <td>NaN</td>\n    </tr>\n    <tr>\n      <th>4</th>\n      <td>AZ</td>\n      <td>252768</td>\n      <td>3524</td>\n      <td>6087</td>\n      <td>84</td>\n      <td>33.7298</td>\n      <td>-111.4312</td>\n      <td>2.408137</td>\n      <td>0.167414</td>\n    </tr>\n  </tbody>\n</table>\n</div>"
     },
     "metadata": {},
     "execution_count": 26
    }
   ],
   "source": [
    "us_covid_combine_df = pd.merge(covid_stats_df, us_covid_df, how='left', on=['State','State'])\n",
    "us_covid_combine_df.head()"
   ]
  },
  {
   "cell_type": "code",
   "execution_count": 28,
   "metadata": {},
   "outputs": [],
   "source": [
    "us_covid_combine_df.to_csv('../Data/states.csv')"
   ]
  },
  {
   "cell_type": "code",
   "execution_count": 29,
   "metadata": {},
   "outputs": [
    {
     "output_type": "execute_result",
     "data": {
      "text/plain": [
       "   FIPS Admin2 Province_State Country_Region          Last_Update       Lat  \\\n",
       "0   NaN    NaN            NaN    Afghanistan  2020-11-06 05:24:55  33.93911   \n",
       "1   NaN    NaN            NaN        Albania  2020-11-06 05:24:55  41.15330   \n",
       "2   NaN    NaN            NaN        Algeria  2020-11-06 05:24:55  28.03390   \n",
       "3   NaN    NaN            NaN        Andorra  2020-11-06 05:24:55  42.50630   \n",
       "4   NaN    NaN            NaN         Angola  2020-11-06 05:24:55 -11.20270   \n",
       "\n",
       "       Long_  Confirmed  Deaths  Recovered   Active Combined_Key  \\\n",
       "0  67.709953      41935    1554      34440   5941.0  Afghanistan   \n",
       "1  20.168300      22721     543      11696  10482.0      Albania   \n",
       "2   1.659600      60169    2011      41244  16914.0      Algeria   \n",
       "3   1.521800       5135      75       3858   1202.0      Andorra   \n",
       "4  17.873900      12102     299       5350   6453.0       Angola   \n",
       "\n",
       "   Incidence_Rate  Case-Fatality_Ratio  \n",
       "0      107.723573             3.705735  \n",
       "1      789.526722             2.389860  \n",
       "2      137.212244             3.342253  \n",
       "3     6645.958714             1.460565  \n",
       "4       36.821948             2.470666  "
      ],
      "text/html": "<div>\n<style scoped>\n    .dataframe tbody tr th:only-of-type {\n        vertical-align: middle;\n    }\n\n    .dataframe tbody tr th {\n        vertical-align: top;\n    }\n\n    .dataframe thead th {\n        text-align: right;\n    }\n</style>\n<table border=\"1\" class=\"dataframe\">\n  <thead>\n    <tr style=\"text-align: right;\">\n      <th></th>\n      <th>FIPS</th>\n      <th>Admin2</th>\n      <th>Province_State</th>\n      <th>Country_Region</th>\n      <th>Last_Update</th>\n      <th>Lat</th>\n      <th>Long_</th>\n      <th>Confirmed</th>\n      <th>Deaths</th>\n      <th>Recovered</th>\n      <th>Active</th>\n      <th>Combined_Key</th>\n      <th>Incidence_Rate</th>\n      <th>Case-Fatality_Ratio</th>\n    </tr>\n  </thead>\n  <tbody>\n    <tr>\n      <th>0</th>\n      <td>NaN</td>\n      <td>NaN</td>\n      <td>NaN</td>\n      <td>Afghanistan</td>\n      <td>2020-11-06 05:24:55</td>\n      <td>33.93911</td>\n      <td>67.709953</td>\n      <td>41935</td>\n      <td>1554</td>\n      <td>34440</td>\n      <td>5941.0</td>\n      <td>Afghanistan</td>\n      <td>107.723573</td>\n      <td>3.705735</td>\n    </tr>\n    <tr>\n      <th>1</th>\n      <td>NaN</td>\n      <td>NaN</td>\n      <td>NaN</td>\n      <td>Albania</td>\n      <td>2020-11-06 05:24:55</td>\n      <td>41.15330</td>\n      <td>20.168300</td>\n      <td>22721</td>\n      <td>543</td>\n      <td>11696</td>\n      <td>10482.0</td>\n      <td>Albania</td>\n      <td>789.526722</td>\n      <td>2.389860</td>\n    </tr>\n    <tr>\n      <th>2</th>\n      <td>NaN</td>\n      <td>NaN</td>\n      <td>NaN</td>\n      <td>Algeria</td>\n      <td>2020-11-06 05:24:55</td>\n      <td>28.03390</td>\n      <td>1.659600</td>\n      <td>60169</td>\n      <td>2011</td>\n      <td>41244</td>\n      <td>16914.0</td>\n      <td>Algeria</td>\n      <td>137.212244</td>\n      <td>3.342253</td>\n    </tr>\n    <tr>\n      <th>3</th>\n      <td>NaN</td>\n      <td>NaN</td>\n      <td>NaN</td>\n      <td>Andorra</td>\n      <td>2020-11-06 05:24:55</td>\n      <td>42.50630</td>\n      <td>1.521800</td>\n      <td>5135</td>\n      <td>75</td>\n      <td>3858</td>\n      <td>1202.0</td>\n      <td>Andorra</td>\n      <td>6645.958714</td>\n      <td>1.460565</td>\n    </tr>\n    <tr>\n      <th>4</th>\n      <td>NaN</td>\n      <td>NaN</td>\n      <td>NaN</td>\n      <td>Angola</td>\n      <td>2020-11-06 05:24:55</td>\n      <td>-11.20270</td>\n      <td>17.873900</td>\n      <td>12102</td>\n      <td>299</td>\n      <td>5350</td>\n      <td>6453.0</td>\n      <td>Angola</td>\n      <td>36.821948</td>\n      <td>2.470666</td>\n    </tr>\n  </tbody>\n</table>\n</div>"
     },
     "metadata": {},
     "execution_count": 29
    }
   ],
   "source": [
    "file = \"../Data/World_COVID-19_Stats.csv\"\n",
    "world_covid_df = pd.read_csv(file)\n",
    "world_covid_df.head()"
   ]
  },
  {
   "cell_type": "code",
   "execution_count": 30,
   "metadata": {},
   "outputs": [
    {
     "output_type": "execute_result",
     "data": {
      "text/plain": [
       "  Country_Region       Lat      Long_  Confirmed  Deaths  Recovered  \\\n",
       "0    Afghanistan  33.93911  67.709953      41935    1554      34440   \n",
       "1        Albania  41.15330  20.168300      22721     543      11696   \n",
       "2        Algeria  28.03390   1.659600      60169    2011      41244   \n",
       "3        Andorra  42.50630   1.521800       5135      75       3858   \n",
       "4         Angola -11.20270  17.873900      12102     299       5350   \n",
       "\n",
       "   Case-Fatality_Ratio  \n",
       "0             3.705735  \n",
       "1             2.389860  \n",
       "2             3.342253  \n",
       "3             1.460565  \n",
       "4             2.470666  "
      ],
      "text/html": "<div>\n<style scoped>\n    .dataframe tbody tr th:only-of-type {\n        vertical-align: middle;\n    }\n\n    .dataframe tbody tr th {\n        vertical-align: top;\n    }\n\n    .dataframe thead th {\n        text-align: right;\n    }\n</style>\n<table border=\"1\" class=\"dataframe\">\n  <thead>\n    <tr style=\"text-align: right;\">\n      <th></th>\n      <th>Country_Region</th>\n      <th>Lat</th>\n      <th>Long_</th>\n      <th>Confirmed</th>\n      <th>Deaths</th>\n      <th>Recovered</th>\n      <th>Case-Fatality_Ratio</th>\n    </tr>\n  </thead>\n  <tbody>\n    <tr>\n      <th>0</th>\n      <td>Afghanistan</td>\n      <td>33.93911</td>\n      <td>67.709953</td>\n      <td>41935</td>\n      <td>1554</td>\n      <td>34440</td>\n      <td>3.705735</td>\n    </tr>\n    <tr>\n      <th>1</th>\n      <td>Albania</td>\n      <td>41.15330</td>\n      <td>20.168300</td>\n      <td>22721</td>\n      <td>543</td>\n      <td>11696</td>\n      <td>2.389860</td>\n    </tr>\n    <tr>\n      <th>2</th>\n      <td>Algeria</td>\n      <td>28.03390</td>\n      <td>1.659600</td>\n      <td>60169</td>\n      <td>2011</td>\n      <td>41244</td>\n      <td>3.342253</td>\n    </tr>\n    <tr>\n      <th>3</th>\n      <td>Andorra</td>\n      <td>42.50630</td>\n      <td>1.521800</td>\n      <td>5135</td>\n      <td>75</td>\n      <td>3858</td>\n      <td>1.460565</td>\n    </tr>\n    <tr>\n      <th>4</th>\n      <td>Angola</td>\n      <td>-11.20270</td>\n      <td>17.873900</td>\n      <td>12102</td>\n      <td>299</td>\n      <td>5350</td>\n      <td>2.470666</td>\n    </tr>\n  </tbody>\n</table>\n</div>"
     },
     "metadata": {},
     "execution_count": 30
    }
   ],
   "source": [
    "world_covid_df = world_covid_df[[\"Country_Region\", \"Lat\", \"Long_\", \"Confirmed\", \"Deaths\", \"Recovered\", \"Case-Fatality_Ratio\"]]\n",
    "world_covid_df.head()"
   ]
  },
  {
   "cell_type": "code",
   "execution_count": 31,
   "metadata": {},
   "outputs": [
    {
     "output_type": "execute_result",
     "data": {
      "text/plain": [
       "       Country       Lat       Long  Confirmed  Deaths  Recovered  \\\n",
       "0  Afghanistan  33.93911  67.709953      41935    1554      34440   \n",
       "1      Albania  41.15330  20.168300      22721     543      11696   \n",
       "2      Algeria  28.03390   1.659600      60169    2011      41244   \n",
       "3      Andorra  42.50630   1.521800       5135      75       3858   \n",
       "4       Angola -11.20270  17.873900      12102     299       5350   \n",
       "\n",
       "   Recovery_percent  Death_percent  \n",
       "0          0.821271       3.705735  \n",
       "1          0.514766       2.389860  \n",
       "2          0.685469       3.342253  \n",
       "3          0.751315       1.460565  \n",
       "4          0.442076       2.470666  "
      ],
      "text/html": "<div>\n<style scoped>\n    .dataframe tbody tr th:only-of-type {\n        vertical-align: middle;\n    }\n\n    .dataframe tbody tr th {\n        vertical-align: top;\n    }\n\n    .dataframe thead th {\n        text-align: right;\n    }\n</style>\n<table border=\"1\" class=\"dataframe\">\n  <thead>\n    <tr style=\"text-align: right;\">\n      <th></th>\n      <th>Country</th>\n      <th>Lat</th>\n      <th>Long</th>\n      <th>Confirmed</th>\n      <th>Deaths</th>\n      <th>Recovered</th>\n      <th>Recovery_percent</th>\n      <th>Death_percent</th>\n    </tr>\n  </thead>\n  <tbody>\n    <tr>\n      <th>0</th>\n      <td>Afghanistan</td>\n      <td>33.93911</td>\n      <td>67.709953</td>\n      <td>41935</td>\n      <td>1554</td>\n      <td>34440</td>\n      <td>0.821271</td>\n      <td>3.705735</td>\n    </tr>\n    <tr>\n      <th>1</th>\n      <td>Albania</td>\n      <td>41.15330</td>\n      <td>20.168300</td>\n      <td>22721</td>\n      <td>543</td>\n      <td>11696</td>\n      <td>0.514766</td>\n      <td>2.389860</td>\n    </tr>\n    <tr>\n      <th>2</th>\n      <td>Algeria</td>\n      <td>28.03390</td>\n      <td>1.659600</td>\n      <td>60169</td>\n      <td>2011</td>\n      <td>41244</td>\n      <td>0.685469</td>\n      <td>3.342253</td>\n    </tr>\n    <tr>\n      <th>3</th>\n      <td>Andorra</td>\n      <td>42.50630</td>\n      <td>1.521800</td>\n      <td>5135</td>\n      <td>75</td>\n      <td>3858</td>\n      <td>0.751315</td>\n      <td>1.460565</td>\n    </tr>\n    <tr>\n      <th>4</th>\n      <td>Angola</td>\n      <td>-11.20270</td>\n      <td>17.873900</td>\n      <td>12102</td>\n      <td>299</td>\n      <td>5350</td>\n      <td>0.442076</td>\n      <td>2.470666</td>\n    </tr>\n  </tbody>\n</table>\n</div>"
     },
     "metadata": {},
     "execution_count": 31
    }
   ],
   "source": [
    "world_covid_df = world_covid_df.rename(columns={\"Long_\": \"Long\", \"Case-Fatality_Ratio\":\"Death_percent\", \"Country_Region\": \"Country\"})\n",
    "world_covid_df[\"Recovery_percent\"]=world_covid_df.Recovered/world_covid_df.Confirmed\n",
    "world_covid_df = world_covid_df[[\"Country\", \"Lat\", \"Long\", \"Confirmed\", \"Deaths\", \"Recovered\", \"Recovery_percent\", \"Death_percent\"]]\n",
    "world_covid_df.head()"
   ]
  },
  {
   "cell_type": "code",
   "execution_count": 32,
   "metadata": {},
   "outputs": [
    {
     "output_type": "execute_result",
     "data": {
      "text/plain": [
       "                 Country        Lat       Long  Confirmed  Deaths  Recovered  \\\n",
       "0            Afghanistan  33.939110  67.709953      41935    1554      34440   \n",
       "1                Albania  41.153300  20.168300      22721     543      11696   \n",
       "2                Algeria  28.033900   1.659600      60169    2011      41244   \n",
       "3                Andorra  42.506300   1.521800       5135      75       3858   \n",
       "4                 Angola -11.202700  17.873900      12102     299       5350   \n",
       "...                  ...        ...        ...        ...     ...        ...   \n",
       "3955  West Bank and Gaza  31.952200  35.233200      56672     508      48680   \n",
       "3956      Western Sahara  24.215500 -12.885800         10       1          8   \n",
       "3957               Yemen  15.552727  48.516388       2063     601       1375   \n",
       "3958              Zambia -13.133897  27.849332      16770     349      15827   \n",
       "3959            Zimbabwe -19.015438  29.154857       8444     248       7975   \n",
       "\n",
       "      Recovery_percent  Death_percent  \n",
       "0             0.821271       3.705735  \n",
       "1             0.514766       2.389860  \n",
       "2             0.685469       3.342253  \n",
       "3             0.751315       1.460565  \n",
       "4             0.442076       2.470666  \n",
       "...                ...            ...  \n",
       "3955          0.858978       0.896386  \n",
       "3956          0.800000      10.000000  \n",
       "3957          0.666505      29.132332  \n",
       "3958          0.943769       2.081097  \n",
       "3959          0.944458       2.936997  \n",
       "\n",
       "[3960 rows x 8 columns]"
      ],
      "text/html": "<div>\n<style scoped>\n    .dataframe tbody tr th:only-of-type {\n        vertical-align: middle;\n    }\n\n    .dataframe tbody tr th {\n        vertical-align: top;\n    }\n\n    .dataframe thead th {\n        text-align: right;\n    }\n</style>\n<table border=\"1\" class=\"dataframe\">\n  <thead>\n    <tr style=\"text-align: right;\">\n      <th></th>\n      <th>Country</th>\n      <th>Lat</th>\n      <th>Long</th>\n      <th>Confirmed</th>\n      <th>Deaths</th>\n      <th>Recovered</th>\n      <th>Recovery_percent</th>\n      <th>Death_percent</th>\n    </tr>\n  </thead>\n  <tbody>\n    <tr>\n      <th>0</th>\n      <td>Afghanistan</td>\n      <td>33.939110</td>\n      <td>67.709953</td>\n      <td>41935</td>\n      <td>1554</td>\n      <td>34440</td>\n      <td>0.821271</td>\n      <td>3.705735</td>\n    </tr>\n    <tr>\n      <th>1</th>\n      <td>Albania</td>\n      <td>41.153300</td>\n      <td>20.168300</td>\n      <td>22721</td>\n      <td>543</td>\n      <td>11696</td>\n      <td>0.514766</td>\n      <td>2.389860</td>\n    </tr>\n    <tr>\n      <th>2</th>\n      <td>Algeria</td>\n      <td>28.033900</td>\n      <td>1.659600</td>\n      <td>60169</td>\n      <td>2011</td>\n      <td>41244</td>\n      <td>0.685469</td>\n      <td>3.342253</td>\n    </tr>\n    <tr>\n      <th>3</th>\n      <td>Andorra</td>\n      <td>42.506300</td>\n      <td>1.521800</td>\n      <td>5135</td>\n      <td>75</td>\n      <td>3858</td>\n      <td>0.751315</td>\n      <td>1.460565</td>\n    </tr>\n    <tr>\n      <th>4</th>\n      <td>Angola</td>\n      <td>-11.202700</td>\n      <td>17.873900</td>\n      <td>12102</td>\n      <td>299</td>\n      <td>5350</td>\n      <td>0.442076</td>\n      <td>2.470666</td>\n    </tr>\n    <tr>\n      <th>...</th>\n      <td>...</td>\n      <td>...</td>\n      <td>...</td>\n      <td>...</td>\n      <td>...</td>\n      <td>...</td>\n      <td>...</td>\n      <td>...</td>\n    </tr>\n    <tr>\n      <th>3955</th>\n      <td>West Bank and Gaza</td>\n      <td>31.952200</td>\n      <td>35.233200</td>\n      <td>56672</td>\n      <td>508</td>\n      <td>48680</td>\n      <td>0.858978</td>\n      <td>0.896386</td>\n    </tr>\n    <tr>\n      <th>3956</th>\n      <td>Western Sahara</td>\n      <td>24.215500</td>\n      <td>-12.885800</td>\n      <td>10</td>\n      <td>1</td>\n      <td>8</td>\n      <td>0.800000</td>\n      <td>10.000000</td>\n    </tr>\n    <tr>\n      <th>3957</th>\n      <td>Yemen</td>\n      <td>15.552727</td>\n      <td>48.516388</td>\n      <td>2063</td>\n      <td>601</td>\n      <td>1375</td>\n      <td>0.666505</td>\n      <td>29.132332</td>\n    </tr>\n    <tr>\n      <th>3958</th>\n      <td>Zambia</td>\n      <td>-13.133897</td>\n      <td>27.849332</td>\n      <td>16770</td>\n      <td>349</td>\n      <td>15827</td>\n      <td>0.943769</td>\n      <td>2.081097</td>\n    </tr>\n    <tr>\n      <th>3959</th>\n      <td>Zimbabwe</td>\n      <td>-19.015438</td>\n      <td>29.154857</td>\n      <td>8444</td>\n      <td>248</td>\n      <td>7975</td>\n      <td>0.944458</td>\n      <td>2.936997</td>\n    </tr>\n  </tbody>\n</table>\n<p>3960 rows × 8 columns</p>\n</div>"
     },
     "metadata": {},
     "execution_count": 32
    }
   ],
   "source": [
    "for index, row in world_covid_df.iterrows(): \n",
    "    if row[\"Country\"] == \"Canada\":\n",
    "        world_covid_df.loc[index, \"Lat\"] = 56.1304\n",
    "        world_covid_df.loc[index, \"Long\"] = 106.3468\n",
    "world_covid_df"
   ]
  },
  {
   "cell_type": "code",
   "execution_count": 33,
   "metadata": {},
   "outputs": [],
   "source": [
    "world_covid_df.to_csv('../Data/world.csv')"
   ]
  },
  {
   "cell_type": "code",
   "execution_count": 275,
   "metadata": {},
   "outputs": [],
   "source": [
    "from sqlalchemy import inspect, func\n",
    "# engine = create_engine('sqlite:///covid20.db')\n",
    "\n",
    "#covid_monthly_df.to_sql(name='covid_monthly', con=engine, if_exists='replace', index=False)\n",
    "#world_covid_df.to_sql(name='covid_world', con=engine, if_exists='replace', index=False)\n",
    "#us_covid_combine_df.to_sql(name='covid_states', con=engine, if_exists='replace', index=False)\n",
    "#covid_monthly_df.to_sql('covid_monthly_avg', con=engine, if_exists='replace', index=False)\n",
    "\n",
    "## testing\n",
    "# df = pd.DataFrame({'a': [1,2],\n",
    "# 'b': [3,4]})\n",
    "# df.to_sql('test', con=engine)\n",
    "# pd.read_sql('select * from test', engine)\n",
    "# covid_monthly_df['date'] = covid_monthly_df['date'].astype(str)\n",
    "# covid_monthly_df.dtypes"
   ]
  },
  {
   "cell_type": "code",
   "execution_count": 276,
   "metadata": {},
   "outputs": [
    {
     "output_type": "execute_result",
     "data": {
      "text/plain": [
       "[]"
      ]
     },
     "metadata": {},
     "execution_count": 276
    }
   ],
   "source": [
    "inspector = inspect(engine)\n",
    "inspector.get_table_names()"
   ]
  },
  {
   "cell_type": "code",
   "execution_count": 277,
   "metadata": {},
   "outputs": [],
   "source": [
    "#columns = inspector.get_columns('monthly')\n",
    "# for c in columns:\n",
    "#     print(c['name', c['type'])"
   ]
  },
  {
   "cell_type": "code",
   "execution_count": 278,
   "metadata": {},
   "outputs": [],
   "source": [
    "# pd.read_sql('select * from covid_states', engine)\n",
    "\n"
   ]
  },
  {
   "cell_type": "code",
   "execution_count": 42,
   "metadata": {},
   "outputs": [],
   "source": [
    "import sqlite3\n",
    "from sqlite3 import Error\n",
    "def create_connection(db_file):\n",
    "    \"\"\" create a database connection to the SQLite database\n",
    "        specified by db_file\n",
    "    :param db_file: database file\n",
    "    :return: Connection object or None\n",
    "    \"\"\"\n",
    "    conn = None\n",
    "    try:\n",
    "        conn = sqlite3.connect(db_file)\n",
    "        return conn\n",
    "    except Error as e:\n",
    "        print(e)\n",
    "    return conn\n",
    "def create_table(conn, create_table_sql):\n",
    "    \"\"\" create a table from the create_table_sql statement\n",
    "    :param conn: Connection object\n",
    "    :param create_table_sql: a CREATE TABLE statement\n",
    "    :return:\n",
    "    \"\"\"\n",
    "    try:\n",
    "        c = conn.cursor()\n",
    "        c.execute(create_table_sql)\n",
    "    except Error as e:\n",
    "        print(e)\n",
    "\n",
    "def drop_table(conn, drop_table_sql):\n",
    "    \"\"\" drop a table from the drop_table_sql statement\n",
    "    :param conn: Connection object\n",
    "    :param drop_table_sql: a drop TABLE statement\n",
    "    :return:\n",
    "    \"\"\"\n",
    "    try:\n",
    "        c = conn.cursor()\n",
    "        c.execute(drop_table_sql)\n",
    "    except Error as e:\n",
    "        print(e)\n",
    "def main():\n",
    "    database = r\"../DataBase/covid-19.db\"\n",
    "    sql_create_monthly_table = \"\"\"CREATE TABLE monthly(\n",
    "                                        id INTEGER PRIMARY KEY AUTOINCREMENT, \n",
    "                                        Date text NOT NULL,\n",
    "                                        State text,\n",
    "                                        Average_cases float,\n",
    "                                        Average_death float,\n",
    "                                        Average_recovery float,\n",
    "                                        Death_percent float,\n",
    "                                        Recovery_percent float\n",
    "                                    ); \"\"\"\n",
    "\n",
    "    sql_drop_monthly_table = \"\"\"DROP TABLE if exists monthly;\"\"\"\n",
    "    \n",
    "    sql_create_states_table = \"\"\"CREATE TABLE states(\n",
    "                                        id INTEGER PRIMARY KEY AUTOINCREMENT,\n",
    "                                        State text,\n",
    "                                        Total_cases float,\n",
    "                                        Case_rate_per_100k float,\n",
    "                                        Total_deaths float,\n",
    "                                        Death_rate_per_100k float,\n",
    "                                        Lat float,\n",
    "                                        Long float,\n",
    "                                        Death_percent float,\n",
    "                                        Recovery_percent float\n",
    "                                );\"\"\"\n",
    "\n",
    "    sql_drop_states_table = \"\"\"DROP TABLE if exists states;\"\"\"    \n",
    "\n",
    "    sql_create_world_table = \"\"\"CREATE TABLE world(\n",
    "                                        id INTEGER PRIMARY KEY AUTOINCREMENT,\n",
    "                                        Country text,\n",
    "                                        Lat float,\n",
    "                                        Long float,\n",
    "                                        Confirmed float,\n",
    "                                        Deaths float,\n",
    "                                        Recovered float,\n",
    "                                        Recovery_percent float,\n",
    "                                        Death_percent float\n",
    "                                );\"\"\"\n",
    "\n",
    "    sql_drop_world_table = \"\"\"DROP TABLE if exists world;\"\"\"\n",
    "\n",
    "    # create a database connection\n",
    "    conn = create_connection(database)\n",
    "    # create tables\n",
    "    if conn is not None:\n",
    "        # create covid_monthly table\n",
    "        drop_table(conn, sql_drop_monthly_table)\n",
    "        create_table(conn, sql_create_monthly_table)\n",
    "        # create covid_states table\n",
    "        drop_table(conn, sql_drop_states_table)\n",
    "        create_table(conn, sql_create_states_table)\n",
    "        #create covid_world table\n",
    "        drop_table(conn, sql_drop_world_table)\n",
    "        create_table(conn, sql_create_world_table)\n",
    "        \n",
    "\n",
    "    else:\n",
    "        print(\"Error! cannot create the database connection.\")\n",
    "if __name__ == '__main__':\n",
    "    main()"
   ]
  },
  {
   "cell_type": "code",
   "execution_count": 43,
   "metadata": {},
   "outputs": [],
   "source": [
    "engine = create_engine('sqlite:///../DataBase/covid-19.db')\n",
    "\n",
    "covid_monthly_df.to_sql(name='monthly', con=engine, if_exists = \"append\", index=False)\n",
    "world_covid_df.to_sql(name='world', con=engine, if_exists = \"append\", index= False)\n",
    "us_covid_combine_df.to_sql(name='states', con=engine, if_exists = \"append\", index=False)\n",
    "#pd.read_sql('select * from covid_states', engine)"
   ]
  },
  {
   "cell_type": "code",
   "execution_count": 44,
   "metadata": {},
   "outputs": [
    {
     "output_type": "execute_result",
     "data": {
      "text/plain": [
       "      id     Date State  Average_cases  Average_death  Average_recovery  \\\n",
       "0      1  2020-01    AZ       0.600000       0.000000          0.600000   \n",
       "1      2  2020-01    CA       1.300000       0.000000          1.300000   \n",
       "2      3  2020-01    IL       0.900000       0.000000          0.900000   \n",
       "3      4  2020-01    WA       1.000000       0.000000          1.000000   \n",
       "4      5  2020-02    AZ       1.000000       0.000000          1.000000   \n",
       "..   ...      ...   ...            ...            ...               ...   \n",
       "630  631  2021-01    VT    9147.409091     156.136364       8991.272727   \n",
       "631  632  2021-01    WA  275277.727273    3755.090909     271522.636364   \n",
       "632  633  2021-01    WI  551989.954545    5651.772727     546338.181818   \n",
       "633  634  2021-01    WV  101820.409091    1621.090909     100199.318182   \n",
       "634  635  2021-01    WY   47613.045455     500.000000      47113.045455   \n",
       "\n",
       "     Death_percent  Recovery_percent  \n",
       "0             0.00            100.00  \n",
       "1             0.00            100.00  \n",
       "2             0.00            100.00  \n",
       "3             0.00            100.00  \n",
       "4             0.00            100.00  \n",
       "..             ...               ...  \n",
       "630           1.71             98.29  \n",
       "631           1.36             98.64  \n",
       "632           1.02             98.98  \n",
       "633           1.59             98.41  \n",
       "634           1.05             98.95  \n",
       "\n",
       "[635 rows x 8 columns]"
      ],
      "text/html": "<div>\n<style scoped>\n    .dataframe tbody tr th:only-of-type {\n        vertical-align: middle;\n    }\n\n    .dataframe tbody tr th {\n        vertical-align: top;\n    }\n\n    .dataframe thead th {\n        text-align: right;\n    }\n</style>\n<table border=\"1\" class=\"dataframe\">\n  <thead>\n    <tr style=\"text-align: right;\">\n      <th></th>\n      <th>id</th>\n      <th>Date</th>\n      <th>State</th>\n      <th>Average_cases</th>\n      <th>Average_death</th>\n      <th>Average_recovery</th>\n      <th>Death_percent</th>\n      <th>Recovery_percent</th>\n    </tr>\n  </thead>\n  <tbody>\n    <tr>\n      <th>0</th>\n      <td>1</td>\n      <td>2020-01</td>\n      <td>AZ</td>\n      <td>0.600000</td>\n      <td>0.000000</td>\n      <td>0.600000</td>\n      <td>0.00</td>\n      <td>100.00</td>\n    </tr>\n    <tr>\n      <th>1</th>\n      <td>2</td>\n      <td>2020-01</td>\n      <td>CA</td>\n      <td>1.300000</td>\n      <td>0.000000</td>\n      <td>1.300000</td>\n      <td>0.00</td>\n      <td>100.00</td>\n    </tr>\n    <tr>\n      <th>2</th>\n      <td>3</td>\n      <td>2020-01</td>\n      <td>IL</td>\n      <td>0.900000</td>\n      <td>0.000000</td>\n      <td>0.900000</td>\n      <td>0.00</td>\n      <td>100.00</td>\n    </tr>\n    <tr>\n      <th>3</th>\n      <td>4</td>\n      <td>2020-01</td>\n      <td>WA</td>\n      <td>1.000000</td>\n      <td>0.000000</td>\n      <td>1.000000</td>\n      <td>0.00</td>\n      <td>100.00</td>\n    </tr>\n    <tr>\n      <th>4</th>\n      <td>5</td>\n      <td>2020-02</td>\n      <td>AZ</td>\n      <td>1.000000</td>\n      <td>0.000000</td>\n      <td>1.000000</td>\n      <td>0.00</td>\n      <td>100.00</td>\n    </tr>\n    <tr>\n      <th>...</th>\n      <td>...</td>\n      <td>...</td>\n      <td>...</td>\n      <td>...</td>\n      <td>...</td>\n      <td>...</td>\n      <td>...</td>\n      <td>...</td>\n    </tr>\n    <tr>\n      <th>630</th>\n      <td>631</td>\n      <td>2021-01</td>\n      <td>VT</td>\n      <td>9147.409091</td>\n      <td>156.136364</td>\n      <td>8991.272727</td>\n      <td>1.71</td>\n      <td>98.29</td>\n    </tr>\n    <tr>\n      <th>631</th>\n      <td>632</td>\n      <td>2021-01</td>\n      <td>WA</td>\n      <td>275277.727273</td>\n      <td>3755.090909</td>\n      <td>271522.636364</td>\n      <td>1.36</td>\n      <td>98.64</td>\n    </tr>\n    <tr>\n      <th>632</th>\n      <td>633</td>\n      <td>2021-01</td>\n      <td>WI</td>\n      <td>551989.954545</td>\n      <td>5651.772727</td>\n      <td>546338.181818</td>\n      <td>1.02</td>\n      <td>98.98</td>\n    </tr>\n    <tr>\n      <th>633</th>\n      <td>634</td>\n      <td>2021-01</td>\n      <td>WV</td>\n      <td>101820.409091</td>\n      <td>1621.090909</td>\n      <td>100199.318182</td>\n      <td>1.59</td>\n      <td>98.41</td>\n    </tr>\n    <tr>\n      <th>634</th>\n      <td>635</td>\n      <td>2021-01</td>\n      <td>WY</td>\n      <td>47613.045455</td>\n      <td>500.000000</td>\n      <td>47113.045455</td>\n      <td>1.05</td>\n      <td>98.95</td>\n    </tr>\n  </tbody>\n</table>\n<p>635 rows × 8 columns</p>\n</div>"
     },
     "metadata": {},
     "execution_count": 44
    }
   ],
   "source": [
    "pd.read_sql('select * from monthly', engine)"
   ]
  },
  {
   "cell_type": "code",
   "execution_count": 38,
   "metadata": {},
   "outputs": [
    {
     "output_type": "execute_result",
     "data": {
      "text/plain": [
       "   State  Total_cases  Case_rate_per_100k  Total_deaths  Death_rate_per_100k  \\\n",
       "0     AK        17072                2315            84                   11   \n",
       "1     AL       199158                4074          3026                   61   \n",
       "2     AR       117360                3894          2037                   67   \n",
       "3     AS            0                   0             0                    0   \n",
       "4     AZ       252768                3524          6087                   84   \n",
       "5     CA       944576                2388         17815                   45   \n",
       "6     CO       121006                2125          2353                   41   \n",
       "7     CT        77060                2157          4656                  130   \n",
       "8     DC        17682                2517           650                   92   \n",
       "9     DE        25753                2663           716                   74   \n",
       "10    FL       816376                3833         16961                   79   \n",
       "11   FSM            0                   0             0                    0   \n",
       "12    GA       368368                3502          8126                   77   \n",
       "13    GU         5004                3019            85                   51   \n",
       "14    HI        15471                1089           218                   15   \n",
       "15    IA       141373                4479          1802                   57   \n",
       "16    ID        69579                3966           671                   38   \n",
       "17    IL       453750                3561         10313                   80   \n",
       "18    IN       196176                2932          4511                   67   \n",
       "19    KS        92215                3167          1087                   37   \n",
       "20    KY       115277                2580          1534                   34   \n",
       "21    LA       190845                4095          5995                  128   \n",
       "22    MA       170594                2472         10067                  145   \n",
       "23    MD       151505                2507          4194                   69   \n",
       "24    ME         7444                 556           150                   11   \n",
       "25    MI       218263                2186          7833                   78   \n",
       "26    MN       164865                2938          2634                   46   \n",
       "27    MO       196576                3209          3106                   50   \n",
       "28    MP           98                   0             2                    3   \n",
       "29    MS       124854                4181          3419                  114   \n",
       "30    MT        36968                3480           407                   38   \n",
       "31    NC       285661                2751          4548                   43   \n",
       "32    ND        51602                6789           613                   80   \n",
       "33    NE        78012                4044           674                   34   \n",
       "34    NH        11808                 870           486                   35   \n",
       "35    NJ       247219                2775         16403                  184   \n",
       "36    NM        51110                2439          1082                   51   \n",
       "37    NV       105360                3472          1824                   60   \n",
       "38    NY       251352                2256          9313                   83   \n",
       "39   NYC       271053                3227         24054                  286   \n",
       "40    OH       235170                2012          5461                   46   \n",
       "41    OK       136324                3457          1420                   36   \n",
       "42    OR        47839                1142           710                   16   \n",
       "43    PA       220566                1722          8937                   69   \n",
       "44    PR        70519                2207           862                   26   \n",
       "45    PW            0                   0             0                    0   \n",
       "46    RI        35750                3381          1222                  115   \n",
       "47   RMI            1                   2             0                    0   \n",
       "48    SC       181639                3573          3992                   78   \n",
       "49    SD        51151                5798           482                   54   \n",
       "50    TN       271771                4014          3509                   51   \n",
       "51    TX       934994                3258         18453                   64   \n",
       "52    UT       124292                3932           632                   19   \n",
       "53    VA       188771                2216          3682                   43   \n",
       "54    VI         1390                1328            23                   21   \n",
       "55    VT         2303                 368            58                    9   \n",
       "56    WA       112550                1494          2431                   32   \n",
       "57    WI       263571                4534          2269                   39   \n",
       "58    WV        26547                1470           480                   26   \n",
       "59    WY        15409                2667           105                   18   \n",
       "\n",
       "        Lat      Long  Death_percent  Recovery_percent  \n",
       "0   61.3707 -152.4044       0.462199          0.392044  \n",
       "1   32.3182  -86.9023       1.519397          0.424141  \n",
       "2   34.9697  -92.3731       1.735685          0.893115  \n",
       "3  -14.2710 -170.1320            NaN               NaN  \n",
       "4   33.7298 -111.4312       2.408137          0.167414  \n",
       "5   36.1162 -119.6816       1.866533               NaN  \n",
       "6   39.0598 -105.3111       1.944532          0.068327  \n",
       "7   41.5978  -72.7554       6.042045          0.127174  \n",
       "8   38.8974  -77.0268       3.676055          0.772141  \n",
       "9   39.3185  -75.5071       2.780259          0.531394  \n",
       "10  27.7663  -81.6868       2.049965               NaN  \n",
       "11      NaN       NaN            NaN               NaN  \n",
       "12  33.0406  -83.6431       2.205946               NaN  \n",
       "13  13.4443  144.7937       1.698641          0.669864  \n",
       "14  21.0943 -157.4983       1.406370          0.767917  \n",
       "15  42.0115  -93.2105       1.273063          0.688022  \n",
       "16  44.2405 -114.4788       0.964371          0.448555  \n",
       "17  40.3495  -88.9861       2.272898               NaN  \n",
       "18  39.8494  -86.2583       2.299466          0.655911  \n",
       "19  38.5266  -96.7265       1.195965          0.030514  \n",
       "20  37.6681  -84.6701       1.330708          0.176132  \n",
       "21  31.1695  -91.8678       3.226154          0.926732  \n",
       "22  42.2302  -71.5301       6.106163          0.797077  \n",
       "23  39.0639  -76.8021       2.788669          0.055047  \n",
       "24  44.6939  -69.3819       2.066116          0.792149  \n",
       "25  43.3266  -84.5361       3.588790          0.554803  \n",
       "26  45.6945  -93.9002       1.582507          0.835981  \n",
       "27  38.4561  -92.2884       1.558173               NaN  \n",
       "28  15.0979  145.6739       2.040816          0.295918  \n",
       "29  32.7416  -89.6787       2.748472          0.854319  \n",
       "30  46.9219 -110.4544       1.100952          0.630275  \n",
       "31  35.6301  -79.8064       1.592097          0.862274  \n",
       "32  47.5289  -99.7840       1.195899          0.802958  \n",
       "33  41.1254  -98.2681       0.863970          0.586730  \n",
       "34  43.4525  -71.5639       4.115854          0.827913  \n",
       "35  40.2989  -74.5210       6.635008          0.152480  \n",
       "36  34.8405 -106.2485       2.117003          0.435805  \n",
       "37  38.3135 -117.0554       1.731207          0.023833  \n",
       "38  42.1657  -74.9481       6.487321          0.154632  \n",
       "39      NaN       NaN            NaN               NaN  \n",
       "40  40.3888  -82.7649       2.322150          0.759646  \n",
       "41  35.5653  -96.9289       1.087986          0.860032  \n",
       "42  44.5720 -122.0709       1.484145          0.122703  \n",
       "43  40.5908  -77.2098       3.953513          0.732944  \n",
       "44  18.2208  -66.5901       1.231705          0.449205  \n",
       "45      NaN       NaN            NaN               NaN  \n",
       "46  41.6809  -71.5118       3.418182          0.080587  \n",
       "47      NaN       NaN            NaN               NaN  \n",
       "48  33.8569  -80.9450       2.197766          0.519343  \n",
       "49  44.2998  -99.4388       0.942308          0.724502  \n",
       "50  35.7478  -86.6923       1.291161          0.895945  \n",
       "51  31.0545  -97.5635       1.950201          0.827869  \n",
       "52  40.1500 -111.8624       0.508480          0.722790  \n",
       "53  37.7693  -78.1700       1.970064          0.113722  \n",
       "54  18.3358  -64.8963       1.657061          0.959654  \n",
       "55  44.0459  -72.7107       2.518454          0.819800  \n",
       "56  47.4009 -121.4905       2.159929               NaN  \n",
       "57  44.2685  -89.6165       0.877867          0.773711  \n",
       "58  38.4912  -80.9545       1.815648          0.759973  \n",
       "59  42.7560 -107.3025       0.681420          0.630086  "
      ],
      "text/html": "<div>\n<style scoped>\n    .dataframe tbody tr th:only-of-type {\n        vertical-align: middle;\n    }\n\n    .dataframe tbody tr th {\n        vertical-align: top;\n    }\n\n    .dataframe thead th {\n        text-align: right;\n    }\n</style>\n<table border=\"1\" class=\"dataframe\">\n  <thead>\n    <tr style=\"text-align: right;\">\n      <th></th>\n      <th>State</th>\n      <th>Total_cases</th>\n      <th>Case_rate_per_100k</th>\n      <th>Total_deaths</th>\n      <th>Death_rate_per_100k</th>\n      <th>Lat</th>\n      <th>Long</th>\n      <th>Death_percent</th>\n      <th>Recovery_percent</th>\n    </tr>\n  </thead>\n  <tbody>\n    <tr>\n      <th>0</th>\n      <td>AK</td>\n      <td>17072</td>\n      <td>2315</td>\n      <td>84</td>\n      <td>11</td>\n      <td>61.3707</td>\n      <td>-152.4044</td>\n      <td>0.462199</td>\n      <td>0.392044</td>\n    </tr>\n    <tr>\n      <th>1</th>\n      <td>AL</td>\n      <td>199158</td>\n      <td>4074</td>\n      <td>3026</td>\n      <td>61</td>\n      <td>32.3182</td>\n      <td>-86.9023</td>\n      <td>1.519397</td>\n      <td>0.424141</td>\n    </tr>\n    <tr>\n      <th>2</th>\n      <td>AR</td>\n      <td>117360</td>\n      <td>3894</td>\n      <td>2037</td>\n      <td>67</td>\n      <td>34.9697</td>\n      <td>-92.3731</td>\n      <td>1.735685</td>\n      <td>0.893115</td>\n    </tr>\n    <tr>\n      <th>3</th>\n      <td>AS</td>\n      <td>0</td>\n      <td>0</td>\n      <td>0</td>\n      <td>0</td>\n      <td>-14.2710</td>\n      <td>-170.1320</td>\n      <td>NaN</td>\n      <td>NaN</td>\n    </tr>\n    <tr>\n      <th>4</th>\n      <td>AZ</td>\n      <td>252768</td>\n      <td>3524</td>\n      <td>6087</td>\n      <td>84</td>\n      <td>33.7298</td>\n      <td>-111.4312</td>\n      <td>2.408137</td>\n      <td>0.167414</td>\n    </tr>\n    <tr>\n      <th>5</th>\n      <td>CA</td>\n      <td>944576</td>\n      <td>2388</td>\n      <td>17815</td>\n      <td>45</td>\n      <td>36.1162</td>\n      <td>-119.6816</td>\n      <td>1.866533</td>\n      <td>NaN</td>\n    </tr>\n    <tr>\n      <th>6</th>\n      <td>CO</td>\n      <td>121006</td>\n      <td>2125</td>\n      <td>2353</td>\n      <td>41</td>\n      <td>39.0598</td>\n      <td>-105.3111</td>\n      <td>1.944532</td>\n      <td>0.068327</td>\n    </tr>\n    <tr>\n      <th>7</th>\n      <td>CT</td>\n      <td>77060</td>\n      <td>2157</td>\n      <td>4656</td>\n      <td>130</td>\n      <td>41.5978</td>\n      <td>-72.7554</td>\n      <td>6.042045</td>\n      <td>0.127174</td>\n    </tr>\n    <tr>\n      <th>8</th>\n      <td>DC</td>\n      <td>17682</td>\n      <td>2517</td>\n      <td>650</td>\n      <td>92</td>\n      <td>38.8974</td>\n      <td>-77.0268</td>\n      <td>3.676055</td>\n      <td>0.772141</td>\n    </tr>\n    <tr>\n      <th>9</th>\n      <td>DE</td>\n      <td>25753</td>\n      <td>2663</td>\n      <td>716</td>\n      <td>74</td>\n      <td>39.3185</td>\n      <td>-75.5071</td>\n      <td>2.780259</td>\n      <td>0.531394</td>\n    </tr>\n    <tr>\n      <th>10</th>\n      <td>FL</td>\n      <td>816376</td>\n      <td>3833</td>\n      <td>16961</td>\n      <td>79</td>\n      <td>27.7663</td>\n      <td>-81.6868</td>\n      <td>2.049965</td>\n      <td>NaN</td>\n    </tr>\n    <tr>\n      <th>11</th>\n      <td>FSM</td>\n      <td>0</td>\n      <td>0</td>\n      <td>0</td>\n      <td>0</td>\n      <td>NaN</td>\n      <td>NaN</td>\n      <td>NaN</td>\n      <td>NaN</td>\n    </tr>\n    <tr>\n      <th>12</th>\n      <td>GA</td>\n      <td>368368</td>\n      <td>3502</td>\n      <td>8126</td>\n      <td>77</td>\n      <td>33.0406</td>\n      <td>-83.6431</td>\n      <td>2.205946</td>\n      <td>NaN</td>\n    </tr>\n    <tr>\n      <th>13</th>\n      <td>GU</td>\n      <td>5004</td>\n      <td>3019</td>\n      <td>85</td>\n      <td>51</td>\n      <td>13.4443</td>\n      <td>144.7937</td>\n      <td>1.698641</td>\n      <td>0.669864</td>\n    </tr>\n    <tr>\n      <th>14</th>\n      <td>HI</td>\n      <td>15471</td>\n      <td>1089</td>\n      <td>218</td>\n      <td>15</td>\n      <td>21.0943</td>\n      <td>-157.4983</td>\n      <td>1.406370</td>\n      <td>0.767917</td>\n    </tr>\n    <tr>\n      <th>15</th>\n      <td>IA</td>\n      <td>141373</td>\n      <td>4479</td>\n      <td>1802</td>\n      <td>57</td>\n      <td>42.0115</td>\n      <td>-93.2105</td>\n      <td>1.273063</td>\n      <td>0.688022</td>\n    </tr>\n    <tr>\n      <th>16</th>\n      <td>ID</td>\n      <td>69579</td>\n      <td>3966</td>\n      <td>671</td>\n      <td>38</td>\n      <td>44.2405</td>\n      <td>-114.4788</td>\n      <td>0.964371</td>\n      <td>0.448555</td>\n    </tr>\n    <tr>\n      <th>17</th>\n      <td>IL</td>\n      <td>453750</td>\n      <td>3561</td>\n      <td>10313</td>\n      <td>80</td>\n      <td>40.3495</td>\n      <td>-88.9861</td>\n      <td>2.272898</td>\n      <td>NaN</td>\n    </tr>\n    <tr>\n      <th>18</th>\n      <td>IN</td>\n      <td>196176</td>\n      <td>2932</td>\n      <td>4511</td>\n      <td>67</td>\n      <td>39.8494</td>\n      <td>-86.2583</td>\n      <td>2.299466</td>\n      <td>0.655911</td>\n    </tr>\n    <tr>\n      <th>19</th>\n      <td>KS</td>\n      <td>92215</td>\n      <td>3167</td>\n      <td>1087</td>\n      <td>37</td>\n      <td>38.5266</td>\n      <td>-96.7265</td>\n      <td>1.195965</td>\n      <td>0.030514</td>\n    </tr>\n    <tr>\n      <th>20</th>\n      <td>KY</td>\n      <td>115277</td>\n      <td>2580</td>\n      <td>1534</td>\n      <td>34</td>\n      <td>37.6681</td>\n      <td>-84.6701</td>\n      <td>1.330708</td>\n      <td>0.176132</td>\n    </tr>\n    <tr>\n      <th>21</th>\n      <td>LA</td>\n      <td>190845</td>\n      <td>4095</td>\n      <td>5995</td>\n      <td>128</td>\n      <td>31.1695</td>\n      <td>-91.8678</td>\n      <td>3.226154</td>\n      <td>0.926732</td>\n    </tr>\n    <tr>\n      <th>22</th>\n      <td>MA</td>\n      <td>170594</td>\n      <td>2472</td>\n      <td>10067</td>\n      <td>145</td>\n      <td>42.2302</td>\n      <td>-71.5301</td>\n      <td>6.106163</td>\n      <td>0.797077</td>\n    </tr>\n    <tr>\n      <th>23</th>\n      <td>MD</td>\n      <td>151505</td>\n      <td>2507</td>\n      <td>4194</td>\n      <td>69</td>\n      <td>39.0639</td>\n      <td>-76.8021</td>\n      <td>2.788669</td>\n      <td>0.055047</td>\n    </tr>\n    <tr>\n      <th>24</th>\n      <td>ME</td>\n      <td>7444</td>\n      <td>556</td>\n      <td>150</td>\n      <td>11</td>\n      <td>44.6939</td>\n      <td>-69.3819</td>\n      <td>2.066116</td>\n      <td>0.792149</td>\n    </tr>\n    <tr>\n      <th>25</th>\n      <td>MI</td>\n      <td>218263</td>\n      <td>2186</td>\n      <td>7833</td>\n      <td>78</td>\n      <td>43.3266</td>\n      <td>-84.5361</td>\n      <td>3.588790</td>\n      <td>0.554803</td>\n    </tr>\n    <tr>\n      <th>26</th>\n      <td>MN</td>\n      <td>164865</td>\n      <td>2938</td>\n      <td>2634</td>\n      <td>46</td>\n      <td>45.6945</td>\n      <td>-93.9002</td>\n      <td>1.582507</td>\n      <td>0.835981</td>\n    </tr>\n    <tr>\n      <th>27</th>\n      <td>MO</td>\n      <td>196576</td>\n      <td>3209</td>\n      <td>3106</td>\n      <td>50</td>\n      <td>38.4561</td>\n      <td>-92.2884</td>\n      <td>1.558173</td>\n      <td>NaN</td>\n    </tr>\n    <tr>\n      <th>28</th>\n      <td>MP</td>\n      <td>98</td>\n      <td>0</td>\n      <td>2</td>\n      <td>3</td>\n      <td>15.0979</td>\n      <td>145.6739</td>\n      <td>2.040816</td>\n      <td>0.295918</td>\n    </tr>\n    <tr>\n      <th>29</th>\n      <td>MS</td>\n      <td>124854</td>\n      <td>4181</td>\n      <td>3419</td>\n      <td>114</td>\n      <td>32.7416</td>\n      <td>-89.6787</td>\n      <td>2.748472</td>\n      <td>0.854319</td>\n    </tr>\n    <tr>\n      <th>30</th>\n      <td>MT</td>\n      <td>36968</td>\n      <td>3480</td>\n      <td>407</td>\n      <td>38</td>\n      <td>46.9219</td>\n      <td>-110.4544</td>\n      <td>1.100952</td>\n      <td>0.630275</td>\n    </tr>\n    <tr>\n      <th>31</th>\n      <td>NC</td>\n      <td>285661</td>\n      <td>2751</td>\n      <td>4548</td>\n      <td>43</td>\n      <td>35.6301</td>\n      <td>-79.8064</td>\n      <td>1.592097</td>\n      <td>0.862274</td>\n    </tr>\n    <tr>\n      <th>32</th>\n      <td>ND</td>\n      <td>51602</td>\n      <td>6789</td>\n      <td>613</td>\n      <td>80</td>\n      <td>47.5289</td>\n      <td>-99.7840</td>\n      <td>1.195899</td>\n      <td>0.802958</td>\n    </tr>\n    <tr>\n      <th>33</th>\n      <td>NE</td>\n      <td>78012</td>\n      <td>4044</td>\n      <td>674</td>\n      <td>34</td>\n      <td>41.1254</td>\n      <td>-98.2681</td>\n      <td>0.863970</td>\n      <td>0.586730</td>\n    </tr>\n    <tr>\n      <th>34</th>\n      <td>NH</td>\n      <td>11808</td>\n      <td>870</td>\n      <td>486</td>\n      <td>35</td>\n      <td>43.4525</td>\n      <td>-71.5639</td>\n      <td>4.115854</td>\n      <td>0.827913</td>\n    </tr>\n    <tr>\n      <th>35</th>\n      <td>NJ</td>\n      <td>247219</td>\n      <td>2775</td>\n      <td>16403</td>\n      <td>184</td>\n      <td>40.2989</td>\n      <td>-74.5210</td>\n      <td>6.635008</td>\n      <td>0.152480</td>\n    </tr>\n    <tr>\n      <th>36</th>\n      <td>NM</td>\n      <td>51110</td>\n      <td>2439</td>\n      <td>1082</td>\n      <td>51</td>\n      <td>34.8405</td>\n      <td>-106.2485</td>\n      <td>2.117003</td>\n      <td>0.435805</td>\n    </tr>\n    <tr>\n      <th>37</th>\n      <td>NV</td>\n      <td>105360</td>\n      <td>3472</td>\n      <td>1824</td>\n      <td>60</td>\n      <td>38.3135</td>\n      <td>-117.0554</td>\n      <td>1.731207</td>\n      <td>0.023833</td>\n    </tr>\n    <tr>\n      <th>38</th>\n      <td>NY</td>\n      <td>251352</td>\n      <td>2256</td>\n      <td>9313</td>\n      <td>83</td>\n      <td>42.1657</td>\n      <td>-74.9481</td>\n      <td>6.487321</td>\n      <td>0.154632</td>\n    </tr>\n    <tr>\n      <th>39</th>\n      <td>NYC</td>\n      <td>271053</td>\n      <td>3227</td>\n      <td>24054</td>\n      <td>286</td>\n      <td>NaN</td>\n      <td>NaN</td>\n      <td>NaN</td>\n      <td>NaN</td>\n    </tr>\n    <tr>\n      <th>40</th>\n      <td>OH</td>\n      <td>235170</td>\n      <td>2012</td>\n      <td>5461</td>\n      <td>46</td>\n      <td>40.3888</td>\n      <td>-82.7649</td>\n      <td>2.322150</td>\n      <td>0.759646</td>\n    </tr>\n    <tr>\n      <th>41</th>\n      <td>OK</td>\n      <td>136324</td>\n      <td>3457</td>\n      <td>1420</td>\n      <td>36</td>\n      <td>35.5653</td>\n      <td>-96.9289</td>\n      <td>1.087986</td>\n      <td>0.860032</td>\n    </tr>\n    <tr>\n      <th>42</th>\n      <td>OR</td>\n      <td>47839</td>\n      <td>1142</td>\n      <td>710</td>\n      <td>16</td>\n      <td>44.5720</td>\n      <td>-122.0709</td>\n      <td>1.484145</td>\n      <td>0.122703</td>\n    </tr>\n    <tr>\n      <th>43</th>\n      <td>PA</td>\n      <td>220566</td>\n      <td>1722</td>\n      <td>8937</td>\n      <td>69</td>\n      <td>40.5908</td>\n      <td>-77.2098</td>\n      <td>3.953513</td>\n      <td>0.732944</td>\n    </tr>\n    <tr>\n      <th>44</th>\n      <td>PR</td>\n      <td>70519</td>\n      <td>2207</td>\n      <td>862</td>\n      <td>26</td>\n      <td>18.2208</td>\n      <td>-66.5901</td>\n      <td>1.231705</td>\n      <td>0.449205</td>\n    </tr>\n    <tr>\n      <th>45</th>\n      <td>PW</td>\n      <td>0</td>\n      <td>0</td>\n      <td>0</td>\n      <td>0</td>\n      <td>NaN</td>\n      <td>NaN</td>\n      <td>NaN</td>\n      <td>NaN</td>\n    </tr>\n    <tr>\n      <th>46</th>\n      <td>RI</td>\n      <td>35750</td>\n      <td>3381</td>\n      <td>1222</td>\n      <td>115</td>\n      <td>41.6809</td>\n      <td>-71.5118</td>\n      <td>3.418182</td>\n      <td>0.080587</td>\n    </tr>\n    <tr>\n      <th>47</th>\n      <td>RMI</td>\n      <td>1</td>\n      <td>2</td>\n      <td>0</td>\n      <td>0</td>\n      <td>NaN</td>\n      <td>NaN</td>\n      <td>NaN</td>\n      <td>NaN</td>\n    </tr>\n    <tr>\n      <th>48</th>\n      <td>SC</td>\n      <td>181639</td>\n      <td>3573</td>\n      <td>3992</td>\n      <td>78</td>\n      <td>33.8569</td>\n      <td>-80.9450</td>\n      <td>2.197766</td>\n      <td>0.519343</td>\n    </tr>\n    <tr>\n      <th>49</th>\n      <td>SD</td>\n      <td>51151</td>\n      <td>5798</td>\n      <td>482</td>\n      <td>54</td>\n      <td>44.2998</td>\n      <td>-99.4388</td>\n      <td>0.942308</td>\n      <td>0.724502</td>\n    </tr>\n    <tr>\n      <th>50</th>\n      <td>TN</td>\n      <td>271771</td>\n      <td>4014</td>\n      <td>3509</td>\n      <td>51</td>\n      <td>35.7478</td>\n      <td>-86.6923</td>\n      <td>1.291161</td>\n      <td>0.895945</td>\n    </tr>\n    <tr>\n      <th>51</th>\n      <td>TX</td>\n      <td>934994</td>\n      <td>3258</td>\n      <td>18453</td>\n      <td>64</td>\n      <td>31.0545</td>\n      <td>-97.5635</td>\n      <td>1.950201</td>\n      <td>0.827869</td>\n    </tr>\n    <tr>\n      <th>52</th>\n      <td>UT</td>\n      <td>124292</td>\n      <td>3932</td>\n      <td>632</td>\n      <td>19</td>\n      <td>40.1500</td>\n      <td>-111.8624</td>\n      <td>0.508480</td>\n      <td>0.722790</td>\n    </tr>\n    <tr>\n      <th>53</th>\n      <td>VA</td>\n      <td>188771</td>\n      <td>2216</td>\n      <td>3682</td>\n      <td>43</td>\n      <td>37.7693</td>\n      <td>-78.1700</td>\n      <td>1.970064</td>\n      <td>0.113722</td>\n    </tr>\n    <tr>\n      <th>54</th>\n      <td>VI</td>\n      <td>1390</td>\n      <td>1328</td>\n      <td>23</td>\n      <td>21</td>\n      <td>18.3358</td>\n      <td>-64.8963</td>\n      <td>1.657061</td>\n      <td>0.959654</td>\n    </tr>\n    <tr>\n      <th>55</th>\n      <td>VT</td>\n      <td>2303</td>\n      <td>368</td>\n      <td>58</td>\n      <td>9</td>\n      <td>44.0459</td>\n      <td>-72.7107</td>\n      <td>2.518454</td>\n      <td>0.819800</td>\n    </tr>\n    <tr>\n      <th>56</th>\n      <td>WA</td>\n      <td>112550</td>\n      <td>1494</td>\n      <td>2431</td>\n      <td>32</td>\n      <td>47.4009</td>\n      <td>-121.4905</td>\n      <td>2.159929</td>\n      <td>NaN</td>\n    </tr>\n    <tr>\n      <th>57</th>\n      <td>WI</td>\n      <td>263571</td>\n      <td>4534</td>\n      <td>2269</td>\n      <td>39</td>\n      <td>44.2685</td>\n      <td>-89.6165</td>\n      <td>0.877867</td>\n      <td>0.773711</td>\n    </tr>\n    <tr>\n      <th>58</th>\n      <td>WV</td>\n      <td>26547</td>\n      <td>1470</td>\n      <td>480</td>\n      <td>26</td>\n      <td>38.4912</td>\n      <td>-80.9545</td>\n      <td>1.815648</td>\n      <td>0.759973</td>\n    </tr>\n    <tr>\n      <th>59</th>\n      <td>WY</td>\n      <td>15409</td>\n      <td>2667</td>\n      <td>105</td>\n      <td>18</td>\n      <td>42.7560</td>\n      <td>-107.3025</td>\n      <td>0.681420</td>\n      <td>0.630086</td>\n    </tr>\n  </tbody>\n</table>\n</div>"
     },
     "metadata": {},
     "execution_count": 38
    }
   ],
   "source": [
    "pd.read_sql('select * from states', engine)"
   ]
  },
  {
   "cell_type": "code",
   "execution_count": 40,
   "metadata": {},
   "outputs": [
    {
     "output_type": "execute_result",
     "data": {
      "text/plain": [
       "<Response [200]>"
      ]
     },
     "metadata": {},
     "execution_count": 40
    }
   ],
   "source": [
    "import requests\n",
    "url=\"http://127.0.0.1:5000/api/v1.0/monthly\"\n",
    "resp=requests.get(url)\n",
    "resp"
   ]
  },
  {
   "cell_type": "code",
   "execution_count": 41,
   "metadata": {},
   "outputs": [
    {
     "output_type": "execute_result",
     "data": {
      "text/plain": [
       "[]"
      ]
     },
     "metadata": {},
     "execution_count": 41
    }
   ],
   "source": [
    "data = resp.json()\n",
    "data"
   ]
  },
  {
   "cell_type": "code",
   "execution_count": null,
   "metadata": {},
   "outputs": [],
   "source": []
  }
 ]
}